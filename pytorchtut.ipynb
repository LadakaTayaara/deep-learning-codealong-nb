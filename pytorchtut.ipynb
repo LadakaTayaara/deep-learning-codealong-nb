{
 "cells": [
  {
   "cell_type": "code",
   "execution_count": 16,
   "id": "d93e33f0-8c7a-493e-9023-b98f169a845c",
   "metadata": {
    "collapsed": true,
    "jupyter": {
     "outputs_hidden": true
    }
   },
   "outputs": [
    {
     "name": "stdout",
     "output_type": "stream",
     "text": [
      "2.6.0+cu126\n",
      "[Parameter containing:\n",
      "tensor([-0.5259], requires_grad=True), Parameter containing:\n",
      "tensor([-2.6043], requires_grad=True)]\n"
     ]
    }
   ],
   "source": [
    "import torch\n",
    "from torch import nn # neural networks\n",
    "import matplotlib.pyplot as plt\n",
    "import torch.version\n",
    "\n",
    "# check pytorch version\n",
    "print(torch.__version__)\n",
    "\n",
    "weight = 0.7\n",
    "bias = 0.3\n",
    "\n",
    "start = 0\n",
    "end = 1\n",
    "step = 0.02\n",
    "\n",
    "# extra bracket required for the model\n",
    "X = torch.arange(start, end, step).unsqueeze(dim=1)\n",
    "\n",
    "# linear regression basic formula\n",
    "y = weight * X + bias\n",
    "\n",
    "# 80% of data is being used for training split\n",
    "train_split = int(0.8 * len(X))\n",
    "X_train, y_train = X[:train_split], y[:train_split]\n",
    "X_test, y_test = X[train_split:], y[train_split:]\n",
    "\n",
    "# function to plot data and predictions\n",
    "def plot_prediction(train_data=X_train,\n",
    "                    train_labels=y_train,\n",
    "                    test_data=X_test,\n",
    "                    test_labels=y_test,\n",
    "                    predictions=None):\n",
    "    plt.figure(figsize=(10, 7))\n",
    "\n",
    "    # plot training data in blue\n",
    "    plt.scatter(train_data, train_labels, c=\"b\", s=4, label=\"training data\")\n",
    "\n",
    "    # plot test data in green\n",
    "    plt.scatter(test_data, test_labels, c=\"g\", s=4, label=\"testing data\")\n",
    "\n",
    "    # check for predictions\n",
    "    if predictions is not None:\n",
    "        # plot predictions if they exist\n",
    "        plt.scatter(test_data, predictions, c=\"r\", s=4, label=\"predictions\")\n",
    "\n",
    "    # to show legends\n",
    "    plt.legend(prop={\"size\": 14})\n",
    "\n",
    "# create linear regression model class\n",
    "class LinearRegressionModel(nn.Module): # almost everything in pytorch inherits from nn.module\n",
    "    def __init__(self):\n",
    "        super().__init__()\n",
    "\n",
    "        # initialize model parameters, we won't be doing it in complex datasets \n",
    "        self.weights = nn.Parameter(torch.randn(1,\n",
    "                                                requires_grad=True, # default it is true\n",
    "                                                dtype=torch.float))\n",
    "        self.bias = nn.Parameter(torch.randn(1,\n",
    "                                             requires_grad=True,\n",
    "                                             dtype=torch.float)) # this is float 32\n",
    "        \n",
    "    # forward method to define the computation in the model\n",
    "    def forward(self, x: torch.tensor) -> torch.Tensor: # x is the input data ,arrows means returns a torch.tensor\n",
    "        return torch.sigmoid(self.weights * x + self.bias) # sigmoid makes output stay between 0 and 1\n",
    "\n",
    "# create a random seed\n",
    "torch.manual_seed(69)\n",
    "\n",
    "# create instance of the model created (this is a subclass of nn.Module)\n",
    "model_0 = LinearRegressionModel()\n",
    "\n",
    "# check out parameters\n",
    "print(list(model_0.parameters()))\n"
   ]
  },
  {
   "cell_type": "markdown",
   "id": "55cf164e-1f49-40d7-9b21-12f5ed18a5cf",
   "metadata": {},
   "source": [
    "from here on we write code line by line just like mentioned in the tutorial "
   ]
  },
  {
   "cell_type": "code",
   "execution_count": 26,
   "id": "7e8251fa-e98b-4ce8-8699-0e2b22c03581",
   "metadata": {},
   "outputs": [
    {
     "data": {
      "text/plain": [
       "tensor([[0.4230],\n",
       "        [0.4273],\n",
       "        [0.4316],\n",
       "        [0.4360],\n",
       "        [0.4404],\n",
       "        [0.4449],\n",
       "        [0.4494],\n",
       "        [0.4539],\n",
       "        [0.4585],\n",
       "        [0.4631]])"
      ]
     },
     "execution_count": 26,
     "metadata": {},
     "output_type": "execute_result"
    }
   ],
   "source": [
    "with torch.inference_mode():#torch.no_grad() also does the job but inference is preffered\n",
    "    y_preds=model_0(X_test)*10\n",
    "    y_preds= y_preds.flip(0)\n",
    "\n",
    "y_preds"
   ]
  },
  {
   "cell_type": "code",
   "execution_count": 27,
   "id": "597d0f99-ef4c-4de2-839d-4efa17a093e7",
   "metadata": {},
   "outputs": [
    {
     "data": {
      "image/png": "[encoded data removed]",
      "text/plain": [
       "<Figure size 1000x700 with 1 Axes>"
      ]
     },
     "metadata": {},
     "output_type": "display_data"
    }
   ],
   "source": [
    "plot_prediction(predictions=y_preds)"
   ]
  },
  {
   "cell_type": "markdown",
   "id": "fc931bb1-859d-4d3a-8368-952903769431",
   "metadata": {},
   "source": [
    "the whole idea of training is for a model to move from some unknown parameters to known parameters, write now we are getting shitty predictions on the graph \n",
    "\n",
    "one way to measure the error in predictions is to use loss function/cost function/criterion"
   ]
  },
  {
   "cell_type": "code",
   "execution_count": 13,
   "id": "86f0363d-6905-46ee-aefc-9efdeb984312",
   "metadata": {},
   "outputs": [
    {
     "data": {
      "text/plain": [
       "OrderedDict([('weights', tensor([-0.5259])), ('bias', tensor([-2.6043]))])"
      ]
     },
     "execution_count": 13,
     "metadata": {},
     "output_type": "execute_result"
    }
   ],
   "source": [
    "model_0.state_dict()"
   ]
  },
  {
   "cell_type": "markdown",
   "id": "09c1c00d-4293-46a3-a90d-b538b3134f29",
   "metadata": {},
   "source": [
    "now we setup loss function and optimizer\n",
    "\n",
    "there are lots of loss function , we will use L1loss , a common loss function (this is mean absolute error)"
   ]
  },
  {
   "cell_type": "code",
   "execution_count": null,
   "id": "bbd79422-9e58-404e-a73d-68009a7ab07f",
   "metadata": {},
   "outputs": [],
   "source": [
    "#setup a loss functions \n",
    "loss_fn=nn.L1Loss()#aim is to minimize the distance between the prediction and actual line \n",
    "\n",
    "#setup an optimizer(stochastic gradient descent)\n",
    "optimizer=torch.optim.SGD(params=model.parameter(),\n",
    "                         lr=0.01)#learning rate = possibly the most important hyper parameter you can set\n"
   ]
  }
 ],
 "metadata": {
  "kernelspec": {
   "display_name": "Python 3 (ipykernel)",
   "language": "python",
   "name": "python3"
  },
  "language_info": {
   "codemirror_mode": {
    "name": "ipython",
    "version": 3
   },
   "file_extension": ".py",
   "mimetype": "text/x-python",
   "name": "python",
   "nbconvert_exporter": "python",
   "pygments_lexer": "ipython3",
   "version": "3.12.8"
  }
 },
 "nbformat": 4,
 "nbformat_minor": 5
}
