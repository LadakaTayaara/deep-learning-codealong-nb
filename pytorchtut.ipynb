{
 "cells": [
  {
   "cell_type": "code",
   "execution_count": 1,
   "id": "d93e33f0-8c7a-493e-9023-b98f169a845c",
   "metadata": {},
   "outputs": [
    {
     "name": "stdout",
     "output_type": "stream",
     "text": [
      "2.6.0+cu126\n",
      "[Parameter containing:\n",
      "tensor([-0.5259], requires_grad=True), Parameter containing:\n",
      "tensor([-2.6043], requires_grad=True)]\n"
     ]
    }
   ],
   "source": [
    "import torch\n",
    "from torch import nn # neural networks\n",
    "import matplotlib.pyplot as plt\n",
    "import torch.version\n",
    "import numpy as np\n",
    "\n",
    "# check pytorch version\n",
    "print(torch.__version__)\n",
    "\n",
    "weight = 0.7\n",
    "bias = 0.3\n",
    "\n",
    "start = 0\n",
    "end = 1\n",
    "step = 0.02\n",
    "\n",
    "# extra bracket required for the model\n",
    "X = torch.arange(start, end, step).unsqueeze(dim=1)\n",
    "\n",
    "# linear regression basic formula\n",
    "y = weight * X + bias\n",
    "\n",
    "# 80% of data is being used for training split\n",
    "train_split = int(0.8 * len(X))\n",
    "X_train, y_train = X[:train_split], y[:train_split]\n",
    "X_test, y_test = X[train_split:], y[train_split:]\n",
    "\n",
    "# function to plot data and predictions\n",
    "def plot_prediction(train_data=X_train,\n",
    "                    train_labels=y_train,\n",
    "                    test_data=X_test,\n",
    "                    test_labels=y_test,\n",
    "                    predictions=None):\n",
    "    plt.figure(figsize=(10, 7))\n",
    "\n",
    "    # plot training data in blue\n",
    "    plt.scatter(train_data, train_labels, c=\"b\", s=4, label=\"training data\")\n",
    "\n",
    "    # plot test data in green\n",
    "    plt.scatter(test_data, test_labels, c=\"g\", s=4, label=\"testing data\")\n",
    "\n",
    "    # check for predictions\n",
    "    if predictions is not None:\n",
    "        # plot predictions if they exist\n",
    "        plt.scatter(test_data, predictions, c=\"r\", s=4, label=\"predictions\")\n",
    "\n",
    "    # to show legends\n",
    "    plt.legend(prop={\"size\": 14})\n",
    "\n",
    "# create linear regression model class\n",
    "class LinearRegressionModel(nn.Module): # almost everything in pytorch inherits from nn.module\n",
    "    def __init__(self):\n",
    "        super().__init__()\n",
    "\n",
    "        # initialize model parameters, we won't be doing it in complex datasets \n",
    "        self.weights = nn.Parameter(torch.randn(1,\n",
    "                                                requires_grad=True, # default it is true\n",
    "                                                dtype=torch.float))\n",
    "        self.bias = nn.Parameter(torch.randn(1,\n",
    "                                             requires_grad=True,\n",
    "                                             dtype=torch.float)) # this is float 32\n",
    "        \n",
    "    # forward method to define the computation in the model\n",
    "    def forward(self, x: torch.tensor) -> torch.Tensor: # x is the input data ,arrows means returns a torch.tensor\n",
    "        return torch.sigmoid(self.weights * x + self.bias) # sigmoid makes output stay between 0 and 1\n",
    "\n",
    "# create a random seed\n",
    "torch.manual_seed(69)\n",
    "\n",
    "# create instance of the model created (this is a subclass of nn.Module)\n",
    "model_0 = LinearRegressionModel()\n",
    "\n",
    "# check out parameters\n",
    "print(list(model_0.parameters()))\n"
   ]
  },
  {
   "cell_type": "markdown",
   "id": "55cf164e-1f49-40d7-9b21-12f5ed18a5cf",
   "metadata": {},
   "source": [
    "from here on we write code line by line just like mentioned in the tutorial "
   ]
  },
  {
   "cell_type": "code",
   "execution_count": 2,
   "id": "7e8251fa-e98b-4ce8-8699-0e2b22c03581",
   "metadata": {},
   "outputs": [
    {
     "data": {
      "text/plain": [
       "tensor([[0.4230],\n",
       "        [0.4273],\n",
       "        [0.4316],\n",
       "        [0.4360],\n",
       "        [0.4404],\n",
       "        [0.4449],\n",
       "        [0.4494],\n",
       "        [0.4539],\n",
       "        [0.4585],\n",
       "        [0.4631]])"
      ]
     },
     "execution_count": 2,
     "metadata": {},
     "output_type": "execute_result"
    }
   ],
   "source": [
    "with torch.inference_mode():#torch.no_grad() also does the job but inference is preffered\n",
    "    y_preds=model_0(X_test)*10\n",
    "    y_preds= y_preds.flip(0)\n",
    "\n",
    "y_preds"
   ]
  },
  {
   "cell_type": "code",
   "execution_count": 3,
   "id": "597d0f99-ef4c-4de2-839d-4efa17a093e7",
   "metadata": {},
   "outputs": [
    {
     "data": {
      "image/png": "[encoded data removed]",
      "text/plain": [
       "<Figure size 1000x700 with 1 Axes>"
      ]
     },
     "metadata": {},
     "output_type": "display_data"
    }
   ],
   "source": [
    "plot_prediction(predictions=y_preds)"
   ]
  },
  {
   "cell_type": "markdown",
   "id": "fc931bb1-859d-4d3a-8368-952903769431",
   "metadata": {},
   "source": [
    "the whole idea of training is for a model to move from some unknown parameters to known parameters, write now we are getting shitty predictions on the graph \n",
    "\n",
    "one way to measure the error in predictions is to use loss function/cost function/criterion"
   ]
  },
  {
   "cell_type": "code",
   "execution_count": 4,
   "id": "86f0363d-6905-46ee-aefc-9efdeb984312",
   "metadata": {},
   "outputs": [
    {
     "data": {
      "text/plain": [
       "OrderedDict([('weights', tensor([-0.5259])), ('bias', tensor([-2.6043]))])"
      ]
     },
     "execution_count": 4,
     "metadata": {},
     "output_type": "execute_result"
    }
   ],
   "source": [
    "model_0.state_dict()"
   ]
  },
  {
   "cell_type": "markdown",
   "id": "09c1c00d-4293-46a3-a90d-b538b3134f29",
   "metadata": {},
   "source": [
    "now we setup loss function and optimizer\n",
    "\n",
    "there are lots of loss function , we will use L1loss , a common loss function (this is mean absolute error)"
   ]
  },
  {
   "cell_type": "code",
   "execution_count": 5,
   "id": "bbd79422-9e58-404e-a73d-68009a7ab07f",
   "metadata": {},
   "outputs": [],
   "source": [
    "#setup a loss functions \n",
    "loss_fn=nn.L1Loss()#aim is to minimize the distance between the prediction and actual line \n",
    "\n",
    "#setup an optimizer(stochastic gradient descent)\n",
    "optimizer=torch.optim.SGD(params=model_0.parameters(),\n",
    "                         lr=0.01)#learning rate = possibly the most important hyper parameter you can set\n",
    "# large learning rate :- large change in parameters\n"
   ]
  },
  {
   "cell_type": "markdown",
   "id": "d4636ed6-c7ba-46db-9883-5390ca69df96",
   "metadata": {},
   "source": [
    "there will be different optimizer and loss functions according to the problem statement\n",
    "THIS CODE DEMONSTRATES GRADIENT DESCENT"
   ]
  },
  {
   "cell_type": "code",
   "execution_count": 6,
   "id": "82073fb4-9ffd-4f64-b49f-94684cf2a292",
   "metadata": {},
   "outputs": [
    {
     "name": "stdout",
     "output_type": "stream",
     "text": [
      "Epock: 0 | Loss: 0.5158294439315796 | test loss: 0.8786882162094116\n",
      "Epock: 100 | Loss: 0.5123541355133057 | test loss: 0.8754749298095703\n",
      "Epock: 200 | Loss: 0.5084581971168518 | test loss: 0.8718303442001343\n",
      "Epock: 300 | Loss: 0.5040650963783264 | test loss: 0.8676695823669434\n",
      "Epock: 400 | Loss: 0.4990796148777008 | test loss: 0.862885594367981\n",
      "Epock: 500 | Loss: 0.49338197708129883 | test loss: 0.8573417663574219\n",
      "Epock: 600 | Loss: 0.4868202209472656 | test loss: 0.8508626222610474\n",
      "Epock: 700 | Loss: 0.4792000353336334 | test loss: 0.8432193994522095\n",
      "Epock: 800 | Loss: 0.4702697694301605 | test loss: 0.8341116905212402\n",
      "Epock: 900 | Loss: 0.45970049500465393 | test loss: 0.8231398463249207\n",
      "OrderedDict({'weights': tensor([-0.2424]), 'bias': tensor([-1.8440])})\n"
     ]
    }
   ],
   "source": [
    "#possibly y_preds changed to y_pred\n",
    "torch.manual_seed(69)\n",
    "#building a training loop in pytorch and a testing loop \n",
    "#an epoch is one loop through the data(this is a hyperparamter)\n",
    "epochs = 1000\n",
    "\n",
    "#track different values \n",
    "epoch_count= []\n",
    "loss_values = []\n",
    "test_loss_values=[]\n",
    "\n",
    "## Training \n",
    "#0. loop through the data \n",
    "for epoch in range(epochs):\n",
    "    #set the model to training mode\n",
    "    model_0.train() # train mode in pytorch sets all parameters that require gradients \n",
    "    #1. Forward pass\n",
    "    y_pred=model_0(X_train)\n",
    "    \n",
    "    #2. Calculate the loss \n",
    "    loss=loss_fn(y_pred,y_train) # input first target next\n",
    "    \n",
    "    #3. Optimizer zero grad or basically zeroes it \n",
    "    optimizer.zero_grad()\n",
    "    \n",
    "    #4 Perform backpropagating on the loss with respect to the parameters of the model \n",
    "    loss.backward()\n",
    "    \n",
    "    #5. Step the optimizer (perform gradient descent )\n",
    "    optimizer.step()\n",
    "\n",
    "    #testing\n",
    "    model_0.eval()#turns out settings not needed other than evaluations\n",
    "    with torch.inference_mode():#turns off gradient tracking and more things related\n",
    "        #1. do forward pass\n",
    "        test_pred=model_0(X_test)\n",
    "\n",
    "        #2. calculate the loss\n",
    "        test_loss = loss_fn(test_pred,y_test)\n",
    "\n",
    "    #print out what's happening \n",
    "    if epoch % 100 ==0:\n",
    "        epoch_count.append(epoch)\n",
    "        loss_values.append(loss)#mean absolute error \n",
    "        test_loss_values.append(test_loss)\n",
    "        print(f\"Epock: {epoch} | Loss: {loss} | test loss: {test_loss}\")\n",
    "    #print out model state dict\n",
    "print(model_0.state_dict())"
   ]
  },
  {
   "cell_type": "code",
   "execution_count": 7,
   "id": "79365930-abb7-40e2-a959-21a799879d8d",
   "metadata": {},
   "outputs": [
    {
     "data": {
      "image/png": "[encoded data removed]",
      "text/plain": [
       "<Figure size 1000x700 with 1 Axes>"
      ]
     },
     "metadata": {},
     "output_type": "display_data"
    }
   ],
   "source": [
    "with torch.inference_mode(): #turns off evaulations and train mode\n",
    "    y_preds_new=model_0(X_test)\n",
    "    plot_prediction(predictions=y_preds_new)"
   ]
  },
  {
   "cell_type": "code",
   "execution_count": 8,
   "id": "8878f39c-0d97-4a88-b232-20b2fa9c45f1",
   "metadata": {},
   "outputs": [
    {
     "data": {
      "image/png": "[encoded data removed]",
      "text/plain": [
       "<Figure size 640x480 with 1 Axes>"
      ]
     },
     "metadata": {},
     "output_type": "display_data"
    }
   ],
   "source": [
    "#plot the loss curves\n",
    "plt.plot(epoch_count, np.array(torch.tensor(loss_values).numpy()), label=\"Train loss\")\n",
    "plt.plot(epoch_count, test_loss_values, label=\"Test loss\")\n",
    "plt.title(\"Training and test loss curves \")\n",
    "plt.ylabel(\"Loss\")\n",
    "plt.xlabel(\"Epochs\")\n",
    "plt.legend();"
   ]
  },
  {
   "cell_type": "markdown",
   "id": "dbfc9e8a",
   "metadata": {},
   "source": [
    "saving a model in pytorch "
   ]
  },
  {
   "cell_type": "code",
   "execution_count": 9,
   "id": "b064a2b8",
   "metadata": {},
   "outputs": [
    {
     "name": "stdout",
     "output_type": "stream",
     "text": [
      "saving model to modls\\type_01_prototype.pth\n"
     ]
    }
   ],
   "source": [
    "#saving out pytorch model \n",
    "from pathlib import Path\n",
    "\n",
    "#1 create a model directory \n",
    "model_path= Path(\"modls\")\n",
    "model_path.mkdir(parents=True, exist_ok=True)\n",
    "\n",
    "2. #create model save path \n",
    "model_name=\"type_01_prototype.pth\"#pytorch objec extension .pth or .pt\n",
    "model_save_path=model_path/model_name\n",
    "\n",
    "model_save_path\n",
    "\n",
    "#3. save the model state_dict\n",
    "print(f\"saving model to {model_save_path}\")\n",
    "torch.save(obj=model_0.state_dict(),\n",
    "           f=model_save_path)"
   ]
  },
  {
   "cell_type": "code",
   "execution_count": 10,
   "id": "f9650122",
   "metadata": {},
   "outputs": [
    {
     "data": {
      "text/plain": [
       "OrderedDict([('weights', tensor([-0.2424])), ('bias', tensor([-1.8440]))])"
      ]
     },
     "execution_count": 10,
     "metadata": {},
     "output_type": "execute_result"
    }
   ],
   "source": [
    "##loading a pytorch model , since we saved out model's state dict rather than an entire model , we just need to create a new instance or model class and load the saved state_dict into that \n",
    "\n",
    "#1. make instance\n",
    "loaded_model_0= LinearRegressionModel()\n",
    "\n",
    "#2. load the saved state dict , this will update the instance with the parameters\n",
    "loaded_model_0.load_state_dict(torch.load(f=model_save_path))#we didn't have to write torch.nn etc because linearreg is a subclass of it\n",
    "\n",
    "loaded_model_0.state_dict()"
   ]
  },
  {
   "cell_type": "code",
   "execution_count": 11,
   "id": "aabb8a6b",
   "metadata": {},
   "outputs": [
    {
     "data": {
      "text/plain": [
       "tensor([[0.1153],\n",
       "        [0.1148],\n",
       "        [0.1143],\n",
       "        [0.1138],\n",
       "        [0.1133],\n",
       "        [0.1128],\n",
       "        [0.1123],\n",
       "        [0.1119],\n",
       "        [0.1114],\n",
       "        [0.1109]])"
      ]
     },
     "execution_count": 11,
     "metadata": {},
     "output_type": "execute_result"
    }
   ],
   "source": [
    "#make predictions with our loaded model\n",
    "loaded_model_0.eval()\n",
    "with torch.inference_mode():\n",
    "    loaded_model_preds=loaded_model_0(X_test)\n",
    "\n",
    "loaded_model_preds"
   ]
  }
 ],
 "metadata": {
  "kernelspec": {
   "display_name": ".venv",
   "language": "python",
   "name": "python3"
  },
  "language_info": {
   "codemirror_mode": {
    "name": "ipython",
    "version": 3
   },
   "file_extension": ".py",
   "mimetype": "text/x-python",
   "name": "python",
   "nbconvert_exporter": "python",
   "pygments_lexer": "ipython3",
   "version": "3.12.8"
  }
 },
 "nbformat": 4,
 "nbformat_minor": 5
}
