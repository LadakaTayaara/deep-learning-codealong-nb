{
 "cells": [
  {
   "cell_type": "code",
   "execution_count": 76,
   "id": "207b04fd",
   "metadata": {},
   "outputs": [],
   "source": [
    "import torch\n",
    "from torch import nn\n",
    "\n",
    "from torchvision import datasets\n",
    "from torchvision import transforms\n",
    "from torchvision.transforms import ToTensor #converts images to tensors\n",
    "\n",
    "import matplotlib.pyplot as plt\n"
   ]
  },
  {
   "cell_type": "code",
   "execution_count": 77,
   "id": "50771be5",
   "metadata": {},
   "outputs": [],
   "source": [
    "#getting dataset , here we are gonna use MNIST fashion datasets\n",
    "train_data=datasets.FashionMNIST(\n",
    "    root=\"data\", #where to download\n",
    "    train=True,#do we want training or testing dataset\n",
    "    download=True,\n",
    "    transform=ToTensor(),\n",
    "    target_transform=None #defines how to transform how to transform labels\n",
    ")\n",
    "\n",
    "test_data= datasets.FashionMNIST(\n",
    "    root=\"data\",\n",
    "    train=False,\n",
    "    download=True,\n",
    "    transform=ToTensor(),\n",
    "    target_transform=None\n",
    ")"
   ]
  },
  {
   "cell_type": "code",
   "execution_count": 78,
   "id": "d5748996",
   "metadata": {},
   "outputs": [
    {
     "data": {
      "text/plain": [
       "(60000, 10000)"
      ]
     },
     "execution_count": 78,
     "metadata": {},
     "output_type": "execute_result"
    }
   ],
   "source": [
    "len(train_data), len(test_data)"
   ]
  },
  {
   "cell_type": "code",
   "execution_count": 79,
   "id": "b113580f",
   "metadata": {},
   "outputs": [
    {
     "data": {
      "text/plain": [
       "(tensor([[[0.0000, 0.0000, 0.0000, 0.0000, 0.0000, 0.0000, 0.0000, 0.0000,\n",
       "           0.0000, 0.0000, 0.0000, 0.0000, 0.0000, 0.0000, 0.0000, 0.0000,\n",
       "           0.0000, 0.0000, 0.0000, 0.0000, 0.0000, 0.0000, 0.0000, 0.0000,\n",
       "           0.0000, 0.0000, 0.0000, 0.0000],\n",
       "          [0.0000, 0.0000, 0.0000, 0.0000, 0.0000, 0.0000, 0.0000, 0.0000,\n",
       "           0.0000, 0.0000, 0.0000, 0.0000, 0.0000, 0.0000, 0.0000, 0.0000,\n",
       "           0.0000, 0.0000, 0.0000, 0.0000, 0.0000, 0.0000, 0.0000, 0.0000,\n",
       "           0.0000, 0.0000, 0.0000, 0.0000],\n",
       "          [0.0000, 0.0000, 0.0000, 0.0000, 0.0000, 0.0000, 0.0000, 0.0000,\n",
       "           0.0000, 0.0000, 0.0000, 0.0000, 0.0000, 0.0000, 0.0000, 0.0000,\n",
       "           0.0000, 0.0000, 0.0000, 0.0000, 0.0000, 0.0000, 0.0000, 0.0000,\n",
       "           0.0000, 0.0000, 0.0000, 0.0000],\n",
       "          [0.0000, 0.0000, 0.0000, 0.0000, 0.0000, 0.0000, 0.0000, 0.0000,\n",
       "           0.0000, 0.0000, 0.0000, 0.0000, 0.0039, 0.0000, 0.0000, 0.0510,\n",
       "           0.2863, 0.0000, 0.0000, 0.0039, 0.0157, 0.0000, 0.0000, 0.0000,\n",
       "           0.0000, 0.0039, 0.0039, 0.0000],\n",
       "          [0.0000, 0.0000, 0.0000, 0.0000, 0.0000, 0.0000, 0.0000, 0.0000,\n",
       "           0.0000, 0.0000, 0.0000, 0.0000, 0.0118, 0.0000, 0.1412, 0.5333,\n",
       "           0.4980, 0.2431, 0.2118, 0.0000, 0.0000, 0.0000, 0.0039, 0.0118,\n",
       "           0.0157, 0.0000, 0.0000, 0.0118],\n",
       "          [0.0000, 0.0000, 0.0000, 0.0000, 0.0000, 0.0000, 0.0000, 0.0000,\n",
       "           0.0000, 0.0000, 0.0000, 0.0000, 0.0235, 0.0000, 0.4000, 0.8000,\n",
       "           0.6902, 0.5255, 0.5647, 0.4824, 0.0902, 0.0000, 0.0000, 0.0000,\n",
       "           0.0000, 0.0471, 0.0392, 0.0000],\n",
       "          [0.0000, 0.0000, 0.0000, 0.0000, 0.0000, 0.0000, 0.0000, 0.0000,\n",
       "           0.0000, 0.0000, 0.0000, 0.0000, 0.0000, 0.0000, 0.6078, 0.9255,\n",
       "           0.8118, 0.6980, 0.4196, 0.6118, 0.6314, 0.4275, 0.2510, 0.0902,\n",
       "           0.3020, 0.5098, 0.2824, 0.0588],\n",
       "          [0.0000, 0.0000, 0.0000, 0.0000, 0.0000, 0.0000, 0.0000, 0.0000,\n",
       "           0.0000, 0.0000, 0.0000, 0.0039, 0.0000, 0.2706, 0.8118, 0.8745,\n",
       "           0.8549, 0.8471, 0.8471, 0.6392, 0.4980, 0.4745, 0.4784, 0.5725,\n",
       "           0.5529, 0.3451, 0.6745, 0.2588],\n",
       "          [0.0000, 0.0000, 0.0000, 0.0000, 0.0000, 0.0000, 0.0000, 0.0000,\n",
       "           0.0000, 0.0039, 0.0039, 0.0039, 0.0000, 0.7843, 0.9098, 0.9098,\n",
       "           0.9137, 0.8980, 0.8745, 0.8745, 0.8431, 0.8353, 0.6431, 0.4980,\n",
       "           0.4824, 0.7686, 0.8980, 0.0000],\n",
       "          [0.0000, 0.0000, 0.0000, 0.0000, 0.0000, 0.0000, 0.0000, 0.0000,\n",
       "           0.0000, 0.0000, 0.0000, 0.0000, 0.0000, 0.7176, 0.8824, 0.8471,\n",
       "           0.8745, 0.8941, 0.9216, 0.8902, 0.8784, 0.8706, 0.8784, 0.8667,\n",
       "           0.8745, 0.9608, 0.6784, 0.0000],\n",
       "          [0.0000, 0.0000, 0.0000, 0.0000, 0.0000, 0.0000, 0.0000, 0.0000,\n",
       "           0.0000, 0.0000, 0.0000, 0.0000, 0.0000, 0.7569, 0.8941, 0.8549,\n",
       "           0.8353, 0.7765, 0.7059, 0.8314, 0.8235, 0.8275, 0.8353, 0.8745,\n",
       "           0.8627, 0.9529, 0.7922, 0.0000],\n",
       "          [0.0000, 0.0000, 0.0000, 0.0000, 0.0000, 0.0000, 0.0000, 0.0000,\n",
       "           0.0000, 0.0039, 0.0118, 0.0000, 0.0471, 0.8588, 0.8627, 0.8314,\n",
       "           0.8549, 0.7529, 0.6627, 0.8902, 0.8157, 0.8549, 0.8784, 0.8314,\n",
       "           0.8863, 0.7725, 0.8196, 0.2039],\n",
       "          [0.0000, 0.0000, 0.0000, 0.0000, 0.0000, 0.0000, 0.0000, 0.0000,\n",
       "           0.0000, 0.0000, 0.0235, 0.0000, 0.3882, 0.9569, 0.8706, 0.8627,\n",
       "           0.8549, 0.7961, 0.7765, 0.8667, 0.8431, 0.8353, 0.8706, 0.8627,\n",
       "           0.9608, 0.4667, 0.6549, 0.2196],\n",
       "          [0.0000, 0.0000, 0.0000, 0.0000, 0.0000, 0.0000, 0.0000, 0.0000,\n",
       "           0.0000, 0.0157, 0.0000, 0.0000, 0.2157, 0.9255, 0.8941, 0.9020,\n",
       "           0.8941, 0.9412, 0.9098, 0.8353, 0.8549, 0.8745, 0.9176, 0.8510,\n",
       "           0.8510, 0.8196, 0.3608, 0.0000],\n",
       "          [0.0000, 0.0000, 0.0039, 0.0157, 0.0235, 0.0275, 0.0078, 0.0000,\n",
       "           0.0000, 0.0000, 0.0000, 0.0000, 0.9294, 0.8863, 0.8510, 0.8745,\n",
       "           0.8706, 0.8588, 0.8706, 0.8667, 0.8471, 0.8745, 0.8980, 0.8431,\n",
       "           0.8549, 1.0000, 0.3020, 0.0000],\n",
       "          [0.0000, 0.0118, 0.0000, 0.0000, 0.0000, 0.0000, 0.0000, 0.0000,\n",
       "           0.0000, 0.2431, 0.5686, 0.8000, 0.8941, 0.8118, 0.8353, 0.8667,\n",
       "           0.8549, 0.8157, 0.8275, 0.8549, 0.8784, 0.8745, 0.8588, 0.8431,\n",
       "           0.8784, 0.9569, 0.6235, 0.0000],\n",
       "          [0.0000, 0.0000, 0.0000, 0.0000, 0.0706, 0.1725, 0.3216, 0.4196,\n",
       "           0.7412, 0.8941, 0.8627, 0.8706, 0.8510, 0.8863, 0.7843, 0.8039,\n",
       "           0.8275, 0.9020, 0.8784, 0.9176, 0.6902, 0.7373, 0.9804, 0.9725,\n",
       "           0.9137, 0.9333, 0.8431, 0.0000],\n",
       "          [0.0000, 0.2235, 0.7333, 0.8157, 0.8784, 0.8667, 0.8784, 0.8157,\n",
       "           0.8000, 0.8392, 0.8157, 0.8196, 0.7843, 0.6235, 0.9608, 0.7569,\n",
       "           0.8078, 0.8745, 1.0000, 1.0000, 0.8667, 0.9176, 0.8667, 0.8275,\n",
       "           0.8627, 0.9098, 0.9647, 0.0000],\n",
       "          [0.0118, 0.7922, 0.8941, 0.8784, 0.8667, 0.8275, 0.8275, 0.8392,\n",
       "           0.8039, 0.8039, 0.8039, 0.8627, 0.9412, 0.3137, 0.5882, 1.0000,\n",
       "           0.8980, 0.8667, 0.7373, 0.6039, 0.7490, 0.8235, 0.8000, 0.8196,\n",
       "           0.8706, 0.8941, 0.8824, 0.0000],\n",
       "          [0.3843, 0.9137, 0.7765, 0.8235, 0.8706, 0.8980, 0.8980, 0.9176,\n",
       "           0.9765, 0.8627, 0.7608, 0.8431, 0.8510, 0.9451, 0.2549, 0.2863,\n",
       "           0.4157, 0.4588, 0.6588, 0.8588, 0.8667, 0.8431, 0.8510, 0.8745,\n",
       "           0.8745, 0.8784, 0.8980, 0.1137],\n",
       "          [0.2941, 0.8000, 0.8314, 0.8000, 0.7569, 0.8039, 0.8275, 0.8824,\n",
       "           0.8471, 0.7255, 0.7725, 0.8078, 0.7765, 0.8353, 0.9412, 0.7647,\n",
       "           0.8902, 0.9608, 0.9373, 0.8745, 0.8549, 0.8314, 0.8196, 0.8706,\n",
       "           0.8627, 0.8667, 0.9020, 0.2627],\n",
       "          [0.1882, 0.7961, 0.7176, 0.7608, 0.8353, 0.7725, 0.7255, 0.7451,\n",
       "           0.7608, 0.7529, 0.7922, 0.8392, 0.8588, 0.8667, 0.8627, 0.9255,\n",
       "           0.8824, 0.8471, 0.7804, 0.8078, 0.7294, 0.7098, 0.6941, 0.6745,\n",
       "           0.7098, 0.8039, 0.8078, 0.4510],\n",
       "          [0.0000, 0.4784, 0.8588, 0.7569, 0.7020, 0.6706, 0.7176, 0.7686,\n",
       "           0.8000, 0.8235, 0.8353, 0.8118, 0.8275, 0.8235, 0.7843, 0.7686,\n",
       "           0.7608, 0.7490, 0.7647, 0.7490, 0.7765, 0.7529, 0.6902, 0.6118,\n",
       "           0.6549, 0.6941, 0.8235, 0.3608],\n",
       "          [0.0000, 0.0000, 0.2902, 0.7412, 0.8314, 0.7490, 0.6863, 0.6745,\n",
       "           0.6863, 0.7098, 0.7255, 0.7373, 0.7412, 0.7373, 0.7569, 0.7765,\n",
       "           0.8000, 0.8196, 0.8235, 0.8235, 0.8275, 0.7373, 0.7373, 0.7608,\n",
       "           0.7529, 0.8471, 0.6667, 0.0000],\n",
       "          [0.0078, 0.0000, 0.0000, 0.0000, 0.2588, 0.7843, 0.8706, 0.9294,\n",
       "           0.9373, 0.9490, 0.9647, 0.9529, 0.9569, 0.8667, 0.8627, 0.7569,\n",
       "           0.7490, 0.7020, 0.7137, 0.7137, 0.7098, 0.6902, 0.6510, 0.6588,\n",
       "           0.3882, 0.2275, 0.0000, 0.0000],\n",
       "          [0.0000, 0.0000, 0.0000, 0.0000, 0.0000, 0.0000, 0.0000, 0.1569,\n",
       "           0.2392, 0.1725, 0.2824, 0.1608, 0.1373, 0.0000, 0.0000, 0.0000,\n",
       "           0.0000, 0.0000, 0.0000, 0.0000, 0.0000, 0.0000, 0.0000, 0.0000,\n",
       "           0.0000, 0.0000, 0.0000, 0.0000],\n",
       "          [0.0000, 0.0000, 0.0000, 0.0000, 0.0000, 0.0000, 0.0000, 0.0000,\n",
       "           0.0000, 0.0000, 0.0000, 0.0000, 0.0000, 0.0000, 0.0000, 0.0000,\n",
       "           0.0000, 0.0000, 0.0000, 0.0000, 0.0000, 0.0000, 0.0000, 0.0000,\n",
       "           0.0000, 0.0000, 0.0000, 0.0000],\n",
       "          [0.0000, 0.0000, 0.0000, 0.0000, 0.0000, 0.0000, 0.0000, 0.0000,\n",
       "           0.0000, 0.0000, 0.0000, 0.0000, 0.0000, 0.0000, 0.0000, 0.0000,\n",
       "           0.0000, 0.0000, 0.0000, 0.0000, 0.0000, 0.0000, 0.0000, 0.0000,\n",
       "           0.0000, 0.0000, 0.0000, 0.0000]]]),\n",
       " 9)"
      ]
     },
     "execution_count": 79,
     "metadata": {},
     "output_type": "execute_result"
    }
   ],
   "source": [
    "#See the first training sample\n",
    "image , label=train_data[0]\n",
    "image, label"
   ]
  },
  {
   "cell_type": "code",
   "execution_count": 80,
   "id": "5b255035",
   "metadata": {},
   "outputs": [
    {
     "data": {
      "text/plain": [
       "['T-shirt/top',\n",
       " 'Trouser',\n",
       " 'Pullover',\n",
       " 'Dress',\n",
       " 'Coat',\n",
       " 'Sandal',\n",
       " 'Shirt',\n",
       " 'Sneaker',\n",
       " 'Bag',\n",
       " 'Ankle boot']"
      ]
     },
     "execution_count": 80,
     "metadata": {},
     "output_type": "execute_result"
    }
   ],
   "source": [
    "class_names = train_data.classes\n",
    "class_names"
   ]
  },
  {
   "cell_type": "code",
   "execution_count": 81,
   "id": "228ac562",
   "metadata": {},
   "outputs": [
    {
     "data": {
      "text/plain": [
       "{'T-shirt/top': 0,\n",
       " 'Trouser': 1,\n",
       " 'Pullover': 2,\n",
       " 'Dress': 3,\n",
       " 'Coat': 4,\n",
       " 'Sandal': 5,\n",
       " 'Shirt': 6,\n",
       " 'Sneaker': 7,\n",
       " 'Bag': 8,\n",
       " 'Ankle boot': 9}"
      ]
     },
     "execution_count": 81,
     "metadata": {},
     "output_type": "execute_result"
    }
   ],
   "source": [
    "class_to_index=train_data.class_to_idx\n",
    "class_to_index"
   ]
  },
  {
   "cell_type": "code",
   "execution_count": 82,
   "id": "0d88fe6e",
   "metadata": {},
   "outputs": [
    {
     "data": {
      "text/plain": [
       "(torch.Size([1, 28, 28]), 9)"
      ]
     },
     "execution_count": 82,
     "metadata": {},
     "output_type": "execute_result"
    }
   ],
   "source": [
    "image.shape , label #label doesnt have a shape, since its an integer "
   ]
  },
  {
   "cell_type": "markdown",
   "id": "97b44969",
   "metadata": {},
   "source": [
    "color channel , height, width format here , greyscale has one color channel since its just black and white and in between "
   ]
  },
  {
   "cell_type": "code",
   "execution_count": 83,
   "id": "3fd2f1e6",
   "metadata": {},
   "outputs": [
    {
     "name": "stdout",
     "output_type": "stream",
     "text": [
      "torch.Size([1, 28, 28])\n"
     ]
    },
    {
     "data": {
      "text/plain": [
       "Text(0.5, 1.0, '9')"
      ]
     },
     "execution_count": 83,
     "metadata": {},
     "output_type": "execute_result"
    },
    {
     "data": {
      "image/png": "[encoded data removed]",
      "text/plain": [
       "<Figure size 640x480 with 1 Axes>"
      ]
     },
     "metadata": {},
     "output_type": "display_data"
    }
   ],
   "source": [
    "import matplotlib.pyplot as plt \n",
    "image, label= train_data[0]\n",
    "print(image.shape)#shape error is very common\n",
    "plt.imshow(image.squeeze())\n",
    "plt.title(label)"
   ]
  },
  {
   "cell_type": "code",
   "execution_count": 84,
   "id": "ab1fc074",
   "metadata": {},
   "outputs": [
    {
     "data": {
      "text/plain": [
       "Text(0.5, 1.0, 'Ankle boot')"
      ]
     },
     "execution_count": 84,
     "metadata": {},
     "output_type": "execute_result"
    },
    {
     "data": {
      "image/png": "[encoded data removed]",
      "text/plain": [
       "<Figure size 640x480 with 1 Axes>"
      ]
     },
     "metadata": {},
     "output_type": "display_data"
    }
   ],
   "source": [
    "plt.imshow(image.squeeze(),cmap=\"gray\")\n",
    "plt.title(class_names[label])"
   ]
  },
  {
   "cell_type": "code",
   "execution_count": 85,
   "id": "ef84b417",
   "metadata": {},
   "outputs": [
    {
     "name": "stdout",
     "output_type": "stream",
     "text": [
      "3162\n",
      "26615\n",
      "6932\n",
      "22577\n",
      "55510\n",
      "9225\n",
      "36280\n",
      "50049\n",
      "33126\n",
      "6080\n",
      "46936\n",
      "44076\n",
      "8741\n",
      "35690\n",
      "35572\n",
      "39915\n"
     ]
    },
    {
     "data": {
      "image/png": "[encoded data removed]",
      "text/plain": [
       "<Figure size 900x900 with 16 Axes>"
      ]
     },
     "metadata": {},
     "output_type": "display_data"
    }
   ],
   "source": [
    "#random images now via imshow\n",
    "fig = plt.figure(figsize=(9,9))\n",
    "rows, cols = 4,4\n",
    "for i in range(1,rows*cols+1):\n",
    "    random_idx = torch.randint(0,len(train_data),size=[1]).item()\n",
    "    print(random_idx)\n",
    "    img ,label= train_data[random_idx]\n",
    "    fig.add_subplot(rows, cols , i)\n",
    "    plt.imshow(img.squeeze(), cmap=\"gray\")\n",
    "    plt.title(class_names[label])\n",
    "    plt.axis(False)"
   ]
  },
  {
   "cell_type": "code",
   "execution_count": 86,
   "id": "764a0e42",
   "metadata": {},
   "outputs": [
    {
     "data": {
      "text/plain": [
       "(<torch.utils.data.dataloader.DataLoader at 0x21b80059700>,\n",
       " <torch.utils.data.dataloader.DataLoader at 0x21b802397f0>)"
      ]
     },
     "execution_count": 86,
     "metadata": {},
     "output_type": "execute_result"
    }
   ],
   "source": [
    "#prepare a dataloader \n",
    "#right now data is in the form of a pytorch datasets\n",
    "#dataloader turns tensor into a python iterable. basically we are turning data into batches and mini batches \n",
    "\n",
    "from torch.utils.data import DataLoader\n",
    "\n",
    "#setup the batch size \n",
    "BATCH_SIZE= 32\n",
    "\n",
    "#turn data sets into iterables(batches)\n",
    "train_dataloader = DataLoader(dataset=train_data,\n",
    "                              batch_size=BATCH_SIZE,\n",
    "                              shuffle=True)\n",
    "\n",
    "test_dataloader= DataLoader(dataset=test_data,\n",
    "                            batch_size=BATCH_SIZE,\n",
    "                            shuffle=False)#order doesnt matter in the test data , its more optimized to keep the shuffle off \n",
    "\n",
    "train_dataloader,test_dataloader"
   ]
  },
  {
   "cell_type": "code",
   "execution_count": 87,
   "id": "1ec9a2e5",
   "metadata": {},
   "outputs": [
    {
     "data": {
      "text/plain": [
       "(1875, 313)"
      ]
     },
     "execution_count": 87,
     "metadata": {},
     "output_type": "execute_result"
    }
   ],
   "source": [
    "len(train_dataloader), len(test_dataloader) #numbers of batches created \n"
   ]
  },
  {
   "cell_type": "code",
   "execution_count": 88,
   "id": "11e8f642",
   "metadata": {},
   "outputs": [
    {
     "data": {
      "text/plain": [
       "(torch.Size([32, 1, 28, 28]), torch.Size([32]))"
      ]
     },
     "execution_count": 88,
     "metadata": {},
     "output_type": "execute_result"
    }
   ],
   "source": [
    "train_features_batch, train_labels_batch = next(iter(train_dataloader))\n",
    "train_features_batch.shape , train_labels_batch.shape"
   ]
  },
  {
   "cell_type": "code",
   "execution_count": 89,
   "id": "a75799ea",
   "metadata": {},
   "outputs": [
    {
     "name": "stdout",
     "output_type": "stream",
     "text": [
      "image size: torch.Size([1, 28, 28])\n",
      "Label: 1 Label shape: torch.Size([])\n"
     ]
    },
    {
     "data": {
      "image/png": "[encoded data removed]",
      "text/plain": [
       "<Figure size 640x480 with 1 Axes>"
      ]
     },
     "metadata": {},
     "output_type": "display_data"
    }
   ],
   "source": [
    "#show a sample \n",
    "#torch.manual_seed(42)\n",
    "random_idx = torch.randint(0, len(train_features_batch), size=[1]).item()\n",
    "img, label = train_features_batch[random_idx], train_labels_batch[random_idx]\n",
    "plt.imshow(img.squeeze(), cmap=\"gray\")\n",
    "plt.title(class_names[label])\n",
    "plt.axis(False)\n",
    "print(f\"image size: {img.shape}\")\n",
    "print(f\"Label: {label} Label shape: {label.shape}\")"
   ]
  },
  {
   "cell_type": "markdown",
   "id": "08f3606e",
   "metadata": {},
   "source": [
    "=================== end of data loading part ==========================="
   ]
  },
  {
   "cell_type": "markdown",
   "id": "3220d574",
   "metadata": {},
   "source": []
  },
  {
   "cell_type": "code",
   "execution_count": 90,
   "id": "5bd85943",
   "metadata": {},
   "outputs": [
    {
     "name": "stdout",
     "output_type": "stream",
     "text": [
      "shape before flattening : torch.Size([1, 28, 28]) -> color channel , height , width\n",
      "shape after flatterning: torch.Size([1, 784]) -> color channel , height*width\n"
     ]
    }
   ],
   "source": [
    "#model0 , baseline mode \n",
    "#create flatter layer\n",
    "\n",
    "flatten_model= nn.Flatten()\n",
    "\n",
    "#Get a single sample \n",
    "x= train_features_batch[0]\n",
    "x , x.shape\n",
    "\n",
    "#Flatten the sample , does forward pass internally \n",
    "output=flatten_model(x)#performs forward pass \n",
    "\n",
    "print(f\"shape before flattening : {x.shape} -> color channel , height , width\")\n",
    "print(f\"shape after flatterning: {output.shape} -> color channel , height*width\")"
   ]
  },
  {
   "cell_type": "code",
   "execution_count": 91,
   "id": "0f01046c",
   "metadata": {},
   "outputs": [
    {
     "data": {
      "text/plain": [
       "tensor([0.0000, 0.0000, 0.0000, 0.0000, 0.0000, 0.0000, 0.0000, 0.0000, 0.0000,\n",
       "        0.0000, 0.0000, 0.0118, 0.0000, 0.0549, 0.4471, 0.5647, 0.3176, 0.0000,\n",
       "        0.0000, 0.0000, 0.0000, 0.0000, 0.0000, 0.0000, 0.0000, 0.0000, 0.0000,\n",
       "        0.0000, 0.0000, 0.0000, 0.0000, 0.0000, 0.0000, 0.0000, 0.0000, 0.0000,\n",
       "        0.0000, 0.0000, 0.0118, 0.0000, 0.1294, 0.8627, 0.1765, 0.0118, 0.6706,\n",
       "        0.5137, 0.0000, 0.0235, 0.0000, 0.0000, 0.0000, 0.0000, 0.0000, 0.0000,\n",
       "        0.0000, 0.0000, 0.0000, 0.0000, 0.0000, 0.0000, 0.0000, 0.0000, 0.0000,\n",
       "        0.0000, 0.0000, 0.0039, 0.0000, 0.0000, 0.5725, 0.0706, 0.0000, 0.0000,\n",
       "        0.0000, 0.8431, 0.2627, 0.0000, 0.0157, 0.0000, 0.0000, 0.0000, 0.0000,\n",
       "        0.0000, 0.0000, 0.0000, 0.0000, 0.0000, 0.0000, 0.0000, 0.0000, 0.0000,\n",
       "        0.0000, 0.0000, 0.0000, 0.0275, 0.0000, 0.4039, 0.4902, 0.0000, 0.0078,\n",
       "        0.0078, 0.0000, 0.5098, 0.7412, 0.0000, 0.0039, 0.0039, 0.0000, 0.0000,\n",
       "        0.0000, 0.0000, 0.0000, 0.0000, 0.0000, 0.0000, 0.0000, 0.0000, 0.0000,\n",
       "        0.0000, 0.0000, 0.0000, 0.0039, 0.0000, 0.0000, 0.6863, 0.2431, 0.0000,\n",
       "        0.0157, 0.0078, 0.0000, 0.2118, 0.8863, 0.0706, 0.0000, 0.0157, 0.0000,\n",
       "        0.0000, 0.0000, 0.0000, 0.0000, 0.0000, 0.0000, 0.0000, 0.0000, 0.0000,\n",
       "        0.0000, 0.0000, 0.0000, 0.0000, 0.0078, 0.0000, 0.0000, 0.7137, 0.0000,\n",
       "        0.0000, 0.0039, 0.0039, 0.0000, 0.0000, 0.8118, 0.3882, 0.0000, 0.0353,\n",
       "        0.0000, 0.0000, 0.0000, 0.0000, 0.0000, 0.0000, 0.0000, 0.0000, 0.0000,\n",
       "        0.0000, 0.0000, 0.0000, 0.0000, 0.0000, 0.0157, 0.0000, 0.1451, 0.6588,\n",
       "        0.0000, 0.0000, 0.0000, 0.0000, 0.0039, 0.0000, 0.7176, 0.5176, 0.0000,\n",
       "        0.0314, 0.0000, 0.0000, 0.0000, 0.0000, 0.0000, 0.0000, 0.0000, 0.0000,\n",
       "        0.0000, 0.0000, 0.0000, 0.0000, 0.0000, 0.0000, 0.0235, 0.0000, 0.2824,\n",
       "        0.6471, 0.0000, 0.0157, 0.0000, 0.0000, 0.0275, 0.0000, 0.5804, 0.5569,\n",
       "        0.0000, 0.0275, 0.0000, 0.0000, 0.0000, 0.0000, 0.0000, 0.0000, 0.0000,\n",
       "        0.0000, 0.0000, 0.0000, 0.0000, 0.0000, 0.0000, 0.0000, 0.0235, 0.0000,\n",
       "        0.3843, 0.4706, 0.0000, 0.0314, 0.0000, 0.0000, 0.0392, 0.0000, 0.4941,\n",
       "        0.5804, 0.0000, 0.0235, 0.0000, 0.0000, 0.0000, 0.0000, 0.0000, 0.0000,\n",
       "        0.0000, 0.0000, 0.0000, 0.0039, 0.0078, 0.0196, 0.0314, 0.0275, 0.0235,\n",
       "        0.0000, 0.3608, 0.5725, 0.0000, 0.0078, 0.0000, 0.0039, 0.0000, 0.0000,\n",
       "        0.5922, 0.6196, 0.0000, 0.0039, 0.0196, 0.0275, 0.0157, 0.0000, 0.0000,\n",
       "        0.0000, 0.0000, 0.0000, 0.0000, 0.0000, 0.0000, 0.0000, 0.0000, 0.0000,\n",
       "        0.0000, 0.0000, 0.7373, 0.7843, 0.0000, 0.0000, 0.0000, 0.0000, 0.0000,\n",
       "        0.0000, 0.7804, 0.6314, 0.0000, 0.0000, 0.0000, 0.0000, 0.0000, 0.0000,\n",
       "        0.0000, 0.0000, 0.0000, 0.0000, 0.0000, 0.0000, 0.0000, 0.3608, 0.5412,\n",
       "        0.4667, 0.3569, 0.0000, 0.8157, 0.6824, 0.0000, 0.0000, 0.0000, 0.0000,\n",
       "        0.0000, 0.0000, 0.8706, 0.7765, 0.0000, 0.0314, 0.0941, 0.3176, 0.2667,\n",
       "        0.0000, 0.0000, 0.0000, 0.0000, 0.0000, 0.0000, 0.0000, 0.2863, 0.8039,\n",
       "        0.6157, 0.8196, 0.7804, 0.6196, 0.7608, 0.7294, 0.5725, 0.5569, 0.7569,\n",
       "        0.7529, 0.8314, 0.8235, 0.7451, 0.7608, 0.8196, 1.0000, 0.6902, 0.6784,\n",
       "        0.7137, 0.0000, 0.0000, 0.0000, 0.0000, 0.0000, 0.0000, 0.0000, 0.3529,\n",
       "        0.9412, 0.7647, 0.6588, 0.5373, 0.7137, 0.8275, 0.8118, 0.8706, 0.6941,\n",
       "        0.5882, 0.4941, 0.6039, 0.6353, 0.7765, 0.8392, 0.8196, 0.8353, 0.7569,\n",
       "        0.8078, 0.7569, 0.0000, 0.0000, 0.0000, 0.0000, 0.0000, 0.0000, 0.0000,\n",
       "        0.7137, 0.9451, 0.8902, 0.7529, 0.7765, 0.9059, 0.9490, 0.8941, 0.8980,\n",
       "        0.7137, 0.6902, 0.7098, 0.7451, 0.8667, 0.9569, 0.9020, 0.8706, 0.8863,\n",
       "        0.8941, 0.9137, 0.9176, 0.0000, 0.0000, 0.0000, 0.0000, 0.0000, 0.0000,\n",
       "        0.0000, 0.8627, 0.9373, 0.9137, 0.7059, 0.8549, 0.9725, 0.9333, 0.9216,\n",
       "        0.9373, 0.9882, 1.0000, 0.9843, 0.9804, 0.9333, 0.9098, 0.8980, 0.8863,\n",
       "        0.8863, 0.8902, 0.9294, 0.9647, 0.0000, 0.0000, 0.0000, 0.0000, 0.0000,\n",
       "        0.0000, 0.0431, 0.9176, 0.9294, 0.9255, 0.9490, 1.0000, 0.9294, 0.9255,\n",
       "        0.9333, 0.9216, 0.9098, 0.8980, 0.9098, 0.9098, 0.9176, 0.9373, 0.9373,\n",
       "        0.9255, 0.9255, 0.9216, 0.9059, 1.0000, 0.2745, 0.0000, 0.0000, 0.0000,\n",
       "        0.0000, 0.0000, 0.0000, 0.8824, 0.9490, 0.8510, 0.7098, 0.9686, 0.9373,\n",
       "        0.9255, 0.9255, 0.9216, 0.9216, 0.9255, 0.9255, 0.9216, 0.9294, 0.9333,\n",
       "        0.9294, 0.9373, 0.9255, 0.9216, 0.9059, 0.9608, 0.5216, 0.0000, 0.0000,\n",
       "        0.0000, 0.0000, 0.0000, 0.0000, 0.9725, 0.9569, 0.7490, 0.8392, 0.9843,\n",
       "        0.9176, 0.9176, 0.9216, 0.9216, 0.9216, 0.9098, 0.9098, 0.9098, 0.9137,\n",
       "        0.9255, 0.9216, 0.9216, 0.9294, 0.9216, 0.9176, 1.0000, 0.4039, 0.0000,\n",
       "        0.0000, 0.0000, 0.0000, 0.0000, 0.0000, 0.9804, 0.9412, 0.7451, 0.9647,\n",
       "        0.9529, 0.9216, 0.9098, 0.9137, 0.9176, 0.9216, 0.9255, 0.9255, 0.9255,\n",
       "        0.9255, 0.9294, 0.9294, 0.9294, 0.9333, 0.9333, 0.9137, 1.0000, 0.2510,\n",
       "        0.0000, 0.0000, 0.0000, 0.0000, 0.0000, 0.0000, 0.9020, 0.9176, 0.8667,\n",
       "        0.9843, 0.9451, 0.9294, 0.9176, 0.9255, 0.9255, 0.9294, 0.9333, 0.9294,\n",
       "        0.9294, 0.9333, 0.9373, 0.9373, 0.9373, 0.9373, 0.9373, 0.9255, 1.0000,\n",
       "        0.1059, 0.0000, 0.0000, 0.0000, 0.0000, 0.0000, 0.0000, 0.7255, 0.9255,\n",
       "        0.9020, 0.9765, 0.9529, 0.9529, 0.9333, 0.9333, 0.9333, 0.9294, 0.9294,\n",
       "        0.9294, 0.9294, 0.9333, 0.9333, 0.9333, 0.9333, 0.9412, 0.9333, 0.9294,\n",
       "        1.0000, 0.0000, 0.0000, 0.0000, 0.0000, 0.0000, 0.0000, 0.0000, 0.4902,\n",
       "        0.9765, 0.9098, 0.9804, 0.9412, 0.9451, 0.9333, 0.9333, 0.9294, 0.9255,\n",
       "        0.9255, 0.9294, 0.9373, 0.9373, 0.9294, 0.9333, 0.9333, 0.9333, 0.9216,\n",
       "        0.9333, 1.0000, 0.0000, 0.0000, 0.0000, 0.0000, 0.0000, 0.0000, 0.0000,\n",
       "        0.5922, 0.9765, 0.9294, 0.9647, 0.9725, 0.9647, 0.9569, 0.9412, 0.9294,\n",
       "        0.9294, 0.9294, 0.9333, 0.9412, 0.9373, 0.9333, 0.9373, 0.9333, 0.9216,\n",
       "        0.8980, 0.9451, 0.7686, 0.0000, 0.0000, 0.0000, 0.0000, 0.0000, 0.0000,\n",
       "        0.2941, 0.9059, 0.9216, 0.9412, 0.9216, 0.9098, 0.9059, 0.9255, 0.9412,\n",
       "        1.0000, 1.0000, 0.9490, 0.9608, 0.9647, 0.9765, 0.9804, 0.9765, 0.9804,\n",
       "        0.9882, 0.9725, 1.0000, 0.6824, 0.0000, 0.0000, 0.0000, 0.0000, 0.0000,\n",
       "        0.0000, 0.6627, 0.8902, 0.8549, 0.8941, 0.8549, 0.8588, 0.8627, 0.9294,\n",
       "        0.8510, 0.0000, 0.0745, 0.1020, 0.1216, 0.1333, 0.1882, 0.2039, 0.1647,\n",
       "        0.2196, 0.2863, 0.3255, 0.3569, 0.1882, 0.0000, 0.0000, 0.0000, 0.0000,\n",
       "        0.0000, 0.0000, 0.2980, 1.0000, 0.9333, 0.9490, 1.0000, 1.0000, 0.9725,\n",
       "        1.0000, 0.8667, 0.0000, 0.0000, 0.0000, 0.0000, 0.0000, 0.0000, 0.0000,\n",
       "        0.0000, 0.0000, 0.0000, 0.0000, 0.0000, 0.0000, 0.0000, 0.0000, 0.0000,\n",
       "        0.0000, 0.0000, 0.0000, 0.0000, 0.0000, 0.0941, 0.2431, 0.2824, 0.3098,\n",
       "        0.3255, 0.4157, 0.0863, 0.0000, 0.0039, 0.0118, 0.0078, 0.0039, 0.0039,\n",
       "        0.0039, 0.0039, 0.0039, 0.0118, 0.0392, 0.0275, 0.0157, 0.0000, 0.0000,\n",
       "        0.0000])"
      ]
     },
     "execution_count": 91,
     "metadata": {},
     "output_type": "execute_result"
    }
   ],
   "source": [
    "output.squeeze()"
   ]
  },
  {
   "cell_type": "code",
   "execution_count": 92,
   "id": "756a3bf2",
   "metadata": {},
   "outputs": [],
   "source": [
    "from torch import nn \n",
    "class FashionMNISTModelV0(nn.Module):\n",
    "    def __init__(self,\n",
    "                 input_shape:int,\n",
    "                 hidden_units:int,\n",
    "                 output_shape:int):\n",
    "        super().__init__()\n",
    "        self.layer_stack=nn.Sequential(\n",
    "            nn.Flatten(),\n",
    "            nn.Linear(in_features=input_shape,\n",
    "                      out_features=hidden_units),\n",
    "            nn.Linear(in_features=hidden_units,\n",
    "                      out_features=output_shape)\n",
    "        )\n",
    "\n",
    "    def forward(self,x):\n",
    "        return self.layer_stack(x)"
   ]
  },
  {
   "cell_type": "code",
   "execution_count": 93,
   "id": "127cf033",
   "metadata": {},
   "outputs": [
    {
     "data": {
      "text/plain": [
       "FashionMNISTModelV0(\n",
       "  (layer_stack): Sequential(\n",
       "    (0): Flatten(start_dim=1, end_dim=-1)\n",
       "    (1): Linear(in_features=784, out_features=10, bias=True)\n",
       "    (2): Linear(in_features=10, out_features=10, bias=True)\n",
       "  )\n",
       ")"
      ]
     },
     "execution_count": 93,
     "metadata": {},
     "output_type": "execute_result"
    }
   ],
   "source": [
    "torch.manual_seed(69)\n",
    "\n",
    "#setup model with input parameters\n",
    "model0=FashionMNISTModelV0(\n",
    "    input_shape=784,#output of flatten is input here, i.e 28*28\n",
    "    hidden_units=10, \n",
    "    output_shape=len(class_names)#one for every class \n",
    ").to(\"cpu\")\n",
    "\n",
    "model0"
   ]
  },
  {
   "cell_type": "code",
   "execution_count": 94,
   "id": "97dc95d2",
   "metadata": {},
   "outputs": [
    {
     "data": {
      "text/plain": [
       "tensor([[-0.0202, -0.2152,  0.5079,  0.0495, -0.3395,  0.1103,  0.4908,  0.2148,\n",
       "          0.1127, -0.0960]], grad_fn=<AddmmBackward0>)"
      ]
     },
     "execution_count": 94,
     "metadata": {},
     "output_type": "execute_result"
    }
   ],
   "source": [
    "#creating raw logits \n",
    "dummydat=torch.rand([1,1,28,28])\n",
    "model0(dummydat)"
   ]
  },
  {
   "cell_type": "code",
   "execution_count": 95,
   "id": "b8e72bca",
   "metadata": {},
   "outputs": [],
   "source": [
    "#loss optimizer setup \n",
    "#multiple class so cross entropy loss , optimier will be SGD \n",
    "#evaluation metric will be accuracy \n",
    "\n",
    "from helper_functions import accuracy_fn\n",
    "\n",
    "\n",
    "#Setup loss function and optimizer \n",
    "loss_fn= nn.CrossEntropyLoss()\n",
    "optimizer = torch.optim.SGD(params=model0.parameters(),\n",
    "                            lr=0.1)"
   ]
  },
  {
   "cell_type": "code",
   "execution_count": 96,
   "id": "2df18c80",
   "metadata": {},
   "outputs": [],
   "source": [
    "#creating a function to time the experiments \n",
    "from timeit import default_timer as timer\n",
    "\n",
    "def print_train_time(start:float,\n",
    "                     end: float,\n",
    "                     device:torch.device = None):\n",
    "    '''prints difference between start and end time'''\n",
    "    total_time=end-start\n",
    "    print(f\"Train time on {device}: {total_time:.3f} seconds\")\n",
    "    return total_time"
   ]
  },
  {
   "cell_type": "code",
   "execution_count": 97,
   "id": "8c0c92eb",
   "metadata": {},
   "outputs": [
    {
     "name": "stdout",
     "output_type": "stream",
     "text": [
      "Train time on cpu: 0.000 seconds\n"
     ]
    },
    {
     "data": {
      "text/plain": [
       "1.6299996786983684e-05"
      ]
     },
     "execution_count": 97,
     "metadata": {},
     "output_type": "execute_result"
    }
   ],
   "source": [
    "\n",
    "start_time= timer()\n",
    "#codeblock\n",
    "end_time= timer()\n",
    "print_train_time(start=start_time, end=end_time, device=\"cpu\")"
   ]
  },
  {
   "cell_type": "code",
   "execution_count": 98,
   "id": "5e547165",
   "metadata": {},
   "outputs": [
    {
     "name": "stderr",
     "output_type": "stream",
     "text": [
      "  0%|          | 0/3 [00:00<?, ?it/s]"
     ]
    },
    {
     "name": "stdout",
     "output_type": "stream",
     "text": [
      "Epoch: {epoch}\n",
      " --------\n",
      "Looked at 0/60000)\n",
      "Looked at 12800/60000)\n",
      "Looked at 25600/60000)\n",
      "Looked at 38400/60000)\n",
      "Looked at 51200/60000)\n"
     ]
    },
    {
     "name": "stderr",
     "output_type": "stream",
     "text": [
      " 33%|███▎      | 1/3 [00:04<00:08,  4.50s/it]"
     ]
    },
    {
     "name": "stdout",
     "output_type": "stream",
     "text": [
      "Epoch: {epoch}\n",
      " --------\n",
      "Looked at 0/60000)\n",
      "Looked at 12800/60000)\n",
      "Looked at 25600/60000)\n",
      "Looked at 38400/60000)\n",
      "Looked at 51200/60000)\n"
     ]
    },
    {
     "name": "stderr",
     "output_type": "stream",
     "text": [
      " 67%|██████▋   | 2/3 [00:08<00:04,  4.21s/it]"
     ]
    },
    {
     "name": "stdout",
     "output_type": "stream",
     "text": [
      "Epoch: {epoch}\n",
      " --------\n",
      "Looked at 0/60000)\n",
      "Looked at 12800/60000)\n",
      "Looked at 25600/60000)\n",
      "Looked at 38400/60000)\n",
      "Looked at 51200/60000)\n"
     ]
    },
    {
     "name": "stderr",
     "output_type": "stream",
     "text": [
      "100%|██████████| 3/3 [00:12<00:00,  4.29s/it]\n"
     ]
    },
    {
     "name": "stdout",
     "output_type": "stream",
     "text": [
      "\n",
      " Train loss: 0.4525 | test loss: 0.0156, test acc: 82.25838658146965\n"
     ]
    },
    {
     "ename": "AttributeError",
     "evalue": "'str' object has no attribute 'device'",
     "output_type": "error",
     "traceback": [
      "\u001b[31m---------------------------------------------------------------------------\u001b[39m",
      "\u001b[31mAttributeError\u001b[39m                            Traceback (most recent call last)",
      "\u001b[36mCell\u001b[39m\u001b[36m \u001b[39m\u001b[32mIn[98]\u001b[39m\u001b[32m, line 58\u001b[39m\n\u001b[32m     54\u001b[39m \u001b[38;5;66;03m#calc train time \u001b[39;00m\n\u001b[32m     55\u001b[39m train_time_end_on_cpu=timer()\n\u001b[32m     56\u001b[39m total_train_time_model0= print_train_time(start=train_time_start_cpu,\n\u001b[32m     57\u001b[39m                                           end=train_time_end_on_cpu,\n\u001b[32m---> \u001b[39m\u001b[32m58\u001b[39m                                           device=\u001b[38;5;28;43mstr\u001b[39;49m\u001b[43m(\u001b[49m\u001b[38;5;28;43mnext\u001b[39;49m\u001b[43m(\u001b[49m\u001b[43mmodel0\u001b[49m\u001b[43m.\u001b[49m\u001b[43mparameters\u001b[49m\u001b[43m(\u001b[49m\u001b[43m)\u001b[49m\u001b[43m)\u001b[49m\u001b[43m)\u001b[49m\u001b[43m.\u001b[49m\u001b[43mdevice\u001b[49m)\n",
      "\u001b[31mAttributeError\u001b[39m: 'str' object has no attribute 'device'"
     ]
    }
   ],
   "source": [
    "#creating training loop and training model on batches \n",
    "from tqdm.auto import tqdm\n",
    "\n",
    "#set the seed and start the timer \n",
    "torch.manual_seed(69)\n",
    "train_time_start_cpu = timer()\n",
    "\n",
    "epochs = 3\n",
    "\n",
    "#create training and test loop \n",
    "\n",
    "for epoch in tqdm(range(epochs)):\n",
    "    print(\"Epoch: {epoch}\\n --------\")\n",
    "    #training\n",
    "    train_loss=0\n",
    "    #add a loop to loop through training data \n",
    "    for batch, (X,y) in enumerate(train_dataloader):\n",
    "        model0.train()\n",
    "        #forward pass \n",
    "        y_pred = model0(X)\n",
    "        #loss calc per batch \n",
    "        loss = loss_fn(y_pred,y)\n",
    "        train_loss += loss #accumalation of training loss values of every batch\n",
    "\n",
    "        optimizer.zero_grad()\n",
    "        loss.backward()\n",
    "        optimizer.step() \n",
    "        #print progress\n",
    "        if batch%400 == 0:\n",
    "            print(f\"Looked at {batch*len(X)}/{len(train_dataloader.dataset)})\")\n",
    "        \n",
    "#divide total train loss by length of train dataloader\n",
    "train_loss/=len(train_dataloader)\n",
    "#testing\n",
    "testloss, test_acc = 0,0\n",
    "model0.eval()\n",
    "with torch.inference_mode():\n",
    "    for X,y in test_dataloader:\n",
    "        #forward pass\n",
    "        test_pred = model0(X)\n",
    "\n",
    "        #calculate loss\n",
    "        testloss+= loss_fn(test_pred,y)\n",
    "    \n",
    "        #calculate accuracy\n",
    "        test_acc += accuracy_fn(y_true=y,y_pred=test_pred.argmax(dim=1))\n",
    "    #calculate the test loss average \n",
    "    testloss/=len(test_data)\n",
    "\n",
    "    #test accuracy per batch\n",
    "    test_acc /= len(test_dataloader)\n",
    "#print\n",
    "print(f\"\\n Train loss: {train_loss:.4f} | test loss: {testloss:.4f}, test acc: {test_acc}\")\n",
    "#calc train time \n",
    "train_time_end_on_cpu=timer()\n",
    "total_train_time_model0= print_train_time(start=train_time_start_cpu,\n",
    "                                          end=train_time_end_on_cpu,\n",
    "                                          device=str(next(model0.parameters())).device)\n"
   ]
  }
 ],
 "metadata": {
  "kernelspec": {
   "display_name": ".venv",
   "language": "python",
   "name": "python3"
  },
  "language_info": {
   "codemirror_mode": {
    "name": "ipython",
    "version": 3
   },
   "file_extension": ".py",
   "mimetype": "text/x-python",
   "name": "python",
   "nbconvert_exporter": "python",
   "pygments_lexer": "ipython3",
   "version": "3.12.8"
  }
 },
 "nbformat": 4,
 "nbformat_minor": 5
}
