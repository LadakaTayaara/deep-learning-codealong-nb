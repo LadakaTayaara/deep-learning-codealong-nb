{
 "cells": [
  {
   "cell_type": "code",
   "execution_count": 2,
   "id": "207b04fd",
   "metadata": {},
   "outputs": [],
   "source": [
    "import torch\n",
    "from torch import nn\n",
    "\n",
    "from torchvision import datasets\n",
    "from torchvision import transforms\n",
    "from torchvision.transforms import ToTensor #converts images to tensors\n",
    "\n",
    "import matplotlib.pyplot as plt\n"
   ]
  },
  {
   "cell_type": "code",
   "execution_count": 3,
   "id": "50771be5",
   "metadata": {},
   "outputs": [],
   "source": [
    "#getting dataset , here we are gonna use MNIST fashion datasets\n",
    "train_data=datasets.FashionMNIST(\n",
    "    root=\"data\", #where to download\n",
    "    train=True,#do we want training or testing dataset\n",
    "    download=True,\n",
    "    transform=ToTensor(),\n",
    "    target_transform=None #defines how to transform how to transform labels\n",
    ")\n",
    "\n",
    "test_data= datasets.FashionMNIST(\n",
    "    root=\"data\",\n",
    "    train=False,\n",
    "    download=True,\n",
    "    transform=ToTensor(),\n",
    "    target_transform=None\n",
    ")"
   ]
  },
  {
   "cell_type": "code",
   "execution_count": 4,
   "id": "d5748996",
   "metadata": {},
   "outputs": [
    {
     "data": {
      "text/plain": [
       "(60000, 10000)"
      ]
     },
     "execution_count": 4,
     "metadata": {},
     "output_type": "execute_result"
    }
   ],
   "source": [
    "len(train_data), len(test_data)"
   ]
  },
  {
   "cell_type": "code",
   "execution_count": 5,
   "id": "b113580f",
   "metadata": {},
   "outputs": [
    {
     "data": {
      "text/plain": [
       "(tensor([[[0.0000, 0.0000, 0.0000, 0.0000, 0.0000, 0.0000, 0.0000, 0.0000,\n",
       "           0.0000, 0.0000, 0.0000, 0.0000, 0.0000, 0.0000, 0.0000, 0.0000,\n",
       "           0.0000, 0.0000, 0.0000, 0.0000, 0.0000, 0.0000, 0.0000, 0.0000,\n",
       "           0.0000, 0.0000, 0.0000, 0.0000],\n",
       "          [0.0000, 0.0000, 0.0000, 0.0000, 0.0000, 0.0000, 0.0000, 0.0000,\n",
       "           0.0000, 0.0000, 0.0000, 0.0000, 0.0000, 0.0000, 0.0000, 0.0000,\n",
       "           0.0000, 0.0000, 0.0000, 0.0000, 0.0000, 0.0000, 0.0000, 0.0000,\n",
       "           0.0000, 0.0000, 0.0000, 0.0000],\n",
       "          [0.0000, 0.0000, 0.0000, 0.0000, 0.0000, 0.0000, 0.0000, 0.0000,\n",
       "           0.0000, 0.0000, 0.0000, 0.0000, 0.0000, 0.0000, 0.0000, 0.0000,\n",
       "           0.0000, 0.0000, 0.0000, 0.0000, 0.0000, 0.0000, 0.0000, 0.0000,\n",
       "           0.0000, 0.0000, 0.0000, 0.0000],\n",
       "          [0.0000, 0.0000, 0.0000, 0.0000, 0.0000, 0.0000, 0.0000, 0.0000,\n",
       "           0.0000, 0.0000, 0.0000, 0.0000, 0.0039, 0.0000, 0.0000, 0.0510,\n",
       "           0.2863, 0.0000, 0.0000, 0.0039, 0.0157, 0.0000, 0.0000, 0.0000,\n",
       "           0.0000, 0.0039, 0.0039, 0.0000],\n",
       "          [0.0000, 0.0000, 0.0000, 0.0000, 0.0000, 0.0000, 0.0000, 0.0000,\n",
       "           0.0000, 0.0000, 0.0000, 0.0000, 0.0118, 0.0000, 0.1412, 0.5333,\n",
       "           0.4980, 0.2431, 0.2118, 0.0000, 0.0000, 0.0000, 0.0039, 0.0118,\n",
       "           0.0157, 0.0000, 0.0000, 0.0118],\n",
       "          [0.0000, 0.0000, 0.0000, 0.0000, 0.0000, 0.0000, 0.0000, 0.0000,\n",
       "           0.0000, 0.0000, 0.0000, 0.0000, 0.0235, 0.0000, 0.4000, 0.8000,\n",
       "           0.6902, 0.5255, 0.5647, 0.4824, 0.0902, 0.0000, 0.0000, 0.0000,\n",
       "           0.0000, 0.0471, 0.0392, 0.0000],\n",
       "          [0.0000, 0.0000, 0.0000, 0.0000, 0.0000, 0.0000, 0.0000, 0.0000,\n",
       "           0.0000, 0.0000, 0.0000, 0.0000, 0.0000, 0.0000, 0.6078, 0.9255,\n",
       "           0.8118, 0.6980, 0.4196, 0.6118, 0.6314, 0.4275, 0.2510, 0.0902,\n",
       "           0.3020, 0.5098, 0.2824, 0.0588],\n",
       "          [0.0000, 0.0000, 0.0000, 0.0000, 0.0000, 0.0000, 0.0000, 0.0000,\n",
       "           0.0000, 0.0000, 0.0000, 0.0039, 0.0000, 0.2706, 0.8118, 0.8745,\n",
       "           0.8549, 0.8471, 0.8471, 0.6392, 0.4980, 0.4745, 0.4784, 0.5725,\n",
       "           0.5529, 0.3451, 0.6745, 0.2588],\n",
       "          [0.0000, 0.0000, 0.0000, 0.0000, 0.0000, 0.0000, 0.0000, 0.0000,\n",
       "           0.0000, 0.0039, 0.0039, 0.0039, 0.0000, 0.7843, 0.9098, 0.9098,\n",
       "           0.9137, 0.8980, 0.8745, 0.8745, 0.8431, 0.8353, 0.6431, 0.4980,\n",
       "           0.4824, 0.7686, 0.8980, 0.0000],\n",
       "          [0.0000, 0.0000, 0.0000, 0.0000, 0.0000, 0.0000, 0.0000, 0.0000,\n",
       "           0.0000, 0.0000, 0.0000, 0.0000, 0.0000, 0.7176, 0.8824, 0.8471,\n",
       "           0.8745, 0.8941, 0.9216, 0.8902, 0.8784, 0.8706, 0.8784, 0.8667,\n",
       "           0.8745, 0.9608, 0.6784, 0.0000],\n",
       "          [0.0000, 0.0000, 0.0000, 0.0000, 0.0000, 0.0000, 0.0000, 0.0000,\n",
       "           0.0000, 0.0000, 0.0000, 0.0000, 0.0000, 0.7569, 0.8941, 0.8549,\n",
       "           0.8353, 0.7765, 0.7059, 0.8314, 0.8235, 0.8275, 0.8353, 0.8745,\n",
       "           0.8627, 0.9529, 0.7922, 0.0000],\n",
       "          [0.0000, 0.0000, 0.0000, 0.0000, 0.0000, 0.0000, 0.0000, 0.0000,\n",
       "           0.0000, 0.0039, 0.0118, 0.0000, 0.0471, 0.8588, 0.8627, 0.8314,\n",
       "           0.8549, 0.7529, 0.6627, 0.8902, 0.8157, 0.8549, 0.8784, 0.8314,\n",
       "           0.8863, 0.7725, 0.8196, 0.2039],\n",
       "          [0.0000, 0.0000, 0.0000, 0.0000, 0.0000, 0.0000, 0.0000, 0.0000,\n",
       "           0.0000, 0.0000, 0.0235, 0.0000, 0.3882, 0.9569, 0.8706, 0.8627,\n",
       "           0.8549, 0.7961, 0.7765, 0.8667, 0.8431, 0.8353, 0.8706, 0.8627,\n",
       "           0.9608, 0.4667, 0.6549, 0.2196],\n",
       "          [0.0000, 0.0000, 0.0000, 0.0000, 0.0000, 0.0000, 0.0000, 0.0000,\n",
       "           0.0000, 0.0157, 0.0000, 0.0000, 0.2157, 0.9255, 0.8941, 0.9020,\n",
       "           0.8941, 0.9412, 0.9098, 0.8353, 0.8549, 0.8745, 0.9176, 0.8510,\n",
       "           0.8510, 0.8196, 0.3608, 0.0000],\n",
       "          [0.0000, 0.0000, 0.0039, 0.0157, 0.0235, 0.0275, 0.0078, 0.0000,\n",
       "           0.0000, 0.0000, 0.0000, 0.0000, 0.9294, 0.8863, 0.8510, 0.8745,\n",
       "           0.8706, 0.8588, 0.8706, 0.8667, 0.8471, 0.8745, 0.8980, 0.8431,\n",
       "           0.8549, 1.0000, 0.3020, 0.0000],\n",
       "          [0.0000, 0.0118, 0.0000, 0.0000, 0.0000, 0.0000, 0.0000, 0.0000,\n",
       "           0.0000, 0.2431, 0.5686, 0.8000, 0.8941, 0.8118, 0.8353, 0.8667,\n",
       "           0.8549, 0.8157, 0.8275, 0.8549, 0.8784, 0.8745, 0.8588, 0.8431,\n",
       "           0.8784, 0.9569, 0.6235, 0.0000],\n",
       "          [0.0000, 0.0000, 0.0000, 0.0000, 0.0706, 0.1725, 0.3216, 0.4196,\n",
       "           0.7412, 0.8941, 0.8627, 0.8706, 0.8510, 0.8863, 0.7843, 0.8039,\n",
       "           0.8275, 0.9020, 0.8784, 0.9176, 0.6902, 0.7373, 0.9804, 0.9725,\n",
       "           0.9137, 0.9333, 0.8431, 0.0000],\n",
       "          [0.0000, 0.2235, 0.7333, 0.8157, 0.8784, 0.8667, 0.8784, 0.8157,\n",
       "           0.8000, 0.8392, 0.8157, 0.8196, 0.7843, 0.6235, 0.9608, 0.7569,\n",
       "           0.8078, 0.8745, 1.0000, 1.0000, 0.8667, 0.9176, 0.8667, 0.8275,\n",
       "           0.8627, 0.9098, 0.9647, 0.0000],\n",
       "          [0.0118, 0.7922, 0.8941, 0.8784, 0.8667, 0.8275, 0.8275, 0.8392,\n",
       "           0.8039, 0.8039, 0.8039, 0.8627, 0.9412, 0.3137, 0.5882, 1.0000,\n",
       "           0.8980, 0.8667, 0.7373, 0.6039, 0.7490, 0.8235, 0.8000, 0.8196,\n",
       "           0.8706, 0.8941, 0.8824, 0.0000],\n",
       "          [0.3843, 0.9137, 0.7765, 0.8235, 0.8706, 0.8980, 0.8980, 0.9176,\n",
       "           0.9765, 0.8627, 0.7608, 0.8431, 0.8510, 0.9451, 0.2549, 0.2863,\n",
       "           0.4157, 0.4588, 0.6588, 0.8588, 0.8667, 0.8431, 0.8510, 0.8745,\n",
       "           0.8745, 0.8784, 0.8980, 0.1137],\n",
       "          [0.2941, 0.8000, 0.8314, 0.8000, 0.7569, 0.8039, 0.8275, 0.8824,\n",
       "           0.8471, 0.7255, 0.7725, 0.8078, 0.7765, 0.8353, 0.9412, 0.7647,\n",
       "           0.8902, 0.9608, 0.9373, 0.8745, 0.8549, 0.8314, 0.8196, 0.8706,\n",
       "           0.8627, 0.8667, 0.9020, 0.2627],\n",
       "          [0.1882, 0.7961, 0.7176, 0.7608, 0.8353, 0.7725, 0.7255, 0.7451,\n",
       "           0.7608, 0.7529, 0.7922, 0.8392, 0.8588, 0.8667, 0.8627, 0.9255,\n",
       "           0.8824, 0.8471, 0.7804, 0.8078, 0.7294, 0.7098, 0.6941, 0.6745,\n",
       "           0.7098, 0.8039, 0.8078, 0.4510],\n",
       "          [0.0000, 0.4784, 0.8588, 0.7569, 0.7020, 0.6706, 0.7176, 0.7686,\n",
       "           0.8000, 0.8235, 0.8353, 0.8118, 0.8275, 0.8235, 0.7843, 0.7686,\n",
       "           0.7608, 0.7490, 0.7647, 0.7490, 0.7765, 0.7529, 0.6902, 0.6118,\n",
       "           0.6549, 0.6941, 0.8235, 0.3608],\n",
       "          [0.0000, 0.0000, 0.2902, 0.7412, 0.8314, 0.7490, 0.6863, 0.6745,\n",
       "           0.6863, 0.7098, 0.7255, 0.7373, 0.7412, 0.7373, 0.7569, 0.7765,\n",
       "           0.8000, 0.8196, 0.8235, 0.8235, 0.8275, 0.7373, 0.7373, 0.7608,\n",
       "           0.7529, 0.8471, 0.6667, 0.0000],\n",
       "          [0.0078, 0.0000, 0.0000, 0.0000, 0.2588, 0.7843, 0.8706, 0.9294,\n",
       "           0.9373, 0.9490, 0.9647, 0.9529, 0.9569, 0.8667, 0.8627, 0.7569,\n",
       "           0.7490, 0.7020, 0.7137, 0.7137, 0.7098, 0.6902, 0.6510, 0.6588,\n",
       "           0.3882, 0.2275, 0.0000, 0.0000],\n",
       "          [0.0000, 0.0000, 0.0000, 0.0000, 0.0000, 0.0000, 0.0000, 0.1569,\n",
       "           0.2392, 0.1725, 0.2824, 0.1608, 0.1373, 0.0000, 0.0000, 0.0000,\n",
       "           0.0000, 0.0000, 0.0000, 0.0000, 0.0000, 0.0000, 0.0000, 0.0000,\n",
       "           0.0000, 0.0000, 0.0000, 0.0000],\n",
       "          [0.0000, 0.0000, 0.0000, 0.0000, 0.0000, 0.0000, 0.0000, 0.0000,\n",
       "           0.0000, 0.0000, 0.0000, 0.0000, 0.0000, 0.0000, 0.0000, 0.0000,\n",
       "           0.0000, 0.0000, 0.0000, 0.0000, 0.0000, 0.0000, 0.0000, 0.0000,\n",
       "           0.0000, 0.0000, 0.0000, 0.0000],\n",
       "          [0.0000, 0.0000, 0.0000, 0.0000, 0.0000, 0.0000, 0.0000, 0.0000,\n",
       "           0.0000, 0.0000, 0.0000, 0.0000, 0.0000, 0.0000, 0.0000, 0.0000,\n",
       "           0.0000, 0.0000, 0.0000, 0.0000, 0.0000, 0.0000, 0.0000, 0.0000,\n",
       "           0.0000, 0.0000, 0.0000, 0.0000]]]),\n",
       " 9)"
      ]
     },
     "execution_count": 5,
     "metadata": {},
     "output_type": "execute_result"
    }
   ],
   "source": [
    "#See the first training sample\n",
    "image , label=train_data[0]\n",
    "image, label"
   ]
  },
  {
   "cell_type": "code",
   "execution_count": 6,
   "id": "5b255035",
   "metadata": {},
   "outputs": [
    {
     "data": {
      "text/plain": [
       "['T-shirt/top',\n",
       " 'Trouser',\n",
       " 'Pullover',\n",
       " 'Dress',\n",
       " 'Coat',\n",
       " 'Sandal',\n",
       " 'Shirt',\n",
       " 'Sneaker',\n",
       " 'Bag',\n",
       " 'Ankle boot']"
      ]
     },
     "execution_count": 6,
     "metadata": {},
     "output_type": "execute_result"
    }
   ],
   "source": [
    "class_names = train_data.classes\n",
    "class_names"
   ]
  },
  {
   "cell_type": "code",
   "execution_count": 7,
   "id": "228ac562",
   "metadata": {},
   "outputs": [
    {
     "data": {
      "text/plain": [
       "{'T-shirt/top': 0,\n",
       " 'Trouser': 1,\n",
       " 'Pullover': 2,\n",
       " 'Dress': 3,\n",
       " 'Coat': 4,\n",
       " 'Sandal': 5,\n",
       " 'Shirt': 6,\n",
       " 'Sneaker': 7,\n",
       " 'Bag': 8,\n",
       " 'Ankle boot': 9}"
      ]
     },
     "execution_count": 7,
     "metadata": {},
     "output_type": "execute_result"
    }
   ],
   "source": [
    "class_to_index=train_data.class_to_idx\n",
    "class_to_index"
   ]
  },
  {
   "cell_type": "code",
   "execution_count": 8,
   "id": "0d88fe6e",
   "metadata": {},
   "outputs": [
    {
     "data": {
      "text/plain": [
       "(torch.Size([1, 28, 28]), 9)"
      ]
     },
     "execution_count": 8,
     "metadata": {},
     "output_type": "execute_result"
    }
   ],
   "source": [
    "image.shape , label #label doesnt have a shape, since its an integer "
   ]
  },
  {
   "cell_type": "markdown",
   "id": "97b44969",
   "metadata": {},
   "source": [
    "color channel , height, width format here , greyscale has one color channel since its just black and white and in between "
   ]
  },
  {
   "cell_type": "code",
   "execution_count": 9,
   "id": "3fd2f1e6",
   "metadata": {},
   "outputs": [
    {
     "name": "stdout",
     "output_type": "stream",
     "text": [
      "torch.Size([1, 28, 28])\n"
     ]
    },
    {
     "data": {
      "text/plain": [
       "Text(0.5, 1.0, '9')"
      ]
     },
     "execution_count": 9,
     "metadata": {},
     "output_type": "execute_result"
    },
    {
     "data": {
      "image/png": "[encoded data removed]",
      "text/plain": [
       "<Figure size 640x480 with 1 Axes>"
      ]
     },
     "metadata": {},
     "output_type": "display_data"
    }
   ],
   "source": [
    "import matplotlib.pyplot as plt \n",
    "image, label= train_data[0]\n",
    "print(image.shape)#shape error is very common\n",
    "plt.imshow(image.squeeze())\n",
    "plt.title(label)"
   ]
  },
  {
   "cell_type": "code",
   "execution_count": 10,
   "id": "ab1fc074",
   "metadata": {},
   "outputs": [
    {
     "data": {
      "text/plain": [
       "Text(0.5, 1.0, 'Ankle boot')"
      ]
     },
     "execution_count": 10,
     "metadata": {},
     "output_type": "execute_result"
    },
    {
     "data": {
      "image/png": "[encoded data removed]",
      "text/plain": [
       "<Figure size 640x480 with 1 Axes>"
      ]
     },
     "metadata": {},
     "output_type": "display_data"
    }
   ],
   "source": [
    "plt.imshow(image.squeeze(),cmap=\"gray\")\n",
    "plt.title(class_names[label])"
   ]
  },
  {
   "cell_type": "code",
   "execution_count": 11,
   "id": "ef84b417",
   "metadata": {},
   "outputs": [
    {
     "name": "stdout",
     "output_type": "stream",
     "text": [
      "11768\n",
      "56614\n",
      "40300\n",
      "48593\n",
      "34130\n",
      "34611\n",
      "27999\n",
      "23677\n",
      "1627\n",
      "5062\n",
      "15875\n",
      "25857\n",
      "6502\n",
      "11156\n",
      "17838\n",
      "51623\n"
     ]
    },
    {
     "data": {
      "image/png": "[encoded data removed]",
      "text/plain": [
       "<Figure size 900x900 with 16 Axes>"
      ]
     },
     "metadata": {},
     "output_type": "display_data"
    }
   ],
   "source": [
    "#random images now via imshow\n",
    "fig = plt.figure(figsize=(9,9))\n",
    "rows, cols = 4,4\n",
    "for i in range(1,rows*cols+1):\n",
    "    random_idx = torch.randint(0,len(train_data),size=[1]).item()\n",
    "    print(random_idx)\n",
    "    img ,label= train_data[random_idx]\n",
    "    fig.add_subplot(rows, cols , i)\n",
    "    plt.imshow(img.squeeze(), cmap=\"gray\")\n",
    "    plt.title(class_names[label])\n",
    "    plt.axis(False)"
   ]
  },
  {
   "cell_type": "code",
   "execution_count": 12,
   "id": "764a0e42",
   "metadata": {},
   "outputs": [
    {
     "data": {
      "text/plain": [
       "(<torch.utils.data.dataloader.DataLoader at 0x1af46746ba0>,\n",
       " <torch.utils.data.dataloader.DataLoader at 0x1af47a7e930>)"
      ]
     },
     "execution_count": 12,
     "metadata": {},
     "output_type": "execute_result"
    }
   ],
   "source": [
    "#prepare a dataloader \n",
    "#right now data is in the form of a pytorch datasets\n",
    "#dataloader turns tensor into a python iterable. basically we are turning data into batches and mini batches \n",
    "\n",
    "from torch.utils.data import DataLoader\n",
    "\n",
    "#setup the batch size \n",
    "BATCH_SIZE= 32\n",
    "\n",
    "#turn data sets into iterables(batches)\n",
    "train_dataloader = DataLoader(dataset=train_data,\n",
    "                              batch_size=BATCH_SIZE,\n",
    "                              shuffle=True)\n",
    "\n",
    "test_dataloader= DataLoader(dataset=test_data,\n",
    "                            batch_size=BATCH_SIZE,\n",
    "                            shuffle=False)#order doesnt matter in the test data , its more optimized to keep the shuffle off \n",
    "\n",
    "train_dataloader,test_dataloader"
   ]
  },
  {
   "cell_type": "code",
   "execution_count": 13,
   "id": "1ec9a2e5",
   "metadata": {},
   "outputs": [
    {
     "data": {
      "text/plain": [
       "(1875, 313)"
      ]
     },
     "execution_count": 13,
     "metadata": {},
     "output_type": "execute_result"
    }
   ],
   "source": [
    "len(train_dataloader), len(test_dataloader) #numbers of batches created \n"
   ]
  },
  {
   "cell_type": "code",
   "execution_count": 14,
   "id": "11e8f642",
   "metadata": {},
   "outputs": [
    {
     "data": {
      "text/plain": [
       "(torch.Size([32, 1, 28, 28]), torch.Size([32]))"
      ]
     },
     "execution_count": 14,
     "metadata": {},
     "output_type": "execute_result"
    }
   ],
   "source": [
    "train_features_batch, train_labels_batch = next(iter(train_dataloader))#next is used to extract the next time from an iterable, iterable means elements can be gone through in it one by one , like for loop\n",
    "train_features_batch.shape , train_labels_batch.shape"
   ]
  },
  {
   "cell_type": "code",
   "execution_count": 15,
   "id": "a75799ea",
   "metadata": {},
   "outputs": [
    {
     "name": "stdout",
     "output_type": "stream",
     "text": [
      "image size: torch.Size([1, 28, 28])\n",
      "Label: 2 Label shape: torch.Size([])\n"
     ]
    },
    {
     "data": {
      "image/png": "[encoded data removed]",
      "text/plain": [
       "<Figure size 640x480 with 1 Axes>"
      ]
     },
     "metadata": {},
     "output_type": "display_data"
    }
   ],
   "source": [
    "#show a sample \n",
    "#torch.manual_seed(42)\n",
    "random_idx = torch.randint(0, len(train_features_batch), size=[1]).item()\n",
    "img, label = train_features_batch[random_idx], train_labels_batch[random_idx]\n",
    "plt.imshow(img.squeeze(), cmap=\"gray\")\n",
    "plt.title(class_names[label])\n",
    "plt.axis(False)\n",
    "print(f\"image size: {img.shape}\")\n",
    "print(f\"Label: {label} Label shape: {label.shape}\")"
   ]
  },
  {
   "cell_type": "markdown",
   "id": "08f3606e",
   "metadata": {},
   "source": [
    "=================== end of data loading part ==========================="
   ]
  },
  {
   "cell_type": "markdown",
   "id": "3220d574",
   "metadata": {},
   "source": []
  },
  {
   "cell_type": "code",
   "execution_count": 16,
   "id": "5bd85943",
   "metadata": {},
   "outputs": [
    {
     "name": "stdout",
     "output_type": "stream",
     "text": [
      "shape before flattening : torch.Size([1, 28, 28]) -> color channel , height , width\n",
      "shape after flatterning: torch.Size([1, 784]) -> color channel , height*width\n"
     ]
    }
   ],
   "source": [
    "#model0 , baseline mode \n",
    "#create flatter layer\n",
    "\n",
    "flatten_model= nn.Flatten()\n",
    "\n",
    "#Get a single sample \n",
    "x= train_features_batch[0]\n",
    "x , x.shape\n",
    "\n",
    "#Flatten the sample , does forward pass internally \n",
    "output=flatten_model(x)#performs forward pass \n",
    "\n",
    "print(f\"shape before flattening : {x.shape} -> color channel , height , width\")\n",
    "print(f\"shape after flatterning: {output.shape} -> color channel , height*width\")"
   ]
  },
  {
   "cell_type": "code",
   "execution_count": 17,
   "id": "0f01046c",
   "metadata": {},
   "outputs": [
    {
     "data": {
      "text/plain": [
       "tensor([0.0000, 0.0000, 0.0000, 0.0000, 0.0235, 0.0039, 0.0000, 0.0000, 0.0000,\n",
       "        0.0000, 0.0000, 0.0000, 0.0000, 0.0000, 0.0000, 0.0000, 0.0000, 0.0000,\n",
       "        0.0000, 0.0000, 0.0000, 0.0000, 0.0235, 0.0000, 0.0000, 0.0000, 0.0000,\n",
       "        0.0000, 0.0000, 0.0000, 0.0000, 0.0000, 0.0000, 0.0000, 0.0745, 0.5294,\n",
       "        0.9020, 0.8510, 0.4118, 0.2039, 0.1412, 0.0667, 0.0000, 0.2000, 0.3216,\n",
       "        0.5098, 0.8706, 0.7922, 0.3098, 0.0000, 0.0000, 0.0000, 0.0000, 0.0000,\n",
       "        0.0000, 0.0000, 0.0000, 0.0000, 0.0000, 0.0000, 0.0000, 0.2902, 0.8863,\n",
       "        0.9294, 0.8667, 0.9020, 0.9961, 1.0000, 1.0000, 0.4549, 0.3451, 0.9333,\n",
       "        1.0000, 0.9961, 0.9176, 0.8706, 0.9333, 0.7961, 0.3608, 0.0000, 0.0000,\n",
       "        0.0000, 0.0000, 0.0000, 0.0000, 0.0000, 0.0157, 0.0000, 0.0078, 0.8431,\n",
       "        0.8667, 0.7961, 0.8392, 0.7765, 0.8118, 0.8784, 0.9216, 1.0000, 1.0000,\n",
       "        0.9294, 0.8784, 0.8235, 0.8118, 0.8392, 0.7961, 0.8588, 0.9255, 0.0784,\n",
       "        0.0000, 0.0039, 0.0000, 0.0000, 0.0039, 0.0000, 0.0157, 0.0000, 0.2275,\n",
       "        0.8980, 0.8275, 0.8667, 0.8314, 0.8275, 0.8392, 0.8235, 0.7882, 0.8000,\n",
       "        0.7922, 0.8078, 0.8039, 0.8314, 0.8471, 0.8431, 0.8549, 0.8157, 0.8980,\n",
       "        0.5020, 0.0000, 0.0157, 0.0000, 0.0000, 0.0000, 0.0000, 0.0157, 0.0000,\n",
       "        0.4588, 0.9176, 0.8471, 0.8471, 0.8196, 0.8353, 0.8314, 0.8314, 0.8392,\n",
       "        0.8314, 0.8314, 0.8314, 0.8353, 0.8275, 0.8431, 0.8314, 0.8275, 0.8275,\n",
       "        0.8863, 0.8275, 0.0000, 0.0000, 0.0000, 0.0000, 0.0000, 0.0000, 0.0000,\n",
       "        0.0000, 0.8118, 0.8980, 0.8157, 0.8824, 0.8118, 0.8314, 0.8275, 0.8275,\n",
       "        0.8275, 0.8314, 0.8314, 0.8275, 0.8275, 0.8314, 0.8353, 0.8157, 0.8196,\n",
       "        0.8667, 0.8392, 1.0000, 0.0157, 0.0000, 0.0039, 0.0000, 0.0039, 0.0000,\n",
       "        0.0000, 0.0000, 0.9961, 0.8510, 0.8706, 0.8667, 0.8314, 0.8275, 0.8314,\n",
       "        0.8314, 0.8314, 0.8275, 0.8314, 0.8314, 0.8314, 0.8314, 0.8235, 0.8118,\n",
       "        0.8353, 0.9020, 0.8118, 0.9216, 0.3294, 0.0000, 0.0039, 0.0000, 0.0000,\n",
       "        0.0078, 0.0000, 0.2627, 0.9098, 0.8353, 0.9020, 0.8784, 0.8118, 0.8275,\n",
       "        0.8275, 0.8275, 0.8196, 0.8275, 0.8275, 0.8275, 0.8314, 0.8275, 0.8157,\n",
       "        0.8235, 0.8431, 0.9098, 0.8118, 0.8902, 0.6471, 0.0000, 0.0118, 0.0000,\n",
       "        0.0039, 0.0353, 0.0000, 0.5333, 0.9255, 0.8235, 0.8941, 0.8706, 0.8078,\n",
       "        0.8353, 0.8196, 0.8314, 0.8353, 0.8353, 0.8353, 0.8314, 0.8275, 0.8314,\n",
       "        0.8392, 0.8039, 0.8980, 0.9294, 0.8078, 0.8706, 0.8980, 0.0000, 0.0000,\n",
       "        0.0000, 0.0039, 0.0000, 0.0000, 0.8314, 0.8980, 0.8392, 0.8980, 0.8627,\n",
       "        0.8275, 0.8549, 0.8196, 0.8275, 0.8431, 0.8353, 0.8353, 0.8353, 0.8314,\n",
       "        0.8275, 0.8745, 0.8000, 0.9216, 0.9176, 0.8196, 0.8549, 0.9882, 0.0000,\n",
       "        0.0000, 0.0039, 0.0157, 0.0000, 0.0000, 0.9961, 0.8706, 0.8706, 0.9059,\n",
       "        0.8549, 0.8431, 0.8667, 0.8196, 0.8275, 0.8510, 0.8431, 0.8353, 0.8353,\n",
       "        0.8353, 0.8157, 0.8902, 0.8118, 0.9412, 0.9137, 0.8353, 0.8157, 0.8980,\n",
       "        0.2588, 0.0000, 0.0039, 0.0118, 0.0000, 0.2392, 0.8941, 0.8549, 0.9020,\n",
       "        0.9176, 0.8549, 0.8471, 0.8392, 0.8196, 0.8392, 0.8549, 0.8392, 0.8392,\n",
       "        0.8353, 0.8392, 0.8196, 0.8706, 0.8314, 0.9373, 0.9294, 0.8196, 0.8196,\n",
       "        0.9176, 0.5059, 0.0000, 0.0000, 0.0275, 0.0000, 0.5020, 0.9176, 0.8314,\n",
       "        0.8980, 0.9176, 0.8549, 0.8392, 0.8314, 0.8314, 0.8431, 0.8549, 0.8431,\n",
       "        0.8392, 0.8431, 0.8392, 0.8275, 0.8431, 0.8431, 0.9255, 0.9647, 0.8118,\n",
       "        0.8549, 0.8980, 0.6980, 0.0000, 0.0000, 0.0000, 0.0000, 0.7098, 0.9098,\n",
       "        0.8745, 0.9059, 0.9137, 0.8431, 0.8431, 0.8549, 0.8392, 0.8431, 0.8667,\n",
       "        0.8510, 0.8510, 0.8627, 0.8510, 0.8353, 0.8275, 0.8353, 0.8902, 0.9961,\n",
       "        0.8196, 0.8588, 0.8667, 0.9098, 0.0000, 0.0000, 0.0000, 0.0000, 0.9098,\n",
       "        0.8824, 0.8824, 0.9176, 0.9412, 0.8353, 0.8235, 0.8549, 0.8353, 0.8510,\n",
       "        0.8667, 0.8549, 0.8549, 0.8627, 0.8510, 0.8314, 0.8196, 0.8353, 0.8431,\n",
       "        0.9961, 0.8392, 0.8471, 0.8549, 0.9961, 0.0392, 0.0000, 0.0000, 0.0392,\n",
       "        0.9961, 0.8588, 0.8902, 0.9255, 0.9725, 0.8745, 0.8235, 0.8549, 0.8275,\n",
       "        0.8549, 0.8667, 0.8706, 0.8627, 0.8706, 0.8549, 0.8431, 0.8392, 0.8196,\n",
       "        0.8353, 0.9529, 0.8902, 0.8431, 0.8431, 0.9020, 0.1529, 0.0000, 0.0000,\n",
       "        0.1882, 0.9176, 0.8549, 0.9059, 0.9765, 0.8667, 0.8235, 0.8549, 0.8510,\n",
       "        0.8275, 0.8588, 0.8706, 0.8745, 0.8706, 0.8706, 0.8510, 0.8392, 0.8471,\n",
       "        0.8196, 0.8510, 0.7647, 0.9490, 0.8471, 0.8431, 0.9137, 0.3765, 0.0000,\n",
       "        0.0000, 0.4824, 0.9294, 0.8745, 0.9059, 0.9961, 0.6353, 0.8314, 0.8588,\n",
       "        0.8471, 0.8314, 0.8549, 0.8667, 0.8706, 0.8745, 0.8784, 0.8588, 0.8314,\n",
       "        0.8471, 0.7961, 0.9333, 0.5451, 0.8667, 0.8980, 0.8431, 0.9176, 0.6078,\n",
       "        0.0000, 0.0000, 0.6784, 0.9176, 0.8706, 0.9490, 0.9529, 0.4667, 0.9490,\n",
       "        0.8353, 0.8431, 0.8353, 0.8510, 0.8627, 0.8667, 0.8784, 0.8784, 0.8627,\n",
       "        0.8314, 0.8549, 0.8000, 0.9765, 0.4157, 0.7176, 0.9961, 0.8392, 0.8863,\n",
       "        0.8078, 0.0000, 0.0000, 0.8627, 0.8941, 0.8706, 1.0000, 0.7882, 0.2784,\n",
       "        0.9922, 0.8275, 0.8392, 0.8392, 0.8588, 0.8667, 0.8706, 0.8824, 0.8824,\n",
       "        0.8667, 0.8353, 0.8471, 0.8000, 0.9922, 0.4627, 0.5137, 1.0000, 0.8510,\n",
       "        0.8588, 0.9373, 0.0000, 0.0000, 0.9765, 0.8784, 0.8902, 1.0000, 0.5922,\n",
       "        0.3137, 1.0000, 0.8392, 0.8235, 0.8431, 0.8667, 0.8627, 0.8784, 0.8902,\n",
       "        0.8902, 0.8706, 0.8510, 0.8510, 0.7961, 0.9647, 0.6000, 0.2627, 1.0000,\n",
       "        0.8471, 0.8471, 0.8627, 0.0549, 0.2431, 0.9529, 0.8824, 0.8784, 0.9961,\n",
       "        0.3137, 0.5098, 1.0000, 0.8196, 0.8196, 0.8471, 0.8706, 0.8627, 0.8745,\n",
       "        0.8902, 0.8902, 0.8667, 0.8471, 0.8471, 0.8118, 0.9373, 0.7137, 0.0510,\n",
       "        1.0000, 0.8431, 0.8471, 0.9529, 0.3686, 0.3412, 0.8039, 0.9098, 0.9373,\n",
       "        1.0000, 0.0000, 0.5961, 0.9961, 0.8078, 0.8157, 0.8588, 0.8706, 0.8549,\n",
       "        0.8627, 0.9137, 0.8941, 0.8745, 0.8471, 0.8549, 0.8353, 0.9098, 0.8549,\n",
       "        0.0078, 1.0000, 0.9216, 0.8510, 0.9059, 0.2392, 0.0000, 0.0000, 0.0510,\n",
       "        0.1882, 0.3216, 0.0000, 0.7765, 0.9843, 0.8157, 0.8353, 0.8667, 0.8706,\n",
       "        0.8549, 0.8627, 0.9137, 0.9020, 0.8863, 0.8588, 0.8431, 0.8510, 0.8392,\n",
       "        0.9804, 0.0000, 0.1255, 0.1765, 0.0000, 0.0000, 0.0000, 0.0000, 0.0000,\n",
       "        0.0000, 0.0000, 0.0000, 0.0000, 0.8745, 0.8745, 0.7686, 0.8118, 0.8549,\n",
       "        0.8784, 0.8706, 0.8784, 0.9176, 0.8941, 0.8588, 0.8431, 0.8235, 0.8118,\n",
       "        0.8275, 0.9882, 0.0157, 0.0000, 0.0000, 0.0000, 0.0000, 0.0000, 0.0000,\n",
       "        0.0000, 0.0039, 0.0196, 0.0000, 0.0000, 1.0000, 0.9137, 0.8902, 0.8667,\n",
       "        0.8784, 0.8745, 0.8588, 0.8667, 0.9294, 0.9255, 0.9216, 0.9098, 0.9373,\n",
       "        0.9765, 0.8980, 1.0000, 0.1569, 0.0000, 0.0392, 0.0039, 0.0039, 0.0000,\n",
       "        0.0000, 0.0000, 0.0000, 0.0039, 0.0000, 0.0000, 0.4471, 0.5490, 0.6902,\n",
       "        0.7922, 0.8549, 0.8745, 0.8667, 0.8627, 0.8824, 0.8588, 0.8118, 0.7529,\n",
       "        0.6706, 0.5294, 0.3137, 0.3020, 0.0000, 0.0000, 0.0039, 0.0000, 0.0000,\n",
       "        0.0000])"
      ]
     },
     "execution_count": 17,
     "metadata": {},
     "output_type": "execute_result"
    }
   ],
   "source": [
    "output.squeeze()"
   ]
  },
  {
   "cell_type": "code",
   "execution_count": 18,
   "id": "756a3bf2",
   "metadata": {},
   "outputs": [],
   "source": [
    "from torch import nn \n",
    "class FashionMNISTModelV0(nn.Module):\n",
    "    def __init__(self,\n",
    "                 input_shape:int,\n",
    "                 hidden_units:int,\n",
    "                 output_shape:int):\n",
    "        super().__init__()\n",
    "        self.layer_stack=nn.Sequential(\n",
    "            nn.Flatten(),\n",
    "            nn.Linear(in_features=input_shape,\n",
    "                      out_features=hidden_units),\n",
    "            nn.Linear(in_features=hidden_units,\n",
    "                      out_features=output_shape)\n",
    "        )\n",
    "\n",
    "    def forward(self,x):\n",
    "        return self.layer_stack(x)"
   ]
  },
  {
   "cell_type": "code",
   "execution_count": 19,
   "id": "127cf033",
   "metadata": {},
   "outputs": [
    {
     "data": {
      "text/plain": [
       "FashionMNISTModelV0(\n",
       "  (layer_stack): Sequential(\n",
       "    (0): Flatten(start_dim=1, end_dim=-1)\n",
       "    (1): Linear(in_features=784, out_features=10, bias=True)\n",
       "    (2): Linear(in_features=10, out_features=10, bias=True)\n",
       "  )\n",
       ")"
      ]
     },
     "execution_count": 19,
     "metadata": {},
     "output_type": "execute_result"
    }
   ],
   "source": [
    "torch.manual_seed(69)\n",
    "\n",
    "#setup model with input parameters\n",
    "model0=FashionMNISTModelV0(\n",
    "    input_shape=784,#output of flatten is input here, i.e 28*28\n",
    "    hidden_units=10, \n",
    "    output_shape=len(class_names)#one for every class \n",
    ").to(\"cpu\")\n",
    "\n",
    "model0"
   ]
  },
  {
   "cell_type": "code",
   "execution_count": 20,
   "id": "97dc95d2",
   "metadata": {},
   "outputs": [
    {
     "data": {
      "text/plain": [
       "tensor([[-0.0202, -0.2152,  0.5079,  0.0495, -0.3395,  0.1103,  0.4908,  0.2148,\n",
       "          0.1127, -0.0960]], grad_fn=<AddmmBackward0>)"
      ]
     },
     "execution_count": 20,
     "metadata": {},
     "output_type": "execute_result"
    }
   ],
   "source": [
    "#creating raw logits \n",
    "dummydat=torch.rand([1,1,28,28])#no. of batches , color channel , height , width\n",
    "model0(dummydat)"
   ]
  },
  {
   "cell_type": "code",
   "execution_count": 21,
   "id": "b8e72bca",
   "metadata": {},
   "outputs": [],
   "source": [
    "#loss optimizer setup \n",
    "#multiple class so cross entropy loss , optimier will be SGD \n",
    "#evaluation metric will be accuracy \n",
    "\n",
    "from helper_functions import accuracy_fn\n",
    "\n",
    "\n",
    "#Setup loss function and optimizer \n",
    "loss_fn= nn.CrossEntropyLoss()\n",
    "optimizer = torch.optim.SGD(params=model0.parameters(),\n",
    "                            lr=0.1)"
   ]
  },
  {
   "cell_type": "code",
   "execution_count": 22,
   "id": "2df18c80",
   "metadata": {},
   "outputs": [],
   "source": [
    "#creating a function to time the experiments \n",
    "from timeit import default_timer as timer\n",
    "\n",
    "def print_train_time(start:float,\n",
    "                     end: float,\n",
    "                     device:torch.device = None):\n",
    "    '''prints difference between start and end time'''\n",
    "    total_time=end-start\n",
    "    print(f\"Train time on {device}: {total_time:.3f} seconds\")\n",
    "    return total_time"
   ]
  },
  {
   "cell_type": "code",
   "execution_count": 23,
   "id": "8c0c92eb",
   "metadata": {},
   "outputs": [
    {
     "name": "stdout",
     "output_type": "stream",
     "text": [
      "Train time on cpu: 0.000 seconds\n"
     ]
    },
    {
     "data": {
      "text/plain": [
       "2.8599999495781958e-05"
      ]
     },
     "execution_count": 23,
     "metadata": {},
     "output_type": "execute_result"
    }
   ],
   "source": [
    "\n",
    "start_time= timer()\n",
    "#codeblock\n",
    "end_time= timer()\n",
    "print_train_time(start=start_time, end=end_time, device=\"cpu\")"
   ]
  },
  {
   "cell_type": "code",
   "execution_count": 24,
   "id": "72f08f8f",
   "metadata": {},
   "outputs": [
    {
     "data": {
      "text/plain": [
       "1875"
      ]
     },
     "execution_count": 24,
     "metadata": {},
     "output_type": "execute_result"
    }
   ],
   "source": [
    "len(train_dataloader)#this is number of batches created "
   ]
  },
  {
   "cell_type": "code",
   "execution_count": 25,
   "id": "5e547165",
   "metadata": {},
   "outputs": [
    {
     "name": "stderr",
     "output_type": "stream",
     "text": [
      "c:\\Users\\Abhinandan Singh\\Desktop\\AI & ML\\pythonpract\\.venv\\Lib\\site-packages\\tqdm\\auto.py:21: TqdmWarning: IProgress not found. Please update jupyter and ipywidgets. See https://ipywidgets.readthedocs.io/en/stable/user_install.html\n",
      "  from .autonotebook import tqdm as notebook_tqdm\n",
      "  0%|          | 0/3 [00:00<?, ?it/s]"
     ]
    },
    {
     "name": "stdout",
     "output_type": "stream",
     "text": [
      "Epoch: {epoch}\n",
      " --------\n",
      "Looked at 0/60000)\n",
      "Looked at 12800/60000)\n",
      "Looked at 25600/60000)\n",
      "Looked at 38400/60000)\n",
      "Looked at 51200/60000)\n"
     ]
    },
    {
     "name": "stderr",
     "output_type": "stream",
     "text": [
      " 33%|███▎      | 1/3 [00:05<00:10,  5.35s/it]"
     ]
    },
    {
     "name": "stdout",
     "output_type": "stream",
     "text": [
      "Epoch: {epoch}\n",
      " --------\n",
      "Looked at 0/60000)\n",
      "Looked at 12800/60000)\n",
      "Looked at 25600/60000)\n",
      "Looked at 38400/60000)\n",
      "Looked at 51200/60000)\n"
     ]
    },
    {
     "name": "stderr",
     "output_type": "stream",
     "text": [
      " 67%|██████▋   | 2/3 [00:10<00:05,  5.09s/it]"
     ]
    },
    {
     "name": "stdout",
     "output_type": "stream",
     "text": [
      "Epoch: {epoch}\n",
      " --------\n",
      "Looked at 0/60000)\n",
      "Looked at 12800/60000)\n",
      "Looked at 25600/60000)\n",
      "Looked at 38400/60000)\n",
      "Looked at 51200/60000)\n"
     ]
    },
    {
     "name": "stderr",
     "output_type": "stream",
     "text": [
      "100%|██████████| 3/3 [00:14<00:00,  5.00s/it]\n"
     ]
    },
    {
     "name": "stdout",
     "output_type": "stream",
     "text": [
      "\n",
      " Train loss: 0.4525 | test loss: 0.0156, test acc: 82.2584\n",
      "Train time on cpu: 15.556 seconds\n"
     ]
    }
   ],
   "source": [
    "#creating training loop and training model on batches \n",
    "from tqdm.auto import tqdm\n",
    "\n",
    "#set the seed and start the timer \n",
    "torch.manual_seed(69)\n",
    "train_time_start_cpu = timer()\n",
    "\n",
    "epochs = 3\n",
    "\n",
    "#create training and test loop \n",
    "\n",
    "for epoch in tqdm(range(epochs)):\n",
    "    print(\"Epoch: {epoch}\\n --------\")\n",
    "    #training\n",
    "    train_loss=0\n",
    "    #add a loop to loop through training data \n",
    "    for batch, (X,y) in enumerate(train_dataloader):#enumerate adds index to every batch\n",
    "        model0.train()\n",
    "        #forward pass \n",
    "        y_pred = model0(X)\n",
    "        #loss calc per batch \n",
    "        loss = loss_fn(y_pred,y)\n",
    "        train_loss += loss #accumalation of training loss values of every batch\n",
    "\n",
    "        optimizer.zero_grad()\n",
    "        loss.backward()\n",
    "        optimizer.step() \n",
    "        #print progress\n",
    "        if batch%400 == 0:\n",
    "            print(f\"Looked at {batch*len(X)}/{len(train_dataloader.dataset)})\")\n",
    "        \n",
    "#divide total train loss by length of train dataloader\n",
    "train_loss/=len(train_dataloader)\n",
    "#testing\n",
    "testloss, test_acc = 0,0\n",
    "model0.eval()\n",
    "with torch.inference_mode():\n",
    "    for X,y in test_dataloader:\n",
    "        #forward pass\n",
    "        test_pred = model0(X)\n",
    "\n",
    "        #calculate loss\n",
    "        testloss+= loss_fn(test_pred,y)\n",
    "    \n",
    "        #calculate accuracy\n",
    "        test_acc += accuracy_fn(y_true=y,y_pred=test_pred.argmax(dim=1))\n",
    "    #calculate the test loss average \n",
    "    testloss/=len(test_data)\n",
    "\n",
    "    #test accuracy per batch\n",
    "    test_acc /= len(test_dataloader)\n",
    "#print\n",
    "print(f\"\\n Train loss: {train_loss:.4f} | test loss: {testloss:.4f}, test acc: {test_acc:.4f}\")\n",
    "#calc train time \n",
    "train_time_end_on_cpu=timer()\n",
    "total_train_time_model0= print_train_time(start=train_time_start_cpu,\n",
    "                                          end=train_time_end_on_cpu,\n",
    "                                          device=next(model0.parameters()).device)\n"
   ]
  },
  {
   "cell_type": "code",
   "execution_count": 26,
   "id": "6214bcf9",
   "metadata": {},
   "outputs": [
    {
     "name": "stderr",
     "output_type": "stream",
     "text": [
      "100%|██████████| 313/313 [00:00<00:00, 590.80it/s]\n"
     ]
    },
    {
     "data": {
      "text/plain": [
       "{'model_name': 'FashionMNISTModelV0',\n",
       " 'model_loss': 0.4996737539768219,\n",
       " 'model_acc': 82.25838658146965}"
      ]
     },
     "execution_count": 26,
     "metadata": {},
     "output_type": "execute_result"
    }
   ],
   "source": [
    "device=\"cpu\"\n",
    "#make predictions and get model0 results\n",
    "def eval_model(model:torch.nn.Module,\n",
    "               data_loader: torch.utils.data.DataLoader,\n",
    "               loss_fn: torch.nn.Module,\n",
    "               accuracy_fn):\n",
    "    '''returns a dictionary containing the results of model predicting on data_loader'''\n",
    "    loss , acc =0,0\n",
    "    model.eval()\n",
    "    with torch.inference_mode():\n",
    "        for X,y in tqdm(data_loader):\n",
    "            #device agnostic code\n",
    "            X,y=X.to(device),y.to(device)\n",
    "            #make prediction\n",
    "            y_pred=model(X)\n",
    "            #accumulate the loss and acc values \n",
    "            loss+=loss_fn(y_pred,y)\n",
    "            acc += accuracy_fn(y_true=y,\n",
    "                               y_pred=y_pred.argmax(dim=1))\n",
    "        \n",
    "        loss/=len(data_loader)\n",
    "        acc /= len(data_loader)\n",
    "    return{\"model_name\":model.__class__.__name__,\n",
    "           \"model_loss\": loss.item(),\n",
    "           \"model_acc\": acc}\n",
    "model0_results=eval_model(model=model0,\n",
    "                          data_loader=test_dataloader,\n",
    "                          loss_fn=loss_fn,\n",
    "                          accuracy_fn=accuracy_fn)\n",
    "\n",
    "model0_results"
   ]
  },
  {
   "cell_type": "code",
   "execution_count": 27,
   "id": "8083e4e1",
   "metadata": {},
   "outputs": [],
   "source": [
    "#device agnostic code \n",
    "device = \"cuda\" \n",
    "#model 1 : building model with non-linearity \n",
    "\n",
    "class FashionMNISTModelV1(nn.Module):\n",
    "    def __init__(self,\n",
    "                 input_shape:int,\n",
    "                 hidden_units:int,\n",
    "                 output_shape:int):\n",
    "        super().__init__()\n",
    "        self.layer_stack = nn.Sequential(\n",
    "            nn.Flatten(),\n",
    "            nn.Linear(in_features=input_shape,\n",
    "                      out_features=hidden_units),\n",
    "            nn.ReLU(),\n",
    "            nn.Linear(in_features=hidden_units,\n",
    "                      out_features=output_shape),\n",
    "            nn.ReLU()\n",
    "        )\n",
    "\n",
    "    def forward(self,x:torch.Tensor):\n",
    "        return self.layer_stack(x)\n",
    "    \n",
    "torch.manual_seed(69)\n",
    "model1=FashionMNISTModelV1(input_shape=784,\n",
    "                           hidden_units=10,\n",
    "                           output_shape=10).to(device)\n"
   ]
  },
  {
   "cell_type": "code",
   "execution_count": 28,
   "id": "39d338d1",
   "metadata": {},
   "outputs": [],
   "source": [
    "#setup loss optim and eval metric\n",
    "from helper_functions import accuracy_fn\n",
    "\n",
    "loss_fn=nn.CrossEntropyLoss()\n",
    "optimizer= torch.optim.SGD(params=model1.parameters(),\n",
    "                           lr=0.1)\n"
   ]
  },
  {
   "cell_type": "code",
   "execution_count": 29,
   "id": "1bb7c494",
   "metadata": {},
   "outputs": [],
   "source": [
    "def train_step(model: torch.nn.Module,\n",
    "               data_loader:torch.utils.data.DataLoader,\n",
    "               loss_fn: torch.nn.Module,\n",
    "               optimizer: torch.optim.Optimizer,\n",
    "               accuracy_fn,\n",
    "               device: torch.device = device):\n",
    "    '''performs a training step on model that uses dataloader'''\n",
    "    train_loss,train_acc=0,0\n",
    "    #training\n",
    "    model.train()\n",
    "    #add a loop to loop through training data \n",
    "    for batch, (X,y) in enumerate(data_loader):\n",
    "        X,y=X.to(device),y.to(device)\n",
    "        \n",
    "        #forward pass \n",
    "        y_pred_logits = model(X)\n",
    "        #loss calc per batch \n",
    "        loss = loss_fn(y_pred_logits,y)\n",
    "        train_loss += loss #accumalation of training loss values of every batch\n",
    "        train_acc+=accuracy_fn(y_true=y,\n",
    "                                y_pred=y_pred_logits.argmax(dim=1))\n",
    "        \n",
    "        optimizer.zero_grad()\n",
    "\n",
    "        loss.backward()\n",
    "\n",
    "        optimizer.step() \n",
    "        #print progress\n",
    "        if batch%400 == 0:\n",
    "            print(f\"Looked at {batch*len(X)}/{len(train_dataloader.dataset)})\")\n",
    "        \n",
    "    #divide total train loss and accuracy by length of train dataloader\n",
    "    train_loss/=len(data_loader)\n",
    "    train_acc/=len(data_loader)\n",
    "    print(f\"Train loss: {train_loss:.5f}| Train acc: {train_acc:.2f}%\")\n",
    "\n",
    "\n",
    "def test_step(model: torch.nn.Module,\n",
    "              data_loader: torch.utils.data.DataLoader,\n",
    "              loss_fn: torch.nn.Module,\n",
    "              accuracy_fn,\n",
    "              device: torch.device= device):\n",
    "    #testing\n",
    "    testloss, test_acc = 0,0\n",
    "    model.eval()\n",
    "    with torch.inference_mode():\n",
    "        for X,y in data_loader:\n",
    "            X,y=X.to(device),y.to(device)\n",
    "            #forward pass\n",
    "            test_pred = model(X)\n",
    "\n",
    "            #calculate loss/acc\n",
    "            testloss+= loss_fn(test_pred,y)\n",
    "            test_acc+= accuracy_fn(y_true=y,\n",
    "                                   y_pred=test_pred.argmax(dim=1))#logits to prediction labels\n",
    "        \n",
    "        #calculate the test loss average \n",
    "        testloss/=len(test_data)\n",
    "        #test accuracy per batch\n",
    "        test_acc /= len(test_dataloader)\n",
    "        #print\n",
    "        print(f\"\\n Train loss: {train_loss:.4f} | test loss: {testloss:.4f}, test acc: {test_acc:.4f}%\")"
   ]
  },
  {
   "cell_type": "code",
   "execution_count": 30,
   "id": "55f53b16",
   "metadata": {},
   "outputs": [
    {
     "name": "stderr",
     "output_type": "stream",
     "text": [
      "  0%|          | 0/3 [00:00<?, ?it/s]"
     ]
    },
    {
     "name": "stdout",
     "output_type": "stream",
     "text": [
      "Epoch: 0\n",
      "--\n",
      "Looked at 0/60000)\n",
      "Looked at 12800/60000)\n",
      "Looked at 25600/60000)\n",
      "Looked at 38400/60000)\n",
      "Looked at 51200/60000)\n",
      "Train loss: 1.07580| Train acc: 62.59%\n"
     ]
    },
    {
     "name": "stderr",
     "output_type": "stream",
     "text": [
      " 33%|███▎      | 1/3 [00:07<00:15,  7.62s/it]"
     ]
    },
    {
     "name": "stdout",
     "output_type": "stream",
     "text": [
      "\n",
      " Train loss: 0.4525 | test loss: 0.0284, test acc: 68.0811%\n",
      "Epoch: 1\n",
      "--\n",
      "Looked at 0/60000)\n",
      "Looked at 12800/60000)\n",
      "Looked at 25600/60000)\n",
      "Looked at 38400/60000)\n",
      "Looked at 51200/60000)\n",
      "Train loss: 0.88447| Train acc: 68.47%\n"
     ]
    },
    {
     "name": "stderr",
     "output_type": "stream",
     "text": [
      " 67%|██████▋   | 2/3 [00:15<00:07,  7.49s/it]"
     ]
    },
    {
     "name": "stdout",
     "output_type": "stream",
     "text": [
      "\n",
      " Train loss: 0.4525 | test loss: 0.0280, test acc: 68.6801%\n",
      "Epoch: 2\n",
      "--\n",
      "Looked at 0/60000)\n",
      "Looked at 12800/60000)\n",
      "Looked at 25600/60000)\n",
      "Looked at 38400/60000)\n",
      "Looked at 51200/60000)\n",
      "Train loss: 0.85716| Train acc: 69.06%\n"
     ]
    },
    {
     "name": "stderr",
     "output_type": "stream",
     "text": [
      "100%|██████████| 3/3 [00:22<00:00,  7.66s/it]"
     ]
    },
    {
     "name": "stdout",
     "output_type": "stream",
     "text": [
      "\n",
      " Train loss: 0.4525 | test loss: 0.0276, test acc: 68.2408%\n",
      "Train time on cuda: 22.976 seconds\n"
     ]
    },
    {
     "name": "stderr",
     "output_type": "stream",
     "text": [
      "\n"
     ]
    }
   ],
   "source": [
    "\n",
    "#measure time\n",
    "from timeit import default_timer as Timer\n",
    "train_time_start_gpu=timer()\n",
    "\n",
    "#set epochs\n",
    "epochs=3\n",
    "\n",
    "\n",
    "for epoch in tqdm(range(epochs)):\n",
    "    print(f\"Epoch: {epoch}\\n--\")\n",
    "    train_step(model=model1,\n",
    "               data_loader=train_dataloader,\n",
    "               loss_fn=loss_fn,\n",
    "               optimizer=optimizer,\n",
    "               accuracy_fn=accuracy_fn,\n",
    "               device=device)\n",
    "    test_step(model=model1,\n",
    "               data_loader=test_dataloader,\n",
    "               loss_fn=loss_fn,\n",
    "               accuracy_fn=accuracy_fn,\n",
    "               device=device)\n",
    "    \n",
    "train_time_end_on_gpu=timer()\n",
    "total_train_time_model1=print_train_time(start=train_time_start_gpu,\n",
    "                                         end=train_time_end_on_gpu,\n",
    "                                         device=device)"
   ]
  },
  {
   "cell_type": "code",
   "execution_count": 31,
   "id": "9f3acd4c",
   "metadata": {},
   "outputs": [
    {
     "name": "stderr",
     "output_type": "stream",
     "text": [
      "100%|██████████| 313/313 [00:00<00:00, 385.46it/s]\n"
     ]
    },
    {
     "data": {
      "text/plain": [
       "{'model_name': 'FashionMNISTModelV1',\n",
       " 'model_loss': 0.8816273808479309,\n",
       " 'model_acc': 68.24081469648563}"
      ]
     },
     "execution_count": 31,
     "metadata": {},
     "output_type": "execute_result"
    }
   ],
   "source": [
    "model1_results=eval_model(model=model1,\n",
    "                          data_loader=test_dataloader,\n",
    "                          loss_fn=loss_fn,\n",
    "                          accuracy_fn=accuracy_fn)\n",
    "model1_results"
   ]
  },
  {
   "cell_type": "code",
   "execution_count": 32,
   "id": "6eba1b55",
   "metadata": {},
   "outputs": [],
   "source": [
    "#========================================================model2 , building a convolutional neural network=================================================\n",
    "\n",
    "#creating a CNN, CNN is a neural network that observes and identifies patterns \n",
    "\n",
    "class FashionMNISTModelV2(nn.Module):\n",
    "    def __init__(self,input_shape:int,\n",
    "                 hidden_units:int,\n",
    "                 output_shape:int):\n",
    "        super().__init__()\n",
    "        self.conv_block_1=nn.Sequential(\n",
    "            nn.Conv2d(in_channels=input_shape,\n",
    "                      out_channels=hidden_units,\n",
    "                      kernel_size=3,\n",
    "                      stride=1,\n",
    "                      padding=1), #values we can set ourselves in our neural networks are called hyperparameters , these are hyperparameters of conv2d\n",
    "            nn.ReLU(),\n",
    "            nn.Conv2d(in_channels=hidden_units,\n",
    "                      out_channels=hidden_units,\n",
    "                      kernel_size=3,\n",
    "                      stride=1,\n",
    "                      padding=1),\n",
    "            nn.ReLU(),\n",
    "            nn.MaxPool2d(kernel_size=2)\n",
    "        )\n",
    "        self.conv_block_2=nn.Sequential(\n",
    "            nn.Conv2d(in_channels=hidden_units,\n",
    "                      out_channels=hidden_units,\n",
    "                      kernel_size=3,\n",
    "                      stride=1,\n",
    "                      padding=1),\n",
    "            nn.ReLU(),\n",
    "            nn.Conv2d(in_channels=hidden_units,\n",
    "                      out_channels=hidden_units,\n",
    "                      kernel_size=3,\n",
    "                      stride=1,\n",
    "                      padding=1),\n",
    "            nn.ReLU(),\n",
    "            nn.MaxPool2d(kernel_size=2)\n",
    "        )\n",
    "        self.classifier=nn.Sequential(\n",
    "            nn.Flatten(),\n",
    "            nn.Linear(in_features=hidden_units*7*7,\n",
    "                      out_features=output_shape)\n",
    "        )\n",
    "\n",
    "    def forward(self,x):\n",
    "        x=self.conv_block_1(x)\n",
    "        #print(x.shape)\n",
    "        x= self.conv_block_2(x)\n",
    "        #print(x.shape)\n",
    "        x=self.classifier(x)\n",
    "        return x"
   ]
  },
  {
   "cell_type": "code",
   "execution_count": 33,
   "id": "a145991b",
   "metadata": {},
   "outputs": [
    {
     "data": {
      "text/plain": [
       "torch.Size([1, 28, 28])"
      ]
     },
     "execution_count": 33,
     "metadata": {},
     "output_type": "execute_result"
    }
   ],
   "source": [
    "image.shape\n"
   ]
  },
  {
   "cell_type": "code",
   "execution_count": 34,
   "id": "3aacacb6",
   "metadata": {},
   "outputs": [],
   "source": [
    "torch.manual_seed(42)\n",
    "model_2 = FashionMNISTModelV2(input_shape=1,\n",
    "                              hidden_units=10,\n",
    "                              output_shape=len(class_names)).to(\"cuda\")#because black and white images"
   ]
  },
  {
   "cell_type": "code",
   "execution_count": 35,
   "id": "c12430f9",
   "metadata": {},
   "outputs": [],
   "source": [
    "torch.manual_seed(69)\n",
    "\n",
    "#create a batch of images\n",
    "images= torch.randn(size=(32,3,64,64))\n",
    "test_image = image[0]"
   ]
  },
  {
   "cell_type": "code",
   "execution_count": 36,
   "id": "5825d4d1",
   "metadata": {},
   "outputs": [
    {
     "data": {
      "text/plain": [
       "torch.Size([1, 10, 28, 28])"
      ]
     },
     "execution_count": 36,
     "metadata": {},
     "output_type": "execute_result"
    }
   ],
   "source": [
    "torch.manual_seed(69)\n",
    "conv_layer = nn.Conv2d(in_channels=1,\n",
    "                      out_channels=10,\n",
    "                      kernel_size=(3,3),\n",
    "                      stride=1,\n",
    "                      padding=1)\n",
    "\n",
    "# test_image shape: [28, 28], need to add batch and channel dimensions: [1, 1, 28, 28]\n",
    "conv_output = conv_layer(test_image.unsqueeze(0).unsqueeze(0))\n",
    "conv_output.shape"
   ]
  },
  {
   "cell_type": "code",
   "execution_count": 37,
   "id": "34b74497",
   "metadata": {},
   "outputs": [
    {
     "name": "stdout",
     "output_type": "stream",
     "text": [
      "Test image original shape: torch.Size([28, 28])\n",
      " unsqueezed: torch.Size([1, 28, 28])\n",
      "torch.Size([10, 28, 28])\n",
      "shape after going through conv layer and max pool: torch.Size([10, 14, 14])\n"
     ]
    }
   ],
   "source": [
    "#print out original image shape without unsqueezed dimension\n",
    "print(f\"Test image original shape: {test_image.shape}\\n unsqueezed: {test_image.unsqueeze(0).shape}\")\n",
    "#create sample maxpool\n",
    "max_pool_layer = nn.MaxPool2d(kernel_size=2)\n",
    "\n",
    "#pass through conv \n",
    "test_image_through_conv = conv_layer(test_image.unsqueeze(dim=0))\n",
    "print(test_image_through_conv.shape)\n",
    "\n",
    "test_image_through_conv_and_max_pool = max_pool_layer(test_image_through_conv)\n",
    "print(f\"shape after going through conv layer and max pool: {test_image_through_conv_and_max_pool.shape}\")"
   ]
  },
  {
   "cell_type": "code",
   "execution_count": 38,
   "id": "47de8f7a",
   "metadata": {},
   "outputs": [],
   "source": [
    "#setup a loss function and optimizer for model2\n",
    "from helper_functions import accuracy_fn\n",
    "\n",
    "loss_fn=nn.CrossEntropyLoss()\n",
    "optimizer=torch.optim.SGD(params=model_2.parameters(),\n",
    "                          lr=0.1)\n"
   ]
  },
  {
   "cell_type": "code",
   "execution_count": 39,
   "id": "f1ccf022",
   "metadata": {},
   "outputs": [
    {
     "name": "stderr",
     "output_type": "stream",
     "text": [
      "  0%|          | 0/3 [00:00<?, ?it/s]"
     ]
    },
    {
     "name": "stdout",
     "output_type": "stream",
     "text": [
      "Epoch: 0=====\n",
      "\n",
      "Looked at 0/60000)\n",
      "Looked at 12800/60000)\n",
      "Looked at 25600/60000)\n",
      "Looked at 38400/60000)\n",
      "Looked at 51200/60000)\n",
      "Train loss: 0.60118| Train acc: 78.08%\n"
     ]
    },
    {
     "name": "stderr",
     "output_type": "stream",
     "text": [
      " 33%|███▎      | 1/3 [00:16<00:33, 16.57s/it]"
     ]
    },
    {
     "name": "stdout",
     "output_type": "stream",
     "text": [
      "\n",
      " Train loss: 0.4525 | test loss: 0.0842, test acc: 499.8602%\n",
      "Epoch: 1=====\n",
      "\n",
      "Looked at 0/60000)\n",
      "Looked at 12800/60000)\n",
      "Looked at 25600/60000)\n",
      "Looked at 38400/60000)\n",
      "Looked at 51200/60000)\n",
      "Train loss: 0.36341| Train acc: 87.05%\n"
     ]
    },
    {
     "name": "stderr",
     "output_type": "stream",
     "text": [
      " 67%|██████▋   | 2/3 [00:31<00:15, 15.69s/it]"
     ]
    },
    {
     "name": "stdout",
     "output_type": "stream",
     "text": [
      "\n",
      " Train loss: 0.4525 | test loss: 0.0693, test acc: 516.7232%\n",
      "Epoch: 2=====\n",
      "\n",
      "Looked at 0/60000)\n",
      "Looked at 12800/60000)\n",
      "Looked at 25600/60000)\n",
      "Looked at 38400/60000)\n",
      "Looked at 51200/60000)\n",
      "Train loss: 0.32732| Train acc: 88.31%\n"
     ]
    },
    {
     "name": "stderr",
     "output_type": "stream",
     "text": [
      "100%|██████████| 3/3 [00:44<00:00, 14.97s/it]"
     ]
    },
    {
     "name": "stdout",
     "output_type": "stream",
     "text": [
      "\n",
      " Train loss: 0.4525 | test loss: 0.0529, test acc: 538.1290%\n",
      "Train time on cuda: 44.923 seconds\n"
     ]
    },
    {
     "name": "stderr",
     "output_type": "stream",
     "text": [
      "\n"
     ]
    }
   ],
   "source": [
    "#training and testing model2 using functions\n",
    "\n",
    "torch.manual_seed(69)\n",
    "torch.cuda.manual_seed(69)\n",
    "\n",
    "#measure time \n",
    "from timeit import default_timer as Timer\n",
    "train_time_start_model2=timer()\n",
    "\n",
    "epochs=3\n",
    "for epoch in tqdm(range(epochs)):\n",
    "    print(f\"Epoch: {epoch}=====\\n\")\n",
    "    train_step(model=model_2,\n",
    "               data_loader=train_dataloader,\n",
    "               loss_fn=loss_fn,\n",
    "               optimizer=optimizer,\n",
    "               accuracy_fn=accuracy_fn,\n",
    "               device=device)\n",
    "    \n",
    "    test_step(model=model_2,\n",
    "               data_loader=train_dataloader,\n",
    "               loss_fn=loss_fn,\n",
    "               accuracy_fn=accuracy_fn,\n",
    "               device=device)\n",
    "train_time_end_model_2=timer()\n",
    "total_train_time_model2=print_train_time(start=train_time_start_model2,\n",
    "                                         end=train_time_end_model_2,\n",
    "                                         device=device)"
   ]
  },
  {
   "cell_type": "code",
   "execution_count": 40,
   "id": "e9b86f06",
   "metadata": {},
   "outputs": [
    {
     "name": "stderr",
     "output_type": "stream",
     "text": [
      "100%|██████████| 313/313 [00:00<00:00, 357.26it/s]\n"
     ]
    },
    {
     "data": {
      "text/plain": [
       "{'model_name': 'FashionMNISTModelV2',\n",
       " 'model_loss': 0.3172832131385803,\n",
       " 'model_acc': 88.58825878594249}"
      ]
     },
     "execution_count": 40,
     "metadata": {},
     "output_type": "execute_result"
    }
   ],
   "source": [
    "#get model2 results\n",
    "model_2_results=eval_model(\n",
    "    model=model_2,\n",
    "    data_loader=test_dataloader,\n",
    "    loss_fn=loss_fn,\n",
    "    accuracy_fn=accuracy_fn\n",
    ")\n",
    "\n",
    "model_2_results"
   ]
  },
  {
   "cell_type": "code",
   "execution_count": 41,
   "id": "ed31f8dc",
   "metadata": {},
   "outputs": [
    {
     "data": {
      "text/html": [
       "<div>\n",
       "<style scoped>\n",
       "    .dataframe tbody tr th:only-of-type {\n",
       "        vertical-align: middle;\n",
       "    }\n",
       "\n",
       "    .dataframe tbody tr th {\n",
       "        vertical-align: top;\n",
       "    }\n",
       "\n",
       "    .dataframe thead th {\n",
       "        text-align: right;\n",
       "    }\n",
       "</style>\n",
       "<table border=\"1\" class=\"dataframe\">\n",
       "  <thead>\n",
       "    <tr style=\"text-align: right;\">\n",
       "      <th></th>\n",
       "      <th>model_name</th>\n",
       "      <th>model_loss</th>\n",
       "      <th>model_acc</th>\n",
       "    </tr>\n",
       "  </thead>\n",
       "  <tbody>\n",
       "    <tr>\n",
       "      <th>0</th>\n",
       "      <td>FashionMNISTModelV0</td>\n",
       "      <td>0.499674</td>\n",
       "      <td>82.258387</td>\n",
       "    </tr>\n",
       "    <tr>\n",
       "      <th>1</th>\n",
       "      <td>FashionMNISTModelV1</td>\n",
       "      <td>0.881627</td>\n",
       "      <td>68.240815</td>\n",
       "    </tr>\n",
       "    <tr>\n",
       "      <th>2</th>\n",
       "      <td>FashionMNISTModelV2</td>\n",
       "      <td>0.317283</td>\n",
       "      <td>88.588259</td>\n",
       "    </tr>\n",
       "  </tbody>\n",
       "</table>\n",
       "</div>"
      ],
      "text/plain": [
       "            model_name  model_loss  model_acc\n",
       "0  FashionMNISTModelV0    0.499674  82.258387\n",
       "1  FashionMNISTModelV1    0.881627  68.240815\n",
       "2  FashionMNISTModelV2    0.317283  88.588259"
      ]
     },
     "execution_count": 41,
     "metadata": {},
     "output_type": "execute_result"
    }
   ],
   "source": [
    "#compare model results and training time \n",
    "import pandas as pd \n",
    "compare_results=pd.DataFrame([model0_results,\n",
    "                              model1_results,\n",
    "                              model_2_results])\n",
    "\n",
    "compare_results"
   ]
  },
  {
   "cell_type": "code",
   "execution_count": 42,
   "id": "904c6ddf",
   "metadata": {},
   "outputs": [
    {
     "data": {
      "text/html": [
       "<div>\n",
       "<style scoped>\n",
       "    .dataframe tbody tr th:only-of-type {\n",
       "        vertical-align: middle;\n",
       "    }\n",
       "\n",
       "    .dataframe tbody tr th {\n",
       "        vertical-align: top;\n",
       "    }\n",
       "\n",
       "    .dataframe thead th {\n",
       "        text-align: right;\n",
       "    }\n",
       "</style>\n",
       "<table border=\"1\" class=\"dataframe\">\n",
       "  <thead>\n",
       "    <tr style=\"text-align: right;\">\n",
       "      <th></th>\n",
       "      <th>model_name</th>\n",
       "      <th>model_loss</th>\n",
       "      <th>model_acc</th>\n",
       "      <th>training time</th>\n",
       "    </tr>\n",
       "  </thead>\n",
       "  <tbody>\n",
       "    <tr>\n",
       "      <th>0</th>\n",
       "      <td>FashionMNISTModelV0</td>\n",
       "      <td>0.499674</td>\n",
       "      <td>82.258387</td>\n",
       "      <td>15.556063</td>\n",
       "    </tr>\n",
       "    <tr>\n",
       "      <th>1</th>\n",
       "      <td>FashionMNISTModelV1</td>\n",
       "      <td>0.881627</td>\n",
       "      <td>68.240815</td>\n",
       "      <td>22.976024</td>\n",
       "    </tr>\n",
       "    <tr>\n",
       "      <th>2</th>\n",
       "      <td>FashionMNISTModelV2</td>\n",
       "      <td>0.317283</td>\n",
       "      <td>88.588259</td>\n",
       "      <td>44.922930</td>\n",
       "    </tr>\n",
       "  </tbody>\n",
       "</table>\n",
       "</div>"
      ],
      "text/plain": [
       "            model_name  model_loss  model_acc  training time\n",
       "0  FashionMNISTModelV0    0.499674  82.258387      15.556063\n",
       "1  FashionMNISTModelV1    0.881627  68.240815      22.976024\n",
       "2  FashionMNISTModelV2    0.317283  88.588259      44.922930"
      ]
     },
     "execution_count": 42,
     "metadata": {},
     "output_type": "execute_result"
    }
   ],
   "source": [
    "compare_results[\"training time\"]=[total_train_time_model0,\n",
    "                                  total_train_time_model1,\n",
    "                                  total_train_time_model2]\n",
    "\n",
    "compare_results"
   ]
  },
  {
   "cell_type": "code",
   "execution_count": 43,
   "id": "f5cebb4f",
   "metadata": {},
   "outputs": [
    {
     "data": {
      "text/plain": [
       "Text(0, 0.5, 'model')"
      ]
     },
     "execution_count": 43,
     "metadata": {},
     "output_type": "execute_result"
    },
    {
     "data": {
      "image/png": "[encoded data removed]",
      "text/plain": [
       "<Figure size 640x480 with 1 Axes>"
      ]
     },
     "metadata": {},
     "output_type": "display_data"
    }
   ],
   "source": [
    "compare_results.set_index(\"model_name\")[\"model_acc\"].plot(kind=\"barh\")\n",
    "plt.xlabel(\"accuracy\")\n",
    "plt.ylabel(\"model\")"
   ]
  },
  {
   "cell_type": "code",
   "execution_count": 44,
   "id": "d1729dd1",
   "metadata": {},
   "outputs": [],
   "source": [
    "#visualization\n",
    "def make_predictions(model:torch.nn.Module,#here we deploy the model\n",
    "                     data:list,\n",
    "                     device:torch.device=device):\n",
    "    pred_probs=[]\n",
    "    model.to(device)\n",
    "    model.eval()\n",
    "    with torch.inference_mode():\n",
    "        for sample in data:\n",
    "            #prepare a sample(add a batch dimension and pass to target device)\n",
    "            sample=torch.unsqueeze(sample,dim=0).to(device)\n",
    "            pred_logit= model(sample)\n",
    "            \n",
    "            #get pred prob\n",
    "            pred_prob= torch.softmax(pred_logit.squeeze(),dim=0)\n",
    "\n",
    "            #get pred prob off GPU for further calculation\n",
    "            pred_probs.append(pred_prob.cpu())\n",
    "\n",
    "    #stack pred probs to turn list into a tensor\n",
    "    return torch.stack(pred_probs)"
   ]
  },
  {
   "cell_type": "code",
   "execution_count": 45,
   "id": "b600a40e",
   "metadata": {},
   "outputs": [
    {
     "data": {
      "text/plain": [
       "torch.Size([1, 28, 28])"
      ]
     },
     "execution_count": 45,
     "metadata": {},
     "output_type": "execute_result"
    }
   ],
   "source": [
    "import random \n",
    "random.seed(69)\n",
    "test_samples = []\n",
    "test_labels = []\n",
    "for sample, label in random.sample(list(test_data),k=9):#randomly sampling 9 samples\n",
    "    test_samples.append(sample)\n",
    "    test_labels.append(label)\n",
    "\n",
    "#view the first sample shape \n",
    "test_samples[0].shape"
   ]
  },
  {
   "cell_type": "code",
   "execution_count": 46,
   "id": "02a86a3c",
   "metadata": {},
   "outputs": [
    {
     "data": {
      "text/plain": [
       "Text(0.5, 1.0, 'Sneaker')"
      ]
     },
     "execution_count": 46,
     "metadata": {},
     "output_type": "execute_result"
    },
    {
     "data": {
      "image/png": "[encoded data removed]",
      "text/plain": [
       "<Figure size 640x480 with 1 Axes>"
      ]
     },
     "metadata": {},
     "output_type": "display_data"
    }
   ],
   "source": [
    "plt.imshow(test_samples[0].squeeze(),cmap=\"gray\")\n",
    "plt.title(class_names[test_labels[0]])"
   ]
  },
  {
   "cell_type": "code",
   "execution_count": 47,
   "id": "64965458",
   "metadata": {},
   "outputs": [
    {
     "data": {
      "text/plain": [
       "tensor([7, 3, 2, 5, 2, 3, 7, 9, 5])"
      ]
     },
     "execution_count": 47,
     "metadata": {},
     "output_type": "execute_result"
    }
   ],
   "source": [
    "#make predictions \n",
    "pred_probs = make_predictions(model=model_2,\n",
    "                              data=test_samples)\n",
    "\n",
    "#view first two prediction probabilities \n",
    "pred_probs[:2]\n",
    "\n",
    "#convert pred probs to labels \n",
    "pred_classes = pred_probs.argmax(dim=1)\n",
    "pred_classes"
   ]
  },
  {
   "cell_type": "code",
   "execution_count": 48,
   "id": "beb475e7",
   "metadata": {},
   "outputs": [
    {
     "data": {
      "image/png": "[encoded data removed]",
      "text/plain": [
       "<Figure size 900x900 with 9 Axes>"
      ]
     },
     "metadata": {},
     "output_type": "display_data"
    }
   ],
   "source": [
    "#plot predictions\n",
    "plt.figure(figsize=(9,9))\n",
    "nrows = 3\n",
    "ncols = 3\n",
    "for i,sample in enumerate(test_samples):\n",
    "    plt.subplot(nrows,ncols, i+1)\n",
    "\n",
    "    #plot the target image \n",
    "    plt.imshow(sample.squeeze(),cmap=\"gray\")\n",
    "\n",
    "    #find the prediction \n",
    "    pred_label = class_names[pred_classes[i]]\n",
    "\n",
    "    #get the truth label (in text form)\n",
    "    truth_label= class_names[test_labels[i]]\n",
    "\n",
    "    #create a title for the plot \n",
    "    title_text=f\"pred: {pred_label} | Truth: {truth_label}\"\n",
    "\n",
    "    #check for equaliy between pred and truth and change of color of title text \n",
    "    if pred_label == truth_label:\n",
    "        plt.title(title_text,fontsize=10,c=\"g\")\n",
    "    else:\n",
    "        plt.title(title_text,fontsize=10,c=\"r\")\n",
    "    plt.axis(False)"
   ]
  },
  {
   "cell_type": "code",
   "execution_count": null,
   "id": "1ac7fbcc",
   "metadata": {},
   "outputs": [
    {
     "name": "stderr",
     "output_type": "stream",
     "text": [
      "Making predictions : 100%|██████████| 313/313 [00:01<00:00, 246.51it/s]\n"
     ]
    },
    {
     "data": {
      "text/plain": [
       "tensor([9, 2, 1, 1, 6, 1, 4, 6, 5, 7])"
      ]
     },
     "execution_count": 50,
     "metadata": {},
     "output_type": "execute_result"
    }
   ],
   "source": [
    "#make predictions with trained model \n",
    "y_preds=[]\n",
    "model_2.eval()\n",
    "with torch.inference_mode():\n",
    "    for X,y in tqdm(test_dataloader,desc=\"Making predictions \"):\n",
    "        X,y=X.to(device),y.to(device)\n",
    "\n",
    "        y_logit=model_2(X)\n",
    "        #turn logit to pred prob\n",
    "        y_pred=torch.softmax(y_logit.squeeze(),dim=0).argmax(dim=1)\n",
    "        #put prediction on CPU for evaluation \n",
    "        y_preds.append(y_pred.cpu())\n",
    "\n",
    "#concatenate list of prediction into tensor\n",
    "y_pred_tensor= torch.cat(y_preds)\n",
    "y_pred_tensor[:10]"
   ]
  },
  {
   "cell_type": "code",
   "execution_count": null,
   "id": "c8211de4",
   "metadata": {},
   "outputs": [
    {
     "data": {
      "text/plain": [
       "tensor([9, 2, 1,  ..., 8, 1, 5])"
      ]
     },
     "execution_count": 52,
     "metadata": {},
     "output_type": "execute_result"
    }
   ],
   "source": [
    "test_data.targets #just another name for labels "
   ]
  },
  {
   "cell_type": "code",
   "execution_count": 55,
   "id": "14073c1a",
   "metadata": {},
   "outputs": [
    {
     "data": {
      "image/png": "[encoded data removed]",
      "text/plain": [
       "<Figure size 1000x700 with 1 Axes>"
      ]
     },
     "metadata": {},
     "output_type": "display_data"
    }
   ],
   "source": [
    "#confusion matrix \n",
    "from mlxtend.plotting import plot_confusion_matrix\n",
    "from torchmetrics import ConfusionMatrix\n",
    "\n",
    "#setup confusion instance and compare predictions to targets \n",
    "confmat = ConfusionMatrix(task=\"multiclass\", num_classes=len(class_names))\n",
    "confmat_tensor = confmat(preds=y_pred_tensor,\n",
    "                         target=test_data.targets)\n",
    "\n",
    "#plot \n",
    "fig,ax=plot_confusion_matrix(\n",
    "    conf_mat=confmat_tensor.numpy(),\n",
    "    class_names=class_names,\n",
    "    figsize=(10,7)\n",
    ")"
   ]
  },
  {
   "cell_type": "code",
   "execution_count": 56,
   "id": "337c2a37",
   "metadata": {},
   "outputs": [
    {
     "name": "stdout",
     "output_type": "stream",
     "text": [
      "saving \n"
     ]
    }
   ],
   "source": [
    "#saving and loading best performing model \n",
    "from pathlib import Path\n",
    "\n",
    "#create model directory path\n",
    "MODEL_PATH=Path(\"modells\")\n",
    "MODEL_PATH.mkdir(parents=True,\n",
    "                 exist_ok=True)\n",
    "\n",
    "#create model save\n",
    "MODEL_NAME= \"03_pytorch_computer_vision_model_2.pth\"\n",
    "MODEL_SAVE_PATH=MODEL_PATH/MODEL_NAME\n",
    "\n",
    "MODEL_SAVE_PATH\n",
    "print(\"saving \")\n",
    "torch.save(obj=model_2.state_dict(),\n",
    "           f=MODEL_SAVE_PATH)"
   ]
  },
  {
   "cell_type": "code",
   "execution_count": 57,
   "id": "4cecc0a6",
   "metadata": {},
   "outputs": [
    {
     "data": {
      "text/plain": [
       "FashionMNISTModelV2(\n",
       "  (conv_block_1): Sequential(\n",
       "    (0): Conv2d(1, 10, kernel_size=(3, 3), stride=(1, 1), padding=(1, 1))\n",
       "    (1): ReLU()\n",
       "    (2): Conv2d(10, 10, kernel_size=(3, 3), stride=(1, 1), padding=(1, 1))\n",
       "    (3): ReLU()\n",
       "    (4): MaxPool2d(kernel_size=2, stride=2, padding=0, dilation=1, ceil_mode=False)\n",
       "  )\n",
       "  (conv_block_2): Sequential(\n",
       "    (0): Conv2d(10, 10, kernel_size=(3, 3), stride=(1, 1), padding=(1, 1))\n",
       "    (1): ReLU()\n",
       "    (2): Conv2d(10, 10, kernel_size=(3, 3), stride=(1, 1), padding=(1, 1))\n",
       "    (3): ReLU()\n",
       "    (4): MaxPool2d(kernel_size=2, stride=2, padding=0, dilation=1, ceil_mode=False)\n",
       "  )\n",
       "  (classifier): Sequential(\n",
       "    (0): Flatten(start_dim=1, end_dim=-1)\n",
       "    (1): Linear(in_features=490, out_features=10, bias=True)\n",
       "  )\n",
       ")"
      ]
     },
     "execution_count": 57,
     "metadata": {},
     "output_type": "execute_result"
    }
   ],
   "source": [
    "#create a new instance since we saved only state dict of it \n",
    "torch.manual_seed(69)\n",
    "\n",
    "loaded_model_2= FashionMNISTModelV2(input_shape=1,#number of color channel \n",
    "                                    hidden_units=10,\n",
    "                                    output_shape=len(class_names))\n",
    "\n",
    "#load in save state dict\n",
    "loaded_model_2.load_state_dict(torch.load(f=MODEL_SAVE_PATH))\n",
    "\n",
    "#send model to target device \n",
    "loaded_model_2.to(device)"
   ]
  },
  {
   "cell_type": "code",
   "execution_count": 59,
   "id": "673363a5",
   "metadata": {},
   "outputs": [
    {
     "name": "stderr",
     "output_type": "stream",
     "text": [
      "100%|██████████| 313/313 [00:01<00:00, 160.55it/s]\n"
     ]
    },
    {
     "data": {
      "text/plain": [
       "({'model_name': 'FashionMNISTModelV2',\n",
       "  'model_loss': 0.3172832131385803,\n",
       "  'model_acc': 88.58825878594249},\n",
       " {'model_name': 'FashionMNISTModelV2',\n",
       "  'model_loss': 0.3172832131385803,\n",
       "  'model_acc': 88.58825878594249})"
      ]
     },
     "execution_count": 59,
     "metadata": {},
     "output_type": "execute_result"
    }
   ],
   "source": [
    "#evaluate loaded model \n",
    "torch.manual_seed(69)\n",
    "\n",
    "loaded_model_2_results= eval_model(\n",
    "    model=loaded_model_2,\n",
    "    data_loader=test_dataloader,\n",
    "    loss_fn=loss_fn,\n",
    "    accuracy_fn=accuracy_fn\n",
    ")\n",
    "\n",
    "loaded_model_2_results , model_2_results"
   ]
  }
 ],
 "metadata": {
  "kernelspec": {
   "display_name": ".venv",
   "language": "python",
   "name": "python3"
  },
  "language_info": {
   "codemirror_mode": {
    "name": "ipython",
    "version": 3
   },
   "file_extension": ".py",
   "mimetype": "text/x-python",
   "name": "python",
   "nbconvert_exporter": "python",
   "pygments_lexer": "ipython3",
   "version": "3.12.8"
  }
 },
 "nbformat": 4,
 "nbformat_minor": 5
}
