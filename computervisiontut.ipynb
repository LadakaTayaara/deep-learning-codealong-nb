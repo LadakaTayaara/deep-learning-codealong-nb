{
 "cells": [
  {
   "cell_type": "code",
   "execution_count": 33,
   "id": "207b04fd",
   "metadata": {},
   "outputs": [],
   "source": [
    "import torch\n",
    "from torch import nn\n",
    "\n",
    "from torchvision import datasets\n",
    "from torchvision import transforms\n",
    "from torchvision.transforms import ToTensor #converts images to tensors\n",
    "\n",
    "import matplotlib.pyplot as plt\n"
   ]
  },
  {
   "cell_type": "code",
   "execution_count": 34,
   "id": "50771be5",
   "metadata": {},
   "outputs": [],
   "source": [
    "#getting dataset , here we are gonna use MNIST fashion datasets\n",
    "train_data=datasets.FashionMNIST(\n",
    "    root=\"data\", #where to download\n",
    "    train=True,#do we want training or testing dataset\n",
    "    download=True,\n",
    "    transform=ToTensor(),\n",
    "    target_transform=None #defines how to transform how to transform labels\n",
    ")\n",
    "\n",
    "test_data= datasets.FashionMNIST(\n",
    "    root=\"data\",\n",
    "    train=False,\n",
    "    download=True,\n",
    "    transform=ToTensor(),\n",
    "    target_transform=None\n",
    ")"
   ]
  },
  {
   "cell_type": "code",
   "execution_count": 35,
   "id": "d5748996",
   "metadata": {},
   "outputs": [
    {
     "data": {
      "text/plain": [
       "(60000, 10000)"
      ]
     },
     "execution_count": 35,
     "metadata": {},
     "output_type": "execute_result"
    }
   ],
   "source": [
    "len(train_data), len(test_data)"
   ]
  },
  {
   "cell_type": "code",
   "execution_count": 36,
   "id": "b113580f",
   "metadata": {},
   "outputs": [
    {
     "data": {
      "text/plain": [
       "(tensor([[[0.0000, 0.0000, 0.0000, 0.0000, 0.0000, 0.0000, 0.0000, 0.0000,\n",
       "           0.0000, 0.0000, 0.0000, 0.0000, 0.0000, 0.0000, 0.0000, 0.0000,\n",
       "           0.0000, 0.0000, 0.0000, 0.0000, 0.0000, 0.0000, 0.0000, 0.0000,\n",
       "           0.0000, 0.0000, 0.0000, 0.0000],\n",
       "          [0.0000, 0.0000, 0.0000, 0.0000, 0.0000, 0.0000, 0.0000, 0.0000,\n",
       "           0.0000, 0.0000, 0.0000, 0.0000, 0.0000, 0.0000, 0.0000, 0.0000,\n",
       "           0.0000, 0.0000, 0.0000, 0.0000, 0.0000, 0.0000, 0.0000, 0.0000,\n",
       "           0.0000, 0.0000, 0.0000, 0.0000],\n",
       "          [0.0000, 0.0000, 0.0000, 0.0000, 0.0000, 0.0000, 0.0000, 0.0000,\n",
       "           0.0000, 0.0000, 0.0000, 0.0000, 0.0000, 0.0000, 0.0000, 0.0000,\n",
       "           0.0000, 0.0000, 0.0000, 0.0000, 0.0000, 0.0000, 0.0000, 0.0000,\n",
       "           0.0000, 0.0000, 0.0000, 0.0000],\n",
       "          [0.0000, 0.0000, 0.0000, 0.0000, 0.0000, 0.0000, 0.0000, 0.0000,\n",
       "           0.0000, 0.0000, 0.0000, 0.0000, 0.0039, 0.0000, 0.0000, 0.0510,\n",
       "           0.2863, 0.0000, 0.0000, 0.0039, 0.0157, 0.0000, 0.0000, 0.0000,\n",
       "           0.0000, 0.0039, 0.0039, 0.0000],\n",
       "          [0.0000, 0.0000, 0.0000, 0.0000, 0.0000, 0.0000, 0.0000, 0.0000,\n",
       "           0.0000, 0.0000, 0.0000, 0.0000, 0.0118, 0.0000, 0.1412, 0.5333,\n",
       "           0.4980, 0.2431, 0.2118, 0.0000, 0.0000, 0.0000, 0.0039, 0.0118,\n",
       "           0.0157, 0.0000, 0.0000, 0.0118],\n",
       "          [0.0000, 0.0000, 0.0000, 0.0000, 0.0000, 0.0000, 0.0000, 0.0000,\n",
       "           0.0000, 0.0000, 0.0000, 0.0000, 0.0235, 0.0000, 0.4000, 0.8000,\n",
       "           0.6902, 0.5255, 0.5647, 0.4824, 0.0902, 0.0000, 0.0000, 0.0000,\n",
       "           0.0000, 0.0471, 0.0392, 0.0000],\n",
       "          [0.0000, 0.0000, 0.0000, 0.0000, 0.0000, 0.0000, 0.0000, 0.0000,\n",
       "           0.0000, 0.0000, 0.0000, 0.0000, 0.0000, 0.0000, 0.6078, 0.9255,\n",
       "           0.8118, 0.6980, 0.4196, 0.6118, 0.6314, 0.4275, 0.2510, 0.0902,\n",
       "           0.3020, 0.5098, 0.2824, 0.0588],\n",
       "          [0.0000, 0.0000, 0.0000, 0.0000, 0.0000, 0.0000, 0.0000, 0.0000,\n",
       "           0.0000, 0.0000, 0.0000, 0.0039, 0.0000, 0.2706, 0.8118, 0.8745,\n",
       "           0.8549, 0.8471, 0.8471, 0.6392, 0.4980, 0.4745, 0.4784, 0.5725,\n",
       "           0.5529, 0.3451, 0.6745, 0.2588],\n",
       "          [0.0000, 0.0000, 0.0000, 0.0000, 0.0000, 0.0000, 0.0000, 0.0000,\n",
       "           0.0000, 0.0039, 0.0039, 0.0039, 0.0000, 0.7843, 0.9098, 0.9098,\n",
       "           0.9137, 0.8980, 0.8745, 0.8745, 0.8431, 0.8353, 0.6431, 0.4980,\n",
       "           0.4824, 0.7686, 0.8980, 0.0000],\n",
       "          [0.0000, 0.0000, 0.0000, 0.0000, 0.0000, 0.0000, 0.0000, 0.0000,\n",
       "           0.0000, 0.0000, 0.0000, 0.0000, 0.0000, 0.7176, 0.8824, 0.8471,\n",
       "           0.8745, 0.8941, 0.9216, 0.8902, 0.8784, 0.8706, 0.8784, 0.8667,\n",
       "           0.8745, 0.9608, 0.6784, 0.0000],\n",
       "          [0.0000, 0.0000, 0.0000, 0.0000, 0.0000, 0.0000, 0.0000, 0.0000,\n",
       "           0.0000, 0.0000, 0.0000, 0.0000, 0.0000, 0.7569, 0.8941, 0.8549,\n",
       "           0.8353, 0.7765, 0.7059, 0.8314, 0.8235, 0.8275, 0.8353, 0.8745,\n",
       "           0.8627, 0.9529, 0.7922, 0.0000],\n",
       "          [0.0000, 0.0000, 0.0000, 0.0000, 0.0000, 0.0000, 0.0000, 0.0000,\n",
       "           0.0000, 0.0039, 0.0118, 0.0000, 0.0471, 0.8588, 0.8627, 0.8314,\n",
       "           0.8549, 0.7529, 0.6627, 0.8902, 0.8157, 0.8549, 0.8784, 0.8314,\n",
       "           0.8863, 0.7725, 0.8196, 0.2039],\n",
       "          [0.0000, 0.0000, 0.0000, 0.0000, 0.0000, 0.0000, 0.0000, 0.0000,\n",
       "           0.0000, 0.0000, 0.0235, 0.0000, 0.3882, 0.9569, 0.8706, 0.8627,\n",
       "           0.8549, 0.7961, 0.7765, 0.8667, 0.8431, 0.8353, 0.8706, 0.8627,\n",
       "           0.9608, 0.4667, 0.6549, 0.2196],\n",
       "          [0.0000, 0.0000, 0.0000, 0.0000, 0.0000, 0.0000, 0.0000, 0.0000,\n",
       "           0.0000, 0.0157, 0.0000, 0.0000, 0.2157, 0.9255, 0.8941, 0.9020,\n",
       "           0.8941, 0.9412, 0.9098, 0.8353, 0.8549, 0.8745, 0.9176, 0.8510,\n",
       "           0.8510, 0.8196, 0.3608, 0.0000],\n",
       "          [0.0000, 0.0000, 0.0039, 0.0157, 0.0235, 0.0275, 0.0078, 0.0000,\n",
       "           0.0000, 0.0000, 0.0000, 0.0000, 0.9294, 0.8863, 0.8510, 0.8745,\n",
       "           0.8706, 0.8588, 0.8706, 0.8667, 0.8471, 0.8745, 0.8980, 0.8431,\n",
       "           0.8549, 1.0000, 0.3020, 0.0000],\n",
       "          [0.0000, 0.0118, 0.0000, 0.0000, 0.0000, 0.0000, 0.0000, 0.0000,\n",
       "           0.0000, 0.2431, 0.5686, 0.8000, 0.8941, 0.8118, 0.8353, 0.8667,\n",
       "           0.8549, 0.8157, 0.8275, 0.8549, 0.8784, 0.8745, 0.8588, 0.8431,\n",
       "           0.8784, 0.9569, 0.6235, 0.0000],\n",
       "          [0.0000, 0.0000, 0.0000, 0.0000, 0.0706, 0.1725, 0.3216, 0.4196,\n",
       "           0.7412, 0.8941, 0.8627, 0.8706, 0.8510, 0.8863, 0.7843, 0.8039,\n",
       "           0.8275, 0.9020, 0.8784, 0.9176, 0.6902, 0.7373, 0.9804, 0.9725,\n",
       "           0.9137, 0.9333, 0.8431, 0.0000],\n",
       "          [0.0000, 0.2235, 0.7333, 0.8157, 0.8784, 0.8667, 0.8784, 0.8157,\n",
       "           0.8000, 0.8392, 0.8157, 0.8196, 0.7843, 0.6235, 0.9608, 0.7569,\n",
       "           0.8078, 0.8745, 1.0000, 1.0000, 0.8667, 0.9176, 0.8667, 0.8275,\n",
       "           0.8627, 0.9098, 0.9647, 0.0000],\n",
       "          [0.0118, 0.7922, 0.8941, 0.8784, 0.8667, 0.8275, 0.8275, 0.8392,\n",
       "           0.8039, 0.8039, 0.8039, 0.8627, 0.9412, 0.3137, 0.5882, 1.0000,\n",
       "           0.8980, 0.8667, 0.7373, 0.6039, 0.7490, 0.8235, 0.8000, 0.8196,\n",
       "           0.8706, 0.8941, 0.8824, 0.0000],\n",
       "          [0.3843, 0.9137, 0.7765, 0.8235, 0.8706, 0.8980, 0.8980, 0.9176,\n",
       "           0.9765, 0.8627, 0.7608, 0.8431, 0.8510, 0.9451, 0.2549, 0.2863,\n",
       "           0.4157, 0.4588, 0.6588, 0.8588, 0.8667, 0.8431, 0.8510, 0.8745,\n",
       "           0.8745, 0.8784, 0.8980, 0.1137],\n",
       "          [0.2941, 0.8000, 0.8314, 0.8000, 0.7569, 0.8039, 0.8275, 0.8824,\n",
       "           0.8471, 0.7255, 0.7725, 0.8078, 0.7765, 0.8353, 0.9412, 0.7647,\n",
       "           0.8902, 0.9608, 0.9373, 0.8745, 0.8549, 0.8314, 0.8196, 0.8706,\n",
       "           0.8627, 0.8667, 0.9020, 0.2627],\n",
       "          [0.1882, 0.7961, 0.7176, 0.7608, 0.8353, 0.7725, 0.7255, 0.7451,\n",
       "           0.7608, 0.7529, 0.7922, 0.8392, 0.8588, 0.8667, 0.8627, 0.9255,\n",
       "           0.8824, 0.8471, 0.7804, 0.8078, 0.7294, 0.7098, 0.6941, 0.6745,\n",
       "           0.7098, 0.8039, 0.8078, 0.4510],\n",
       "          [0.0000, 0.4784, 0.8588, 0.7569, 0.7020, 0.6706, 0.7176, 0.7686,\n",
       "           0.8000, 0.8235, 0.8353, 0.8118, 0.8275, 0.8235, 0.7843, 0.7686,\n",
       "           0.7608, 0.7490, 0.7647, 0.7490, 0.7765, 0.7529, 0.6902, 0.6118,\n",
       "           0.6549, 0.6941, 0.8235, 0.3608],\n",
       "          [0.0000, 0.0000, 0.2902, 0.7412, 0.8314, 0.7490, 0.6863, 0.6745,\n",
       "           0.6863, 0.7098, 0.7255, 0.7373, 0.7412, 0.7373, 0.7569, 0.7765,\n",
       "           0.8000, 0.8196, 0.8235, 0.8235, 0.8275, 0.7373, 0.7373, 0.7608,\n",
       "           0.7529, 0.8471, 0.6667, 0.0000],\n",
       "          [0.0078, 0.0000, 0.0000, 0.0000, 0.2588, 0.7843, 0.8706, 0.9294,\n",
       "           0.9373, 0.9490, 0.9647, 0.9529, 0.9569, 0.8667, 0.8627, 0.7569,\n",
       "           0.7490, 0.7020, 0.7137, 0.7137, 0.7098, 0.6902, 0.6510, 0.6588,\n",
       "           0.3882, 0.2275, 0.0000, 0.0000],\n",
       "          [0.0000, 0.0000, 0.0000, 0.0000, 0.0000, 0.0000, 0.0000, 0.1569,\n",
       "           0.2392, 0.1725, 0.2824, 0.1608, 0.1373, 0.0000, 0.0000, 0.0000,\n",
       "           0.0000, 0.0000, 0.0000, 0.0000, 0.0000, 0.0000, 0.0000, 0.0000,\n",
       "           0.0000, 0.0000, 0.0000, 0.0000],\n",
       "          [0.0000, 0.0000, 0.0000, 0.0000, 0.0000, 0.0000, 0.0000, 0.0000,\n",
       "           0.0000, 0.0000, 0.0000, 0.0000, 0.0000, 0.0000, 0.0000, 0.0000,\n",
       "           0.0000, 0.0000, 0.0000, 0.0000, 0.0000, 0.0000, 0.0000, 0.0000,\n",
       "           0.0000, 0.0000, 0.0000, 0.0000],\n",
       "          [0.0000, 0.0000, 0.0000, 0.0000, 0.0000, 0.0000, 0.0000, 0.0000,\n",
       "           0.0000, 0.0000, 0.0000, 0.0000, 0.0000, 0.0000, 0.0000, 0.0000,\n",
       "           0.0000, 0.0000, 0.0000, 0.0000, 0.0000, 0.0000, 0.0000, 0.0000,\n",
       "           0.0000, 0.0000, 0.0000, 0.0000]]]),\n",
       " 9)"
      ]
     },
     "execution_count": 36,
     "metadata": {},
     "output_type": "execute_result"
    }
   ],
   "source": [
    "#See the first training sample\n",
    "image , label=train_data[0]\n",
    "image, label"
   ]
  },
  {
   "cell_type": "code",
   "execution_count": 37,
   "id": "5b255035",
   "metadata": {},
   "outputs": [
    {
     "data": {
      "text/plain": [
       "['T-shirt/top',\n",
       " 'Trouser',\n",
       " 'Pullover',\n",
       " 'Dress',\n",
       " 'Coat',\n",
       " 'Sandal',\n",
       " 'Shirt',\n",
       " 'Sneaker',\n",
       " 'Bag',\n",
       " 'Ankle boot']"
      ]
     },
     "execution_count": 37,
     "metadata": {},
     "output_type": "execute_result"
    }
   ],
   "source": [
    "class_names = train_data.classes\n",
    "class_names"
   ]
  },
  {
   "cell_type": "code",
   "execution_count": 38,
   "id": "228ac562",
   "metadata": {},
   "outputs": [
    {
     "data": {
      "text/plain": [
       "{'T-shirt/top': 0,\n",
       " 'Trouser': 1,\n",
       " 'Pullover': 2,\n",
       " 'Dress': 3,\n",
       " 'Coat': 4,\n",
       " 'Sandal': 5,\n",
       " 'Shirt': 6,\n",
       " 'Sneaker': 7,\n",
       " 'Bag': 8,\n",
       " 'Ankle boot': 9}"
      ]
     },
     "execution_count": 38,
     "metadata": {},
     "output_type": "execute_result"
    }
   ],
   "source": [
    "class_to_index=train_data.class_to_idx\n",
    "class_to_index"
   ]
  },
  {
   "cell_type": "code",
   "execution_count": 39,
   "id": "0d88fe6e",
   "metadata": {},
   "outputs": [
    {
     "data": {
      "text/plain": [
       "(torch.Size([1, 28, 28]), 9)"
      ]
     },
     "execution_count": 39,
     "metadata": {},
     "output_type": "execute_result"
    }
   ],
   "source": [
    "image.shape , label #label doesnt have a shape, since its an integer "
   ]
  },
  {
   "cell_type": "markdown",
   "id": "97b44969",
   "metadata": {},
   "source": [
    "color channel , height, width format here , greyscale has one color channel since its just black and white and in between "
   ]
  },
  {
   "cell_type": "code",
   "execution_count": 40,
   "id": "3fd2f1e6",
   "metadata": {},
   "outputs": [
    {
     "name": "stdout",
     "output_type": "stream",
     "text": [
      "torch.Size([1, 28, 28])\n"
     ]
    },
    {
     "data": {
      "text/plain": [
       "Text(0.5, 1.0, '9')"
      ]
     },
     "execution_count": 40,
     "metadata": {},
     "output_type": "execute_result"
    },
    {
     "data": {
      "image/png": "[encoded data removed]",
      "text/plain": [
       "<Figure size 640x480 with 1 Axes>"
      ]
     },
     "metadata": {},
     "output_type": "display_data"
    }
   ],
   "source": [
    "import matplotlib.pyplot as plt \n",
    "image, label= train_data[0]\n",
    "print(image.shape)#shape error is very common\n",
    "plt.imshow(image.squeeze())\n",
    "plt.title(label)"
   ]
  },
  {
   "cell_type": "code",
   "execution_count": 41,
   "id": "ab1fc074",
   "metadata": {},
   "outputs": [
    {
     "data": {
      "text/plain": [
       "Text(0.5, 1.0, 'Ankle boot')"
      ]
     },
     "execution_count": 41,
     "metadata": {},
     "output_type": "execute_result"
    },
    {
     "data": {
      "image/png": "[encoded data removed]",
      "text/plain": [
       "<Figure size 640x480 with 1 Axes>"
      ]
     },
     "metadata": {},
     "output_type": "display_data"
    }
   ],
   "source": [
    "plt.imshow(image.squeeze(),cmap=\"gray\")\n",
    "plt.title(class_names[label])"
   ]
  },
  {
   "cell_type": "code",
   "execution_count": 42,
   "id": "ef84b417",
   "metadata": {},
   "outputs": [
    {
     "name": "stdout",
     "output_type": "stream",
     "text": [
      "36118\n",
      "46381\n",
      "31935\n",
      "4495\n",
      "19318\n",
      "4168\n",
      "9050\n",
      "5412\n",
      "57943\n",
      "59411\n",
      "10671\n",
      "51812\n",
      "41602\n",
      "32388\n",
      "33357\n",
      "33868\n"
     ]
    },
    {
     "data": {
      "image/png": "[encoded data removed]",
      "text/plain": [
       "<Figure size 900x900 with 16 Axes>"
      ]
     },
     "metadata": {},
     "output_type": "display_data"
    }
   ],
   "source": [
    "#random images now via imshow\n",
    "fig = plt.figure(figsize=(9,9))\n",
    "rows, cols = 4,4\n",
    "for i in range(1,rows*cols+1):\n",
    "    random_idx = torch.randint(0,len(train_data),size=[1]).item()\n",
    "    print(random_idx)\n",
    "    img ,label= train_data[random_idx]\n",
    "    fig.add_subplot(rows, cols , i)\n",
    "    plt.imshow(img.squeeze(), cmap=\"gray\")\n",
    "    plt.title(class_names[label])\n",
    "    plt.axis(False)"
   ]
  },
  {
   "cell_type": "code",
   "execution_count": 43,
   "id": "764a0e42",
   "metadata": {},
   "outputs": [
    {
     "data": {
      "text/plain": [
       "(<torch.utils.data.dataloader.DataLoader at 0x154ee3949e0>,\n",
       " <torch.utils.data.dataloader.DataLoader at 0x1548118ade0>)"
      ]
     },
     "execution_count": 43,
     "metadata": {},
     "output_type": "execute_result"
    }
   ],
   "source": [
    "#prepare a dataloader \n",
    "#right now data is in the form of a pytorch datasets\n",
    "#dataloader turns tensor into a python iterable. basically we are turning data into batches and mini batches \n",
    "\n",
    "from torch.utils.data import DataLoader\n",
    "\n",
    "#setup the batch size \n",
    "BATCH_SIZE= 32\n",
    "\n",
    "#turn data sets into iterables(batches)\n",
    "train_dataloader = DataLoader(dataset=train_data,\n",
    "                              batch_size=BATCH_SIZE,\n",
    "                              shuffle=True)\n",
    "\n",
    "test_dataloader= DataLoader(dataset=test_data,\n",
    "                            batch_size=BATCH_SIZE,\n",
    "                            shuffle=False)#order doesnt matter in the test data , its more optimized to keep the shuffle off \n",
    "\n",
    "train_dataloader,test_dataloader"
   ]
  },
  {
   "cell_type": "code",
   "execution_count": 44,
   "id": "1ec9a2e5",
   "metadata": {},
   "outputs": [
    {
     "data": {
      "text/plain": [
       "(1875, 313)"
      ]
     },
     "execution_count": 44,
     "metadata": {},
     "output_type": "execute_result"
    }
   ],
   "source": [
    "len(train_dataloader), len(test_dataloader) #numbers of batches created \n"
   ]
  },
  {
   "cell_type": "code",
   "execution_count": 45,
   "id": "11e8f642",
   "metadata": {},
   "outputs": [
    {
     "data": {
      "text/plain": [
       "(torch.Size([32, 1, 28, 28]), torch.Size([32]))"
      ]
     },
     "execution_count": 45,
     "metadata": {},
     "output_type": "execute_result"
    }
   ],
   "source": [
    "train_features_batch, train_labels_batch = next(iter(train_dataloader))\n",
    "train_features_batch.shape , train_labels_batch.shape"
   ]
  },
  {
   "cell_type": "code",
   "execution_count": 46,
   "id": "a75799ea",
   "metadata": {},
   "outputs": [
    {
     "name": "stdout",
     "output_type": "stream",
     "text": [
      "image size: torch.Size([1, 28, 28])\n",
      "Label: 8 Label shape: torch.Size([])\n"
     ]
    },
    {
     "data": {
      "image/png": "[encoded data removed]",
      "text/plain": [
       "<Figure size 640x480 with 1 Axes>"
      ]
     },
     "metadata": {},
     "output_type": "display_data"
    }
   ],
   "source": [
    "#show a sample \n",
    "#torch.manual_seed(42)\n",
    "random_idx = torch.randint(0, len(train_features_batch), size=[1]).item()\n",
    "img, label = train_features_batch[random_idx], train_labels_batch[random_idx]\n",
    "plt.imshow(img.squeeze(), cmap=\"gray\")\n",
    "plt.title(class_names[label])\n",
    "plt.axis(False)\n",
    "print(f\"image size: {img.shape}\")\n",
    "print(f\"Label: {label} Label shape: {label.shape}\")"
   ]
  },
  {
   "cell_type": "markdown",
   "id": "08f3606e",
   "metadata": {},
   "source": [
    "=================== end of data loading part ==========================="
   ]
  },
  {
   "cell_type": "markdown",
   "id": "3220d574",
   "metadata": {},
   "source": []
  },
  {
   "cell_type": "code",
   "execution_count": 47,
   "id": "5bd85943",
   "metadata": {},
   "outputs": [
    {
     "name": "stdout",
     "output_type": "stream",
     "text": [
      "shape before flattening : torch.Size([1, 28, 28]) -> color channel , height , width\n",
      "shape after flatterning: torch.Size([1, 784]) -> color channel , height*width\n"
     ]
    }
   ],
   "source": [
    "#model0 , baseline mode \n",
    "#create flatter layer\n",
    "\n",
    "flatten_model= nn.Flatten()\n",
    "\n",
    "#Get a single sample \n",
    "x= train_features_batch[0]\n",
    "x , x.shape\n",
    "\n",
    "#Flatten the sample , does forward pass internally \n",
    "output=flatten_model(x)#performs forward pass \n",
    "\n",
    "print(f\"shape before flattening : {x.shape} -> color channel , height , width\")\n",
    "print(f\"shape after flatterning: {output.shape} -> color channel , height*width\")"
   ]
  },
  {
   "cell_type": "code",
   "execution_count": 48,
   "id": "0f01046c",
   "metadata": {},
   "outputs": [
    {
     "data": {
      "text/plain": [
       "tensor([0.0000, 0.0000, 0.0000, 0.0000, 0.0000, 0.0000, 0.0941, 0.3373, 0.2745,\n",
       "        0.0431, 0.0039, 0.0000, 0.0000, 0.0000, 0.0000, 0.0000, 0.0000, 0.0000,\n",
       "        0.0510, 0.3490, 0.3373, 0.1412, 0.0000, 0.0000, 0.0000, 0.0000, 0.0000,\n",
       "        0.0000, 0.0000, 0.0000, 0.0000, 0.0000, 0.0000, 0.2275, 0.4392, 0.2392,\n",
       "        0.1765, 0.1922, 0.1569, 0.1333, 0.1216, 0.0980, 0.0902, 0.0824, 0.1098,\n",
       "        0.1490, 0.1608, 0.1412, 0.1490, 0.3451, 0.4353, 0.0000, 0.0000, 0.0000,\n",
       "        0.0000, 0.0000, 0.0000, 0.0000, 0.0000, 0.0000, 0.0196, 0.2314, 0.0745,\n",
       "        0.0824, 0.1059, 0.1176, 0.1255, 0.1059, 0.1020, 0.1098, 0.1059, 0.1020,\n",
       "        0.1098, 0.1255, 0.1059, 0.0745, 0.0627, 0.0157, 0.0941, 0.0627, 0.0000,\n",
       "        0.0000, 0.0000, 0.0000, 0.0000, 0.0000, 0.0039, 0.0000, 0.0980, 0.1686,\n",
       "        0.1373, 0.1216, 0.0980, 0.1294, 0.1176, 0.0941, 0.0902, 0.0980, 0.0941,\n",
       "        0.0941, 0.0980, 0.0941, 0.1176, 0.1176, 0.0941, 0.0980, 0.1216, 0.1098,\n",
       "        0.0000, 0.0000, 0.0000, 0.0000, 0.0000, 0.0039, 0.0000, 0.0000, 0.0863,\n",
       "        0.1569, 0.1373, 0.1216, 0.1137, 0.1098, 0.1098, 0.1020, 0.0902, 0.0863,\n",
       "        0.0941, 0.0941, 0.0980, 0.0980, 0.1020, 0.1020, 0.0706, 0.1137, 0.1255,\n",
       "        0.1176, 0.0196, 0.0000, 0.0000, 0.0000, 0.0000, 0.0000, 0.0000, 0.0000,\n",
       "        0.1137, 0.1608, 0.1216, 0.1216, 0.1451, 0.1216, 0.1137, 0.1098, 0.0980,\n",
       "        0.1020, 0.1059, 0.1020, 0.1020, 0.1020, 0.1176, 0.0941, 0.0510, 0.1255,\n",
       "        0.1373, 0.1255, 0.0471, 0.0000, 0.0000, 0.0000, 0.0000, 0.0039, 0.0000,\n",
       "        0.0235, 0.1216, 0.1765, 0.1294, 0.0627, 0.1333, 0.1255, 0.1098, 0.1098,\n",
       "        0.1020, 0.1020, 0.1059, 0.0980, 0.1020, 0.0941, 0.1098, 0.0784, 0.0431,\n",
       "        0.1294, 0.1373, 0.1216, 0.0784, 0.0000, 0.0000, 0.0000, 0.0000, 0.0039,\n",
       "        0.0000, 0.0471, 0.1490, 0.1882, 0.1686, 0.1098, 0.0667, 0.0902, 0.0902,\n",
       "        0.0863, 0.0784, 0.0824, 0.0824, 0.0784, 0.0745, 0.0745, 0.0667, 0.0824,\n",
       "        0.1176, 0.2000, 0.1725, 0.1176, 0.1098, 0.0353, 0.0000, 0.0000, 0.0000,\n",
       "        0.0000, 0.0000, 0.1020, 0.1294, 0.1843, 0.2275, 0.3255, 0.0275, 0.0902,\n",
       "        0.0902, 0.0784, 0.0784, 0.0784, 0.0745, 0.0784, 0.0745, 0.0667, 0.0863,\n",
       "        0.0431, 0.0392, 0.1255, 0.1961, 0.1490, 0.0824, 0.0745, 0.0000, 0.0039,\n",
       "        0.0000, 0.0000, 0.0000, 0.1373, 0.1176, 0.2118, 0.1686, 0.6314, 0.0000,\n",
       "        0.1216, 0.0980, 0.0902, 0.0902, 0.0941, 0.0980, 0.0980, 0.0980, 0.0824,\n",
       "        0.1176, 0.0157, 0.2157, 0.4353, 0.1059, 0.1686, 0.0902, 0.0863, 0.0000,\n",
       "        0.0000, 0.0000, 0.0000, 0.0196, 0.1569, 0.0980, 0.2353, 0.1020, 0.7333,\n",
       "        0.0314, 0.1098, 0.0941, 0.0902, 0.0863, 0.0941, 0.1020, 0.1020, 0.1020,\n",
       "        0.0902, 0.1216, 0.0431, 0.0980, 0.5804, 0.2863, 0.0941, 0.0980, 0.1176,\n",
       "        0.0039, 0.0000, 0.0000, 0.0000, 0.0627, 0.1569, 0.0980, 0.2471, 0.1647,\n",
       "        0.4118, 0.0157, 0.1294, 0.0941, 0.0941, 0.0902, 0.0980, 0.1020, 0.1020,\n",
       "        0.0980, 0.0863, 0.1137, 0.1176, 0.0000, 0.2667, 0.2941, 0.0824, 0.1020,\n",
       "        0.1490, 0.0157, 0.0000, 0.0000, 0.0000, 0.1020, 0.1569, 0.1020, 0.2745,\n",
       "        0.1725, 0.3255, 0.0196, 0.1412, 0.1020, 0.1020, 0.1020, 0.1020, 0.1059,\n",
       "        0.1098, 0.1098, 0.0902, 0.0941, 0.1333, 0.0471, 0.1647, 0.1647, 0.1373,\n",
       "        0.1059, 0.1412, 0.0510, 0.0000, 0.0000, 0.0000, 0.1333, 0.1529, 0.1020,\n",
       "        0.2824, 0.2196, 0.2157, 0.0471, 0.1451, 0.0980, 0.1020, 0.1020, 0.0980,\n",
       "        0.1098, 0.1098, 0.1098, 0.1020, 0.0706, 0.1608, 0.0118, 0.4275, 0.2471,\n",
       "        0.1176, 0.1176, 0.1294, 0.1020, 0.0000, 0.0000, 0.0000, 0.1686, 0.1373,\n",
       "        0.1176, 0.2784, 0.2784, 0.1176, 0.1020, 0.1412, 0.1020, 0.1059, 0.1059,\n",
       "        0.1020, 0.1098, 0.1137, 0.1098, 0.1098, 0.0784, 0.1647, 0.0314, 0.3176,\n",
       "        0.3647, 0.1216, 0.1059, 0.1294, 0.1373, 0.0000, 0.0000, 0.0078, 0.1961,\n",
       "        0.1137, 0.1490, 0.2706, 0.2627, 0.1020, 0.1294, 0.1373, 0.1137, 0.1137,\n",
       "        0.1137, 0.1098, 0.1216, 0.1216, 0.1176, 0.1176, 0.1098, 0.0980, 0.1098,\n",
       "        0.0588, 0.3176, 0.1961, 0.1020, 0.1098, 0.1647, 0.0196, 0.0000, 0.0392,\n",
       "        0.2000, 0.1098, 0.1412, 0.2706, 0.2392, 0.0980, 0.1451, 0.1333, 0.1176,\n",
       "        0.1176, 0.1176, 0.1137, 0.1255, 0.1294, 0.1216, 0.1176, 0.1176, 0.0863,\n",
       "        0.1569, 0.0157, 0.2471, 0.2706, 0.1176, 0.1059, 0.1725, 0.0627, 0.0000,\n",
       "        0.0902, 0.2196, 0.1961, 0.1333, 0.3686, 0.2314, 0.0706, 0.1961, 0.1294,\n",
       "        0.1216, 0.1294, 0.1373, 0.1216, 0.1294, 0.1294, 0.1333, 0.1333, 0.1451,\n",
       "        0.0706, 0.1686, 0.0235, 0.2039, 0.3529, 0.1373, 0.1412, 0.2118, 0.1216,\n",
       "        0.0000, 0.0000, 0.0353, 0.1373, 0.2196, 0.5647, 0.0431, 0.1490, 0.1686,\n",
       "        0.1412, 0.1255, 0.1412, 0.1451, 0.1333, 0.1412, 0.1490, 0.1412, 0.1176,\n",
       "        0.1569, 0.0980, 0.1294, 0.0706, 0.1333, 0.5333, 0.1412, 0.1255, 0.0627,\n",
       "        0.0000, 0.0000, 0.0000, 0.0000, 0.0000, 0.0039, 0.1333, 0.0392, 0.2039,\n",
       "        0.1294, 0.1216, 0.1137, 0.1373, 0.1373, 0.1137, 0.1216, 0.1529, 0.1529,\n",
       "        0.1294, 0.1333, 0.1137, 0.0745, 0.1569, 0.0000, 0.0627, 0.0000, 0.0000,\n",
       "        0.0000, 0.0000, 0.0000, 0.0000, 0.0000, 0.0000, 0.0000, 0.0000, 0.1137,\n",
       "        0.2314, 0.1961, 0.1686, 0.1686, 0.1804, 0.1922, 0.1529, 0.1569, 0.1804,\n",
       "        0.1882, 0.1725, 0.1608, 0.1843, 0.0902, 0.1686, 0.0000, 0.0000, 0.0000,\n",
       "        0.0000, 0.0039, 0.0039, 0.0000, 0.0000, 0.0000, 0.0000, 0.0118, 0.0000,\n",
       "        0.0627, 0.1176, 0.0196, 0.0118, 0.0353, 0.1137, 0.0275, 0.0392, 0.0667,\n",
       "        0.0118, 0.0000, 0.0000, 0.0235, 0.0706, 0.0431, 0.1412, 0.0549, 0.0000,\n",
       "        0.0039, 0.0078, 0.0000, 0.0000, 0.0000, 0.0000, 0.0000, 0.0000, 0.0000,\n",
       "        0.0000, 0.1020, 0.1176, 0.1843, 0.2196, 0.2353, 0.2549, 0.3647, 0.4510,\n",
       "        0.2667, 0.3490, 0.4275, 0.3137, 0.2706, 0.2745, 0.1137, 0.0000, 0.0000,\n",
       "        0.0000, 0.0000, 0.0000, 0.0000, 0.0000, 0.0000, 0.0000, 0.0000, 0.0039,\n",
       "        0.0000, 0.0000, 0.9412, 0.8667, 0.8196, 0.9961, 0.8078, 0.6235, 0.9216,\n",
       "        0.8863, 0.6039, 1.0000, 0.8902, 0.9020, 0.7765, 0.6157, 0.7843, 0.8078,\n",
       "        0.0235, 0.0000, 0.0078, 0.0000, 0.0000, 0.0000, 0.0000, 0.0039, 0.0000,\n",
       "        0.0000, 0.0000, 0.0000, 0.7569, 0.7647, 0.8118, 0.6902, 0.7137, 0.8902,\n",
       "        0.5333, 0.6824, 0.7725, 0.6157, 0.7725, 0.7647, 0.6275, 0.6392, 0.7020,\n",
       "        0.8863, 0.1137, 0.0000, 0.0157, 0.0000, 0.0000, 0.0000, 0.0000, 0.0039,\n",
       "        0.0000, 0.0039, 0.0000, 0.0078, 0.7098, 0.7098, 0.7490, 0.7333, 0.8078,\n",
       "        0.5451, 0.6118, 0.6588, 0.5373, 0.6431, 0.7882, 0.7176, 0.7098, 0.7176,\n",
       "        0.6353, 0.8118, 0.0980, 0.0000, 0.0157, 0.0000, 0.0000, 0.0000, 0.0000,\n",
       "        0.0000, 0.0000, 0.0000, 0.0000, 0.0000, 0.9843, 0.7098, 0.6902, 0.6353,\n",
       "        0.5686, 0.9412, 0.5961, 0.6078, 0.9490, 0.7686, 0.7216, 0.7804, 0.7137,\n",
       "        0.7294, 0.5922, 0.8745, 0.1725, 0.0000, 0.0157, 0.0000, 0.0000, 0.0000,\n",
       "        0.0000, 0.0000, 0.0000, 0.0000, 0.0000, 0.0000, 0.1490, 0.0745, 0.0784,\n",
       "        0.0000, 0.0000, 0.1647, 0.0000, 0.0000, 0.1882, 0.0000, 0.0000, 0.0588,\n",
       "        0.0118, 0.1608, 0.0000, 0.4000, 0.0000, 0.0000, 0.0039, 0.0000, 0.0000,\n",
       "        0.0000])"
      ]
     },
     "execution_count": 48,
     "metadata": {},
     "output_type": "execute_result"
    }
   ],
   "source": [
    "output.squeeze()"
   ]
  },
  {
   "cell_type": "code",
   "execution_count": 49,
   "id": "756a3bf2",
   "metadata": {},
   "outputs": [],
   "source": [
    "from torch import nn \n",
    "class FashionMNISTModelV0(nn.Module):\n",
    "    def __init__(self,\n",
    "                 input_shape:int,\n",
    "                 hidden_units:int,\n",
    "                 output_shape:int):\n",
    "        super().__init__()\n",
    "        self.layer_stack=nn.Sequential(\n",
    "            nn.Flatten(),\n",
    "            nn.Linear(in_features=input_shape,\n",
    "                      out_features=hidden_units),\n",
    "            nn.Linear(in_features=hidden_units,\n",
    "                      out_features=output_shape)\n",
    "        )\n",
    "\n",
    "    def forward(self,x):\n",
    "        return self.layer_stack(x)"
   ]
  },
  {
   "cell_type": "code",
   "execution_count": 50,
   "id": "127cf033",
   "metadata": {},
   "outputs": [
    {
     "data": {
      "text/plain": [
       "FashionMNISTModelV0(\n",
       "  (layer_stack): Sequential(\n",
       "    (0): Flatten(start_dim=1, end_dim=-1)\n",
       "    (1): Linear(in_features=784, out_features=10, bias=True)\n",
       "    (2): Linear(in_features=10, out_features=10, bias=True)\n",
       "  )\n",
       ")"
      ]
     },
     "execution_count": 50,
     "metadata": {},
     "output_type": "execute_result"
    }
   ],
   "source": [
    "torch.manual_seed(69)\n",
    "\n",
    "#setup model with input parameters\n",
    "model0=FashionMNISTModelV0(\n",
    "    input_shape=784,#output of flatten is input here, i.e 28*28\n",
    "    hidden_units=10, \n",
    "    output_shape=len(class_names)#one for every class \n",
    ").to(\"cpu\")\n",
    "\n",
    "model0"
   ]
  },
  {
   "cell_type": "code",
   "execution_count": 51,
   "id": "97dc95d2",
   "metadata": {},
   "outputs": [
    {
     "data": {
      "text/plain": [
       "tensor([[-0.0202, -0.2152,  0.5079,  0.0495, -0.3395,  0.1103,  0.4908,  0.2148,\n",
       "          0.1127, -0.0960]], grad_fn=<AddmmBackward0>)"
      ]
     },
     "execution_count": 51,
     "metadata": {},
     "output_type": "execute_result"
    }
   ],
   "source": [
    "#creating raw logits \n",
    "dummydat=torch.rand([1,1,28,28])\n",
    "model0(dummydat)"
   ]
  },
  {
   "cell_type": "code",
   "execution_count": 52,
   "id": "b8e72bca",
   "metadata": {},
   "outputs": [],
   "source": [
    "#loss optimizer setup \n",
    "#multiple class so cross entropy loss , optimier will be SGD \n",
    "#evaluation metric will be accuracy \n",
    "\n",
    "from helper_functions import accuracy_fn\n",
    "\n",
    "\n",
    "#Setup loss function and optimizer \n",
    "loss_fn= nn.CrossEntropyLoss()\n",
    "optimizer = torch.optim.SGD(params=model0.parameters(),\n",
    "                            lr=0.1)"
   ]
  },
  {
   "cell_type": "code",
   "execution_count": 53,
   "id": "2df18c80",
   "metadata": {},
   "outputs": [],
   "source": [
    "#creating a function to time the experiments \n",
    "from timeit import default_timer as timer\n",
    "\n",
    "def print_train_time(start:float,\n",
    "                     end: float,\n",
    "                     device:torch.device = None):\n",
    "    '''prints difference between start and end time'''\n",
    "    total_time=end-start\n",
    "    print(f\"Train time on {device}: {total_time:.3f} seconds\")\n",
    "    return total_time"
   ]
  },
  {
   "cell_type": "code",
   "execution_count": 54,
   "id": "8c0c92eb",
   "metadata": {},
   "outputs": [
    {
     "name": "stdout",
     "output_type": "stream",
     "text": [
      "Train time on cpu: 0.000 seconds\n"
     ]
    },
    {
     "data": {
      "text/plain": [
       "1.3799995940644294e-05"
      ]
     },
     "execution_count": 54,
     "metadata": {},
     "output_type": "execute_result"
    }
   ],
   "source": [
    "\n",
    "start_time= timer()\n",
    "#codeblock\n",
    "end_time= timer()\n",
    "print_train_time(start=start_time, end=end_time, device=\"cpu\")"
   ]
  },
  {
   "cell_type": "code",
   "execution_count": 55,
   "id": "5e547165",
   "metadata": {},
   "outputs": [
    {
     "name": "stderr",
     "output_type": "stream",
     "text": [
      "  0%|          | 0/3 [00:00<?, ?it/s]"
     ]
    },
    {
     "name": "stdout",
     "output_type": "stream",
     "text": [
      "Epoch: {epoch}\n",
      " --------\n",
      "Looked at 0/60000)\n",
      "Looked at 12800/60000)\n",
      "Looked at 25600/60000)\n",
      "Looked at 38400/60000)\n",
      "Looked at 51200/60000)\n"
     ]
    },
    {
     "name": "stderr",
     "output_type": "stream",
     "text": [
      " 33%|███▎      | 1/3 [00:03<00:07,  3.85s/it]"
     ]
    },
    {
     "name": "stdout",
     "output_type": "stream",
     "text": [
      "Epoch: {epoch}\n",
      " --------\n",
      "Looked at 0/60000)\n",
      "Looked at 12800/60000)\n",
      "Looked at 25600/60000)\n",
      "Looked at 38400/60000)\n",
      "Looked at 51200/60000)\n"
     ]
    },
    {
     "name": "stderr",
     "output_type": "stream",
     "text": [
      " 67%|██████▋   | 2/3 [00:08<00:04,  4.34s/it]"
     ]
    },
    {
     "name": "stdout",
     "output_type": "stream",
     "text": [
      "Epoch: {epoch}\n",
      " --------\n",
      "Looked at 0/60000)\n",
      "Looked at 12800/60000)\n",
      "Looked at 25600/60000)\n",
      "Looked at 38400/60000)\n",
      "Looked at 51200/60000)\n"
     ]
    },
    {
     "name": "stderr",
     "output_type": "stream",
     "text": [
      "100%|██████████| 3/3 [00:13<00:00,  4.49s/it]\n"
     ]
    },
    {
     "name": "stdout",
     "output_type": "stream",
     "text": [
      "\n",
      " Train loss: 0.4525 | test loss: 0.0156, test acc: 82.2584\n",
      "Train time on cpu: 14.117 seconds\n"
     ]
    }
   ],
   "source": [
    "#creating training loop and training model on batches \n",
    "from tqdm.auto import tqdm\n",
    "\n",
    "#set the seed and start the timer \n",
    "torch.manual_seed(69)\n",
    "train_time_start_cpu = timer()\n",
    "\n",
    "epochs = 3\n",
    "\n",
    "#create training and test loop \n",
    "\n",
    "for epoch in tqdm(range(epochs)):\n",
    "    print(\"Epoch: {epoch}\\n --------\")\n",
    "    #training\n",
    "    train_loss=0\n",
    "    #add a loop to loop through training data \n",
    "    for batch, (X,y) in enumerate(train_dataloader):\n",
    "        model0.train()\n",
    "        #forward pass \n",
    "        y_pred = model0(X)\n",
    "        #loss calc per batch \n",
    "        loss = loss_fn(y_pred,y)\n",
    "        train_loss += loss #accumalation of training loss values of every batch\n",
    "\n",
    "        optimizer.zero_grad()\n",
    "        loss.backward()\n",
    "        optimizer.step() \n",
    "        #print progress\n",
    "        if batch%400 == 0:\n",
    "            print(f\"Looked at {batch*len(X)}/{len(train_dataloader.dataset)})\")\n",
    "        \n",
    "#divide total train loss by length of train dataloader\n",
    "train_loss/=len(train_dataloader)\n",
    "#testing\n",
    "testloss, test_acc = 0,0\n",
    "model0.eval()\n",
    "with torch.inference_mode():\n",
    "    for X,y in test_dataloader:\n",
    "        #forward pass\n",
    "        test_pred = model0(X)\n",
    "\n",
    "        #calculate loss\n",
    "        testloss+= loss_fn(test_pred,y)\n",
    "    \n",
    "        #calculate accuracy\n",
    "        test_acc += accuracy_fn(y_true=y,y_pred=test_pred.argmax(dim=1))\n",
    "    #calculate the test loss average \n",
    "    testloss/=len(test_data)\n",
    "\n",
    "    #test accuracy per batch\n",
    "    test_acc /= len(test_dataloader)\n",
    "#print\n",
    "print(f\"\\n Train loss: {train_loss:.4f} | test loss: {testloss:.4f}, test acc: {test_acc:.4f}\")\n",
    "#calc train time \n",
    "train_time_end_on_cpu=timer()\n",
    "total_train_time_model0= print_train_time(start=train_time_start_cpu,\n",
    "                                          end=train_time_end_on_cpu,\n",
    "                                          device=next(model0.parameters()).device)\n"
   ]
  },
  {
   "cell_type": "code",
   "execution_count": null,
   "id": "6214bcf9",
   "metadata": {},
   "outputs": [],
   "source": [
    "#make predictions and get model0 results\n",
    "def eval_model(model:torch.nn.Module,\n",
    "               data_loader: torch.utils.data.DataLoader,\n",
    "               loss_fn: torch.nn.Module,\n",
    "               accuracy_fn):\n",
    "    '''returns a dictionary containing the results of model predicting on data_loader'''\n",
    "    loss , acc =0,0\n",
    "    model.eval()\n",
    "    with torch.inference_mode():\n",
    "        for X,y in tqdm(data_loader):\n",
    "            #device agnostic code\n",
    "            X,y=X.to(device),y.to(device)\n",
    "            #make prediction\n",
    "            y_pred=model(X)\n",
    "            #accumulate the loss and acc values \n",
    "            loss+=loss_fn(y_pred,y)\n",
    "            acc += accuracy_fn(y_true=y,\n",
    "                               y_pred=y_pred.argmax(dim=1))\n",
    "        \n",
    "        loss/=len(data_loader)\n",
    "        acc /= len(data_loader)\n",
    "    return{\"model_name\":model.__class__.__name__,\n",
    "           \"model_loss\": loss.item(),\n",
    "           \"model_acc\": acc}\n",
    "model0_results=eval_model(model=model0,\n",
    "                          data_loader=test_dataloader,\n",
    "                          loss_fn=loss_fn,\n",
    "                          accuracy_fn=accuracy_fn)\n",
    "\n",
    "model0_results"
   ]
  },
  {
   "cell_type": "code",
   "execution_count": null,
   "id": "8083e4e1",
   "metadata": {},
   "outputs": [],
   "source": [
    "#device agnostic code \n",
    "device = \"cuda\" \n",
    "#model 1 : building model with non-linearity \n",
    "\n",
    "class FashionMNISTModelV1(nn.Module):\n",
    "    def __init__(self,\n",
    "                 input_shape:int,\n",
    "                 hidden_units:int,\n",
    "                 output_shape:int):\n",
    "        super().__init__()\n",
    "        self.layer_stack = nn.Sequential(\n",
    "            nn.Flatten(),\n",
    "            nn.Linear(in_features=input_shape,\n",
    "                      out_features=hidden_units),\n",
    "            nn.ReLU(),\n",
    "            nn.Linear(in_features=hidden_units,\n",
    "                      out_features=output_shape),\n",
    "            nn.ReLU()\n",
    "        )\n",
    "\n",
    "    def forward(self,x:torch.Tensor):\n",
    "        return self.layer_stack(x)\n",
    "    \n",
    "torch.manual_seed(69)\n",
    "model1=FashionMNISTModelV1(input_shape=784,\n",
    "                           hidden_units=10,\n",
    "                           output_shape=10).to(device)\n"
   ]
  },
  {
   "cell_type": "code",
   "execution_count": null,
   "id": "39d338d1",
   "metadata": {},
   "outputs": [],
   "source": [
    "#setup loss optim and eval metric\n",
    "from helper_functions import accuracy_fn\n",
    "\n",
    "loss_fn=nn.CrossEntropyLoss()\n",
    "optimizer= torch.optim.SGD(params=model1.parameters(),\n",
    "                           lr=0.1)\n"
   ]
  },
  {
   "cell_type": "code",
   "execution_count": null,
   "id": "1bb7c494",
   "metadata": {},
   "outputs": [],
   "source": [
    "def train_step(model: torch.nn.Module,\n",
    "               data_loader:torch.utils.data.DataLoader,\n",
    "               loss_fn: torch.nn.Module,\n",
    "               optimizer: torch.optim.Optimizer,\n",
    "               accuracy_fn,\n",
    "               device: torch.device = device):\n",
    "    '''performs a training step on model that uses dataloader'''\n",
    "    train_loss,train_acc=0,0\n",
    "    #training\n",
    "    model.train()\n",
    "    #add a loop to loop through training data \n",
    "    for batch, (X,y) in enumerate(data_loader):\n",
    "        X,y=X.to(device),y.to(device)\n",
    "        \n",
    "        #forward pass \n",
    "        y_pred_logits = model(X)\n",
    "        #loss calc per batch \n",
    "        loss = loss_fn(y_pred_logits,y)\n",
    "        train_loss += loss #accumalation of training loss values of every batch\n",
    "        train_acc+=accuracy_fn(y_true=y,\n",
    "                                y_pred=y_pred_logits.argmax(dim=1))\n",
    "        \n",
    "        optimizer.zero_grad()\n",
    "\n",
    "        loss.backward()\n",
    "\n",
    "        optimizer.step() \n",
    "        #print progress\n",
    "        if batch%400 == 0:\n",
    "            print(f\"Looked at {batch*len(X)}/{len(train_dataloader.dataset)})\")\n",
    "        \n",
    "    #divide total train loss and accuracy by length of train dataloader\n",
    "    train_loss/=len(data_loader)\n",
    "    train_acc/=len(data_loader)\n",
    "    print(f\"Train loss: {train_loss:.5f}| Train acc: {train_acc:.2f}%\")\n",
    "\n",
    "\n",
    "def test_step(model: torch.nn.Module,\n",
    "              data_loader: torch.utils.data.DataLoader,\n",
    "              loss_fn: torch.nn.Module,\n",
    "              accuracy_fn,\n",
    "              device: torch.device= device):\n",
    "    #testing\n",
    "    testloss, test_acc = 0,0\n",
    "    model.eval()\n",
    "    with torch.inference_mode():\n",
    "        for X,y in data_loader:\n",
    "            X,y=X.to(device),y.to(device)\n",
    "            #forward pass\n",
    "            test_pred = model(X)\n",
    "\n",
    "            #calculate loss/acc\n",
    "            testloss+= loss_fn(test_pred,y)\n",
    "            test_acc+= accuracy_fn(y_true=y,\n",
    "                                   y_pred=test_pred.argmax(dim=1))#logits to prediction labels\n",
    "        \n",
    "        #calculate the test loss average \n",
    "        testloss/=len(test_data)\n",
    "        #test accuracy per batch\n",
    "        test_acc /= len(test_dataloader)\n",
    "        #print\n",
    "        print(f\"\\n Train loss: {train_loss:.4f} | test loss: {testloss:.4f}, test acc: {test_acc:.4f}%\")"
   ]
  },
  {
   "cell_type": "code",
   "execution_count": null,
   "id": "55f53b16",
   "metadata": {},
   "outputs": [
    {
     "name": "stderr",
     "output_type": "stream",
     "text": [
      "  0%|          | 0/5 [00:00<?, ?it/s]"
     ]
    },
    {
     "name": "stdout",
     "output_type": "stream",
     "text": [
      "Epoch: 0\n",
      "--\n",
      "Looked at 0/60000)\n",
      "Looked at 12800/60000)\n",
      "Looked at 25600/60000)\n",
      "Looked at 38400/60000)\n",
      "Looked at 51200/60000)\n",
      "Train loss: 0.65396| Train acc: 75.16%\n"
     ]
    },
    {
     "name": "stderr",
     "output_type": "stream",
     "text": [
      " 20%|██        | 1/5 [00:05<00:23,  5.90s/it]"
     ]
    },
    {
     "name": "stdout",
     "output_type": "stream",
     "text": [
      "\n",
      " Train loss: 0.4525 | test loss: 0.0227, test acc: 72.0547%\n",
      "Epoch: 1\n",
      "--\n",
      "Looked at 0/60000)\n",
      "Looked at 12800/60000)\n",
      "Looked at 25600/60000)\n",
      "Looked at 38400/60000)\n",
      "Looked at 51200/60000)\n",
      "Train loss: 0.63825| Train acc: 75.64%\n"
     ]
    },
    {
     "name": "stderr",
     "output_type": "stream",
     "text": [
      " 40%|████      | 2/5 [00:11<00:17,  5.84s/it]"
     ]
    },
    {
     "name": "stdout",
     "output_type": "stream",
     "text": [
      "\n",
      " Train loss: 0.4525 | test loss: 0.0212, test acc: 74.4908%\n",
      "Epoch: 2\n",
      "--\n",
      "Looked at 0/60000)\n",
      "Looked at 12800/60000)\n",
      "Looked at 25600/60000)\n",
      "Looked at 38400/60000)\n",
      "Looked at 51200/60000)\n",
      "Train loss: 0.63011| Train acc: 75.81%\n"
     ]
    },
    {
     "name": "stderr",
     "output_type": "stream",
     "text": [
      " 60%|██████    | 3/5 [00:17<00:11,  5.74s/it]"
     ]
    },
    {
     "name": "stdout",
     "output_type": "stream",
     "text": [
      "\n",
      " Train loss: 0.4525 | test loss: 0.0215, test acc: 74.2212%\n",
      "Epoch: 3\n",
      "--\n",
      "Looked at 0/60000)\n",
      "Looked at 12800/60000)\n",
      "Looked at 25600/60000)\n",
      "Looked at 38400/60000)\n",
      "Looked at 51200/60000)\n",
      "Train loss: 0.62262| Train acc: 76.10%\n"
     ]
    },
    {
     "name": "stderr",
     "output_type": "stream",
     "text": [
      " 80%|████████  | 4/5 [00:24<00:06,  6.45s/it]"
     ]
    },
    {
     "name": "stdout",
     "output_type": "stream",
     "text": [
      "\n",
      " Train loss: 0.4525 | test loss: 0.0213, test acc: 74.0216%\n",
      "Epoch: 4\n",
      "--\n",
      "Looked at 0/60000)\n",
      "Looked at 12800/60000)\n",
      "Looked at 25600/60000)\n",
      "Looked at 38400/60000)\n",
      "Looked at 51200/60000)\n",
      "Train loss: 0.61717| Train acc: 76.27%\n"
     ]
    },
    {
     "name": "stderr",
     "output_type": "stream",
     "text": [
      "100%|██████████| 5/5 [00:33<00:00,  6.73s/it]"
     ]
    },
    {
     "name": "stdout",
     "output_type": "stream",
     "text": [
      "\n",
      " Train loss: 0.4525 | test loss: 0.0215, test acc: 73.8419%\n",
      "Train time on cuda: 33.652 seconds\n"
     ]
    },
    {
     "name": "stderr",
     "output_type": "stream",
     "text": [
      "\n"
     ]
    }
   ],
   "source": [
    "\n",
    "#measure time\n",
    "from timeit import default_timer as Timer\n",
    "train_time_start_gpu=timer()\n",
    "\n",
    "#set epochs\n",
    "epochs=3\n",
    "\n",
    "\n",
    "for epoch in tqdm(range(epochs)):\n",
    "    print(f\"Epoch: {epoch}\\n--\")\n",
    "    train_step(model=model1,\n",
    "               data_loader=train_dataloader,\n",
    "               loss_fn=loss_fn,\n",
    "               optimizer=optimizer,\n",
    "               accuracy_fn=accuracy_fn,\n",
    "               device=device)\n",
    "    test_step(model=model1,\n",
    "               data_loader=test_dataloader,\n",
    "               loss_fn=loss_fn,\n",
    "               accuracy_fn=accuracy_fn,\n",
    "               device=device)\n",
    "    \n",
    "train_time_end_on_gpu=timer()\n",
    "total_train_time_model1=print_train_time(start=train_time_start_gpu,\n",
    "                                         end=train_time_end_on_gpu,\n",
    "                                         device=device)"
   ]
  },
  {
   "cell_type": "code",
   "execution_count": 57,
   "id": "9f3acd4c",
   "metadata": {},
   "outputs": [
    {
     "name": "stderr",
     "output_type": "stream",
     "text": [
      "100%|██████████| 313/313 [00:00<00:00, 461.92it/s]\n"
     ]
    },
    {
     "data": {
      "text/plain": [
       "{'model_name': 'FashionMNISTModelV1',\n",
       " 'model_loss': 0.6853153705596924,\n",
       " 'model_acc': 73.84185303514377}"
      ]
     },
     "execution_count": 57,
     "metadata": {},
     "output_type": "execute_result"
    }
   ],
   "source": [
    "model1_results=eval_model(model=model1,\n",
    "                          data_loader=test_dataloader,\n",
    "                          loss_fn=loss_fn,\n",
    "                          accuracy_fn=accuracy_fn)\n",
    "model1_results"
   ]
  }
 ],
 "metadata": {
  "kernelspec": {
   "display_name": ".venv",
   "language": "python",
   "name": "python3"
  },
  "language_info": {
   "codemirror_mode": {
    "name": "ipython",
    "version": 3
   },
   "file_extension": ".py",
   "mimetype": "text/x-python",
   "name": "python",
   "nbconvert_exporter": "python",
   "pygments_lexer": "ipython3",
   "version": "3.12.8"
  }
 },
 "nbformat": 4,
 "nbformat_minor": 5
}
