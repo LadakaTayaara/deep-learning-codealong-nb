{
 "cells": [
  {
   "cell_type": "code",
   "execution_count": 1,
   "id": "6de03126",
   "metadata": {},
   "outputs": [
    {
     "data": {
      "text/plain": [
       "'2.6.0+cu126'"
      ]
     },
     "execution_count": 1,
     "metadata": {},
     "output_type": "execute_result"
    }
   ],
   "source": [
    "#imprtoring pytorch and device agnostic code \n",
    "import torch \n",
    "from torch import nn\n",
    "\n",
    "torch.__version__"
   ]
  },
  {
   "cell_type": "code",
   "execution_count": 3,
   "id": "c134c73d",
   "metadata": {},
   "outputs": [
    {
     "data": {
      "text/plain": [
       "'cuda'"
      ]
     },
     "execution_count": 3,
     "metadata": {},
     "output_type": "execute_result"
    }
   ],
   "source": [
    "device= \"cuda\" if torch.cuda.is_available() else \"cpu\"\n",
    "device"
   ]
  },
  {
   "cell_type": "code",
   "execution_count": null,
   "id": "433390b8",
   "metadata": {},
   "outputs": [
    {
     "ename": "SyntaxError",
     "evalue": "(unicode error) 'unicodeescape' codec can't decode bytes in position 2-3: truncated \\UXXXXXXXX escape (3338938919.py, line 7)",
     "output_type": "error",
     "traceback": [
      "  \u001b[36mCell\u001b[39m\u001b[36m \u001b[39m\u001b[32mIn[4]\u001b[39m\u001b[32m, line 7\u001b[39m\n\u001b[31m    \u001b[39m\u001b[31mdata_path=Path(\"C:\\Users\\Abhinandan Singh\\Desktop\\AI & ML\\pythonpract\\mynotebooks\\mydata\")\u001b[39m\n                   ^\n\u001b[31mSyntaxError\u001b[39m\u001b[31m:\u001b[39m (unicode error) 'unicodeescape' codec can't decode bytes in position 2-3: truncated \\UXXXXXXXX escape\n"
     ]
    }
   ],
   "source": [
    "#get data \n",
    "#food101 (pizza steak sushi used here , along with 10% of images)\n",
    "\n",
    "import requests\n",
    "import zipfile \n",
    "from pathlib import Path\n",
    "data_path=Path(\"C:\\Users\\Abhinandan Singh\\Desktop\\AI & ML\\pythonpract\\mynotebooks\\mydata\")\n",
    "image_path=data_path/ \"pizza_steak_sushi\"\n",
    "\n",
    "if image_path.is_dir():\n",
    "    print(f\"{image_path}directory exists\")\n",
    "else:\n",
    "    print(f\"DNE , creating one \")\n",
    "    image_path.mkdir(parents=True, exist_ok=True)\n",
    "\n",
    "#download\n",
    "with open(data_path/\"pizza_steak_sushi.zip\",\"wb\") as f:\n",
    "    request=requests.get(\"https://github.com/LadakaTayaara/pytorch-deep-learning/blob/main/data/pizza_steak_sushi.zip\")\n",
    "    print(\"downloading pizza,steak and sushi data\")\n",
    "    f.write(request.content)\n",
    "\n",
    "#unzip the file\n",
    "with zipfile.ZipFile(data_path/\"pizza_steak_sushi.zip\",\"r\") as zip_ref:\n",
    "    print(\"unzipping \")\n",
    "    zip_ref.extractall(image_path)"
   ]
  }
 ],
 "metadata": {
  "kernelspec": {
   "display_name": ".venv",
   "language": "python",
   "name": "python3"
  },
  "language_info": {
   "codemirror_mode": {
    "name": "ipython",
    "version": 3
   },
   "file_extension": ".py",
   "mimetype": "text/x-python",
   "name": "python",
   "nbconvert_exporter": "python",
   "pygments_lexer": "ipython3",
   "version": "3.12.8"
  }
 },
 "nbformat": 4,
 "nbformat_minor": 5
}
